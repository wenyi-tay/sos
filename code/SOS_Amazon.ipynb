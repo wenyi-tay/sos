{
  "nbformat": 4,
  "nbformat_minor": 0,
  "metadata": {
    "colab": {
      "name": "EMNLP2021 paper Amazon",
      "provenance": [],
      "collapsed_sections": [],
      "toc_visible": true
    },
    "kernelspec": {
      "name": "python3",
      "display_name": "Python 3"
    },
    "language_info": {
      "name": "python"
    },
    "widgets": {
      "application/vnd.jupyter.widget-state+json": {
        "0fb8c70faf2b40748a48718c6ed7094a": {
          "model_module": "@jupyter-widgets/controls",
          "model_name": "HBoxModel",
          "state": {
            "_view_name": "HBoxView",
            "_dom_classes": [],
            "_model_name": "HBoxModel",
            "_view_module": "@jupyter-widgets/controls",
            "_model_module_version": "1.5.0",
            "_view_count": null,
            "_view_module_version": "1.5.0",
            "box_style": "",
            "layout": "IPY_MODEL_f2c3f8a6d31942ffbb3e5333fa817d6d",
            "_model_module": "@jupyter-widgets/controls",
            "children": [
              "IPY_MODEL_6554ab9ebedb4dcf843621e52125301c",
              "IPY_MODEL_82c3b935a30e47fd8cb2dc879fa222d2"
            ]
          }
        },
        "f2c3f8a6d31942ffbb3e5333fa817d6d": {
          "model_module": "@jupyter-widgets/base",
          "model_name": "LayoutModel",
          "state": {
            "_view_name": "LayoutView",
            "grid_template_rows": null,
            "right": null,
            "justify_content": null,
            "_view_module": "@jupyter-widgets/base",
            "overflow": null,
            "_model_module_version": "1.2.0",
            "_view_count": null,
            "flex_flow": null,
            "width": null,
            "min_width": null,
            "border": null,
            "align_items": null,
            "bottom": null,
            "_model_module": "@jupyter-widgets/base",
            "top": null,
            "grid_column": null,
            "overflow_y": null,
            "overflow_x": null,
            "grid_auto_flow": null,
            "grid_area": null,
            "grid_template_columns": null,
            "flex": null,
            "_model_name": "LayoutModel",
            "justify_items": null,
            "grid_row": null,
            "max_height": null,
            "align_content": null,
            "visibility": null,
            "align_self": null,
            "height": null,
            "min_height": null,
            "padding": null,
            "grid_auto_rows": null,
            "grid_gap": null,
            "max_width": null,
            "order": null,
            "_view_module_version": "1.2.0",
            "grid_template_areas": null,
            "object_position": null,
            "object_fit": null,
            "grid_auto_columns": null,
            "margin": null,
            "display": null,
            "left": null
          }
        },
        "6554ab9ebedb4dcf843621e52125301c": {
          "model_module": "@jupyter-widgets/controls",
          "model_name": "FloatProgressModel",
          "state": {
            "_view_name": "ProgressView",
            "style": "IPY_MODEL_fc73ae26d9234515b8e2144fac5929f7",
            "_dom_classes": [],
            "description": "100%",
            "_model_name": "FloatProgressModel",
            "bar_style": "success",
            "max": 405233603,
            "_view_module": "@jupyter-widgets/controls",
            "_model_module_version": "1.5.0",
            "value": 405233603,
            "_view_count": null,
            "_view_module_version": "1.5.0",
            "orientation": "horizontal",
            "min": 0,
            "description_tooltip": null,
            "_model_module": "@jupyter-widgets/controls",
            "layout": "IPY_MODEL_817c9a70bbe541f3bd63bcc44a4e4f80"
          }
        },
        "82c3b935a30e47fd8cb2dc879fa222d2": {
          "model_module": "@jupyter-widgets/controls",
          "model_name": "HTMLModel",
          "state": {
            "_view_name": "HTMLView",
            "style": "IPY_MODEL_7103198c396846f2b77496505ace3985",
            "_dom_classes": [],
            "description": "",
            "_model_name": "HTMLModel",
            "placeholder": "​",
            "_view_module": "@jupyter-widgets/controls",
            "_model_module_version": "1.5.0",
            "value": " 405M/405M [00:30&lt;00:00, 13.4MB/s]",
            "_view_count": null,
            "_view_module_version": "1.5.0",
            "description_tooltip": null,
            "_model_module": "@jupyter-widgets/controls",
            "layout": "IPY_MODEL_d8b71329f2984f17920953047e3a5343"
          }
        },
        "fc73ae26d9234515b8e2144fac5929f7": {
          "model_module": "@jupyter-widgets/controls",
          "model_name": "ProgressStyleModel",
          "state": {
            "_view_name": "StyleView",
            "_model_name": "ProgressStyleModel",
            "description_width": "initial",
            "_view_module": "@jupyter-widgets/base",
            "_model_module_version": "1.5.0",
            "_view_count": null,
            "_view_module_version": "1.2.0",
            "bar_color": null,
            "_model_module": "@jupyter-widgets/controls"
          }
        },
        "817c9a70bbe541f3bd63bcc44a4e4f80": {
          "model_module": "@jupyter-widgets/base",
          "model_name": "LayoutModel",
          "state": {
            "_view_name": "LayoutView",
            "grid_template_rows": null,
            "right": null,
            "justify_content": null,
            "_view_module": "@jupyter-widgets/base",
            "overflow": null,
            "_model_module_version": "1.2.0",
            "_view_count": null,
            "flex_flow": null,
            "width": null,
            "min_width": null,
            "border": null,
            "align_items": null,
            "bottom": null,
            "_model_module": "@jupyter-widgets/base",
            "top": null,
            "grid_column": null,
            "overflow_y": null,
            "overflow_x": null,
            "grid_auto_flow": null,
            "grid_area": null,
            "grid_template_columns": null,
            "flex": null,
            "_model_name": "LayoutModel",
            "justify_items": null,
            "grid_row": null,
            "max_height": null,
            "align_content": null,
            "visibility": null,
            "align_self": null,
            "height": null,
            "min_height": null,
            "padding": null,
            "grid_auto_rows": null,
            "grid_gap": null,
            "max_width": null,
            "order": null,
            "_view_module_version": "1.2.0",
            "grid_template_areas": null,
            "object_position": null,
            "object_fit": null,
            "grid_auto_columns": null,
            "margin": null,
            "display": null,
            "left": null
          }
        },
        "7103198c396846f2b77496505ace3985": {
          "model_module": "@jupyter-widgets/controls",
          "model_name": "DescriptionStyleModel",
          "state": {
            "_view_name": "StyleView",
            "_model_name": "DescriptionStyleModel",
            "description_width": "",
            "_view_module": "@jupyter-widgets/base",
            "_model_module_version": "1.5.0",
            "_view_count": null,
            "_view_module_version": "1.2.0",
            "_model_module": "@jupyter-widgets/controls"
          }
        },
        "d8b71329f2984f17920953047e3a5343": {
          "model_module": "@jupyter-widgets/base",
          "model_name": "LayoutModel",
          "state": {
            "_view_name": "LayoutView",
            "grid_template_rows": null,
            "right": null,
            "justify_content": null,
            "_view_module": "@jupyter-widgets/base",
            "overflow": null,
            "_model_module_version": "1.2.0",
            "_view_count": null,
            "flex_flow": null,
            "width": null,
            "min_width": null,
            "border": null,
            "align_items": null,
            "bottom": null,
            "_model_module": "@jupyter-widgets/base",
            "top": null,
            "grid_column": null,
            "overflow_y": null,
            "overflow_x": null,
            "grid_auto_flow": null,
            "grid_area": null,
            "grid_template_columns": null,
            "flex": null,
            "_model_name": "LayoutModel",
            "justify_items": null,
            "grid_row": null,
            "max_height": null,
            "align_content": null,
            "visibility": null,
            "align_self": null,
            "height": null,
            "min_height": null,
            "padding": null,
            "grid_auto_rows": null,
            "grid_gap": null,
            "max_width": null,
            "order": null,
            "_view_module_version": "1.2.0",
            "grid_template_areas": null,
            "object_position": null,
            "object_fit": null,
            "grid_auto_columns": null,
            "margin": null,
            "display": null,
            "left": null
          }
        },
        "fe82716ff39641e98792266776b19dc0": {
          "model_module": "@jupyter-widgets/controls",
          "model_name": "HBoxModel",
          "state": {
            "_view_name": "HBoxView",
            "_dom_classes": [],
            "_model_name": "HBoxModel",
            "_view_module": "@jupyter-widgets/controls",
            "_model_module_version": "1.5.0",
            "_view_count": null,
            "_view_module_version": "1.5.0",
            "box_style": "",
            "layout": "IPY_MODEL_504eb100c80049669902920d2a6bdce0",
            "_model_module": "@jupyter-widgets/controls",
            "children": [
              "IPY_MODEL_c161e48cdf8949f48f19d04c8ba8b061",
              "IPY_MODEL_33b6892b7b6c48f6a7b1521a8088ec51"
            ]
          }
        },
        "504eb100c80049669902920d2a6bdce0": {
          "model_module": "@jupyter-widgets/base",
          "model_name": "LayoutModel",
          "state": {
            "_view_name": "LayoutView",
            "grid_template_rows": null,
            "right": null,
            "justify_content": null,
            "_view_module": "@jupyter-widgets/base",
            "overflow": null,
            "_model_module_version": "1.2.0",
            "_view_count": null,
            "flex_flow": null,
            "width": null,
            "min_width": null,
            "border": null,
            "align_items": null,
            "bottom": null,
            "_model_module": "@jupyter-widgets/base",
            "top": null,
            "grid_column": null,
            "overflow_y": null,
            "overflow_x": null,
            "grid_auto_flow": null,
            "grid_area": null,
            "grid_template_columns": null,
            "flex": null,
            "_model_name": "LayoutModel",
            "justify_items": null,
            "grid_row": null,
            "max_height": null,
            "align_content": null,
            "visibility": null,
            "align_self": null,
            "height": null,
            "min_height": null,
            "padding": null,
            "grid_auto_rows": null,
            "grid_gap": null,
            "max_width": null,
            "order": null,
            "_view_module_version": "1.2.0",
            "grid_template_areas": null,
            "object_position": null,
            "object_fit": null,
            "grid_auto_columns": null,
            "margin": null,
            "display": null,
            "left": null
          }
        },
        "c161e48cdf8949f48f19d04c8ba8b061": {
          "model_module": "@jupyter-widgets/controls",
          "model_name": "FloatProgressModel",
          "state": {
            "_view_name": "ProgressView",
            "style": "IPY_MODEL_8ac4e3fc92af450aaed11173810a4da9",
            "_dom_classes": [],
            "description": "Epoch: 100%",
            "_model_name": "FloatProgressModel",
            "bar_style": "success",
            "max": 1,
            "_view_module": "@jupyter-widgets/controls",
            "_model_module_version": "1.5.0",
            "value": 1,
            "_view_count": null,
            "_view_module_version": "1.5.0",
            "orientation": "horizontal",
            "min": 0,
            "description_tooltip": null,
            "_model_module": "@jupyter-widgets/controls",
            "layout": "IPY_MODEL_c5b85c760ead4f46bb5aede538bff974"
          }
        },
        "33b6892b7b6c48f6a7b1521a8088ec51": {
          "model_module": "@jupyter-widgets/controls",
          "model_name": "HTMLModel",
          "state": {
            "_view_name": "HTMLView",
            "style": "IPY_MODEL_53778760be6744f2b15b175ed857f415",
            "_dom_classes": [],
            "description": "",
            "_model_name": "HTMLModel",
            "placeholder": "​",
            "_view_module": "@jupyter-widgets/controls",
            "_model_module_version": "1.5.0",
            "value": " 1/1 [06:21&lt;00:00, 381.48s/it]",
            "_view_count": null,
            "_view_module_version": "1.5.0",
            "description_tooltip": null,
            "_model_module": "@jupyter-widgets/controls",
            "layout": "IPY_MODEL_65ba06dcaeb64c05a943599f023008c4"
          }
        },
        "8ac4e3fc92af450aaed11173810a4da9": {
          "model_module": "@jupyter-widgets/controls",
          "model_name": "ProgressStyleModel",
          "state": {
            "_view_name": "StyleView",
            "_model_name": "ProgressStyleModel",
            "description_width": "initial",
            "_view_module": "@jupyter-widgets/base",
            "_model_module_version": "1.5.0",
            "_view_count": null,
            "_view_module_version": "1.2.0",
            "bar_color": null,
            "_model_module": "@jupyter-widgets/controls"
          }
        },
        "c5b85c760ead4f46bb5aede538bff974": {
          "model_module": "@jupyter-widgets/base",
          "model_name": "LayoutModel",
          "state": {
            "_view_name": "LayoutView",
            "grid_template_rows": null,
            "right": null,
            "justify_content": null,
            "_view_module": "@jupyter-widgets/base",
            "overflow": null,
            "_model_module_version": "1.2.0",
            "_view_count": null,
            "flex_flow": null,
            "width": null,
            "min_width": null,
            "border": null,
            "align_items": null,
            "bottom": null,
            "_model_module": "@jupyter-widgets/base",
            "top": null,
            "grid_column": null,
            "overflow_y": null,
            "overflow_x": null,
            "grid_auto_flow": null,
            "grid_area": null,
            "grid_template_columns": null,
            "flex": null,
            "_model_name": "LayoutModel",
            "justify_items": null,
            "grid_row": null,
            "max_height": null,
            "align_content": null,
            "visibility": null,
            "align_self": null,
            "height": null,
            "min_height": null,
            "padding": null,
            "grid_auto_rows": null,
            "grid_gap": null,
            "max_width": null,
            "order": null,
            "_view_module_version": "1.2.0",
            "grid_template_areas": null,
            "object_position": null,
            "object_fit": null,
            "grid_auto_columns": null,
            "margin": null,
            "display": null,
            "left": null
          }
        },
        "53778760be6744f2b15b175ed857f415": {
          "model_module": "@jupyter-widgets/controls",
          "model_name": "DescriptionStyleModel",
          "state": {
            "_view_name": "StyleView",
            "_model_name": "DescriptionStyleModel",
            "description_width": "",
            "_view_module": "@jupyter-widgets/base",
            "_model_module_version": "1.5.0",
            "_view_count": null,
            "_view_module_version": "1.2.0",
            "_model_module": "@jupyter-widgets/controls"
          }
        },
        "65ba06dcaeb64c05a943599f023008c4": {
          "model_module": "@jupyter-widgets/base",
          "model_name": "LayoutModel",
          "state": {
            "_view_name": "LayoutView",
            "grid_template_rows": null,
            "right": null,
            "justify_content": null,
            "_view_module": "@jupyter-widgets/base",
            "overflow": null,
            "_model_module_version": "1.2.0",
            "_view_count": null,
            "flex_flow": null,
            "width": null,
            "min_width": null,
            "border": null,
            "align_items": null,
            "bottom": null,
            "_model_module": "@jupyter-widgets/base",
            "top": null,
            "grid_column": null,
            "overflow_y": null,
            "overflow_x": null,
            "grid_auto_flow": null,
            "grid_area": null,
            "grid_template_columns": null,
            "flex": null,
            "_model_name": "LayoutModel",
            "justify_items": null,
            "grid_row": null,
            "max_height": null,
            "align_content": null,
            "visibility": null,
            "align_self": null,
            "height": null,
            "min_height": null,
            "padding": null,
            "grid_auto_rows": null,
            "grid_gap": null,
            "max_width": null,
            "order": null,
            "_view_module_version": "1.2.0",
            "grid_template_areas": null,
            "object_position": null,
            "object_fit": null,
            "grid_auto_columns": null,
            "margin": null,
            "display": null,
            "left": null
          }
        },
        "b7704d30497a410c909ae89bbea5e5da": {
          "model_module": "@jupyter-widgets/controls",
          "model_name": "HBoxModel",
          "state": {
            "_view_name": "HBoxView",
            "_dom_classes": [],
            "_model_name": "HBoxModel",
            "_view_module": "@jupyter-widgets/controls",
            "_model_module_version": "1.5.0",
            "_view_count": null,
            "_view_module_version": "1.5.0",
            "box_style": "",
            "layout": "IPY_MODEL_ec224a42f19d4f22a8d9e4adf3f8a104",
            "_model_module": "@jupyter-widgets/controls",
            "children": [
              "IPY_MODEL_8c30df2eb1e5427792b3c2f75a106d60",
              "IPY_MODEL_f573deec9499484491afffe37e94daed"
            ]
          }
        },
        "ec224a42f19d4f22a8d9e4adf3f8a104": {
          "model_module": "@jupyter-widgets/base",
          "model_name": "LayoutModel",
          "state": {
            "_view_name": "LayoutView",
            "grid_template_rows": null,
            "right": null,
            "justify_content": null,
            "_view_module": "@jupyter-widgets/base",
            "overflow": null,
            "_model_module_version": "1.2.0",
            "_view_count": null,
            "flex_flow": null,
            "width": null,
            "min_width": null,
            "border": null,
            "align_items": null,
            "bottom": null,
            "_model_module": "@jupyter-widgets/base",
            "top": null,
            "grid_column": null,
            "overflow_y": null,
            "overflow_x": null,
            "grid_auto_flow": null,
            "grid_area": null,
            "grid_template_columns": null,
            "flex": null,
            "_model_name": "LayoutModel",
            "justify_items": null,
            "grid_row": null,
            "max_height": null,
            "align_content": null,
            "visibility": null,
            "align_self": null,
            "height": null,
            "min_height": null,
            "padding": null,
            "grid_auto_rows": null,
            "grid_gap": null,
            "max_width": null,
            "order": null,
            "_view_module_version": "1.2.0",
            "grid_template_areas": null,
            "object_position": null,
            "object_fit": null,
            "grid_auto_columns": null,
            "margin": null,
            "display": null,
            "left": null
          }
        },
        "8c30df2eb1e5427792b3c2f75a106d60": {
          "model_module": "@jupyter-widgets/controls",
          "model_name": "FloatProgressModel",
          "state": {
            "_view_name": "ProgressView",
            "style": "IPY_MODEL_93e8b956ef28423b849dc4fb60aeb6a4",
            "_dom_classes": [],
            "description": "Iteration: 100%",
            "_model_name": "FloatProgressModel",
            "bar_style": "success",
            "max": 1000,
            "_view_module": "@jupyter-widgets/controls",
            "_model_module_version": "1.5.0",
            "value": 1000,
            "_view_count": null,
            "_view_module_version": "1.5.0",
            "orientation": "horizontal",
            "min": 0,
            "description_tooltip": null,
            "_model_module": "@jupyter-widgets/controls",
            "layout": "IPY_MODEL_700710b95cbb4be7b8ef0baffb625909"
          }
        },
        "f573deec9499484491afffe37e94daed": {
          "model_module": "@jupyter-widgets/controls",
          "model_name": "HTMLModel",
          "state": {
            "_view_name": "HTMLView",
            "style": "IPY_MODEL_0121c670defa403395ead4fbc8a700ee",
            "_dom_classes": [],
            "description": "",
            "_model_name": "HTMLModel",
            "placeholder": "​",
            "_view_module": "@jupyter-widgets/controls",
            "_model_module_version": "1.5.0",
            "value": " 1000/1000 [06:14&lt;00:00,  2.67it/s]",
            "_view_count": null,
            "_view_module_version": "1.5.0",
            "description_tooltip": null,
            "_model_module": "@jupyter-widgets/controls",
            "layout": "IPY_MODEL_393183b5430544c78296866ad683227b"
          }
        },
        "93e8b956ef28423b849dc4fb60aeb6a4": {
          "model_module": "@jupyter-widgets/controls",
          "model_name": "ProgressStyleModel",
          "state": {
            "_view_name": "StyleView",
            "_model_name": "ProgressStyleModel",
            "description_width": "initial",
            "_view_module": "@jupyter-widgets/base",
            "_model_module_version": "1.5.0",
            "_view_count": null,
            "_view_module_version": "1.2.0",
            "bar_color": null,
            "_model_module": "@jupyter-widgets/controls"
          }
        },
        "700710b95cbb4be7b8ef0baffb625909": {
          "model_module": "@jupyter-widgets/base",
          "model_name": "LayoutModel",
          "state": {
            "_view_name": "LayoutView",
            "grid_template_rows": null,
            "right": null,
            "justify_content": null,
            "_view_module": "@jupyter-widgets/base",
            "overflow": null,
            "_model_module_version": "1.2.0",
            "_view_count": null,
            "flex_flow": null,
            "width": null,
            "min_width": null,
            "border": null,
            "align_items": null,
            "bottom": null,
            "_model_module": "@jupyter-widgets/base",
            "top": null,
            "grid_column": null,
            "overflow_y": null,
            "overflow_x": null,
            "grid_auto_flow": null,
            "grid_area": null,
            "grid_template_columns": null,
            "flex": null,
            "_model_name": "LayoutModel",
            "justify_items": null,
            "grid_row": null,
            "max_height": null,
            "align_content": null,
            "visibility": null,
            "align_self": null,
            "height": null,
            "min_height": null,
            "padding": null,
            "grid_auto_rows": null,
            "grid_gap": null,
            "max_width": null,
            "order": null,
            "_view_module_version": "1.2.0",
            "grid_template_areas": null,
            "object_position": null,
            "object_fit": null,
            "grid_auto_columns": null,
            "margin": null,
            "display": null,
            "left": null
          }
        },
        "0121c670defa403395ead4fbc8a700ee": {
          "model_module": "@jupyter-widgets/controls",
          "model_name": "DescriptionStyleModel",
          "state": {
            "_view_name": "StyleView",
            "_model_name": "DescriptionStyleModel",
            "description_width": "",
            "_view_module": "@jupyter-widgets/base",
            "_model_module_version": "1.5.0",
            "_view_count": null,
            "_view_module_version": "1.2.0",
            "_model_module": "@jupyter-widgets/controls"
          }
        },
        "393183b5430544c78296866ad683227b": {
          "model_module": "@jupyter-widgets/base",
          "model_name": "LayoutModel",
          "state": {
            "_view_name": "LayoutView",
            "grid_template_rows": null,
            "right": null,
            "justify_content": null,
            "_view_module": "@jupyter-widgets/base",
            "overflow": null,
            "_model_module_version": "1.2.0",
            "_view_count": null,
            "flex_flow": null,
            "width": null,
            "min_width": null,
            "border": null,
            "align_items": null,
            "bottom": null,
            "_model_module": "@jupyter-widgets/base",
            "top": null,
            "grid_column": null,
            "overflow_y": null,
            "overflow_x": null,
            "grid_auto_flow": null,
            "grid_area": null,
            "grid_template_columns": null,
            "flex": null,
            "_model_name": "LayoutModel",
            "justify_items": null,
            "grid_row": null,
            "max_height": null,
            "align_content": null,
            "visibility": null,
            "align_self": null,
            "height": null,
            "min_height": null,
            "padding": null,
            "grid_auto_rows": null,
            "grid_gap": null,
            "max_width": null,
            "order": null,
            "_view_module_version": "1.2.0",
            "grid_template_areas": null,
            "object_position": null,
            "object_fit": null,
            "grid_auto_columns": null,
            "margin": null,
            "display": null,
            "left": null
          }
        },
        "76861efc0222485197929191df62fe33": {
          "model_module": "@jupyter-widgets/controls",
          "model_name": "HBoxModel",
          "state": {
            "_view_name": "HBoxView",
            "_dom_classes": [],
            "_model_name": "HBoxModel",
            "_view_module": "@jupyter-widgets/controls",
            "_model_module_version": "1.5.0",
            "_view_count": null,
            "_view_module_version": "1.5.0",
            "box_style": "",
            "layout": "IPY_MODEL_2ded1c22ee89441091bc4e72ffd56d01",
            "_model_module": "@jupyter-widgets/controls",
            "children": [
              "IPY_MODEL_576926b1452441adb7df9aabc070e6a6",
              "IPY_MODEL_fe49362f8a934542b6420dc94803155d"
            ]
          }
        },
        "2ded1c22ee89441091bc4e72ffd56d01": {
          "model_module": "@jupyter-widgets/base",
          "model_name": "LayoutModel",
          "state": {
            "_view_name": "LayoutView",
            "grid_template_rows": null,
            "right": null,
            "justify_content": null,
            "_view_module": "@jupyter-widgets/base",
            "overflow": null,
            "_model_module_version": "1.2.0",
            "_view_count": null,
            "flex_flow": null,
            "width": null,
            "min_width": null,
            "border": null,
            "align_items": null,
            "bottom": null,
            "_model_module": "@jupyter-widgets/base",
            "top": null,
            "grid_column": null,
            "overflow_y": null,
            "overflow_x": null,
            "grid_auto_flow": null,
            "grid_area": null,
            "grid_template_columns": null,
            "flex": null,
            "_model_name": "LayoutModel",
            "justify_items": null,
            "grid_row": null,
            "max_height": null,
            "align_content": null,
            "visibility": null,
            "align_self": null,
            "height": null,
            "min_height": null,
            "padding": null,
            "grid_auto_rows": null,
            "grid_gap": null,
            "max_width": null,
            "order": null,
            "_view_module_version": "1.2.0",
            "grid_template_areas": null,
            "object_position": null,
            "object_fit": null,
            "grid_auto_columns": null,
            "margin": null,
            "display": null,
            "left": null
          }
        },
        "576926b1452441adb7df9aabc070e6a6": {
          "model_module": "@jupyter-widgets/controls",
          "model_name": "FloatProgressModel",
          "state": {
            "_view_name": "ProgressView",
            "style": "IPY_MODEL_83a726f515c447c086f7093c86adc470",
            "_dom_classes": [],
            "description": "Batches: 100%",
            "_model_name": "FloatProgressModel",
            "bar_style": "success",
            "max": 52,
            "_view_module": "@jupyter-widgets/controls",
            "_model_module_version": "1.5.0",
            "value": 52,
            "_view_count": null,
            "_view_module_version": "1.5.0",
            "orientation": "horizontal",
            "min": 0,
            "description_tooltip": null,
            "_model_module": "@jupyter-widgets/controls",
            "layout": "IPY_MODEL_5e90b1fea06d4e3dbff4b13e87cf7c46"
          }
        },
        "fe49362f8a934542b6420dc94803155d": {
          "model_module": "@jupyter-widgets/controls",
          "model_name": "HTMLModel",
          "state": {
            "_view_name": "HTMLView",
            "style": "IPY_MODEL_ed23ddc46b914cfa86d76cd91096f77f",
            "_dom_classes": [],
            "description": "",
            "_model_name": "HTMLModel",
            "placeholder": "​",
            "_view_module": "@jupyter-widgets/controls",
            "_model_module_version": "1.5.0",
            "value": " 52/52 [00:04&lt;00:00, 11.71it/s]",
            "_view_count": null,
            "_view_module_version": "1.5.0",
            "description_tooltip": null,
            "_model_module": "@jupyter-widgets/controls",
            "layout": "IPY_MODEL_577cc60019124ade9b1fd424831547a4"
          }
        },
        "83a726f515c447c086f7093c86adc470": {
          "model_module": "@jupyter-widgets/controls",
          "model_name": "ProgressStyleModel",
          "state": {
            "_view_name": "StyleView",
            "_model_name": "ProgressStyleModel",
            "description_width": "initial",
            "_view_module": "@jupyter-widgets/base",
            "_model_module_version": "1.5.0",
            "_view_count": null,
            "_view_module_version": "1.2.0",
            "bar_color": null,
            "_model_module": "@jupyter-widgets/controls"
          }
        },
        "5e90b1fea06d4e3dbff4b13e87cf7c46": {
          "model_module": "@jupyter-widgets/base",
          "model_name": "LayoutModel",
          "state": {
            "_view_name": "LayoutView",
            "grid_template_rows": null,
            "right": null,
            "justify_content": null,
            "_view_module": "@jupyter-widgets/base",
            "overflow": null,
            "_model_module_version": "1.2.0",
            "_view_count": null,
            "flex_flow": null,
            "width": null,
            "min_width": null,
            "border": null,
            "align_items": null,
            "bottom": null,
            "_model_module": "@jupyter-widgets/base",
            "top": null,
            "grid_column": null,
            "overflow_y": null,
            "overflow_x": null,
            "grid_auto_flow": null,
            "grid_area": null,
            "grid_template_columns": null,
            "flex": null,
            "_model_name": "LayoutModel",
            "justify_items": null,
            "grid_row": null,
            "max_height": null,
            "align_content": null,
            "visibility": null,
            "align_self": null,
            "height": null,
            "min_height": null,
            "padding": null,
            "grid_auto_rows": null,
            "grid_gap": null,
            "max_width": null,
            "order": null,
            "_view_module_version": "1.2.0",
            "grid_template_areas": null,
            "object_position": null,
            "object_fit": null,
            "grid_auto_columns": null,
            "margin": null,
            "display": null,
            "left": null
          }
        },
        "ed23ddc46b914cfa86d76cd91096f77f": {
          "model_module": "@jupyter-widgets/controls",
          "model_name": "DescriptionStyleModel",
          "state": {
            "_view_name": "StyleView",
            "_model_name": "DescriptionStyleModel",
            "description_width": "",
            "_view_module": "@jupyter-widgets/base",
            "_model_module_version": "1.5.0",
            "_view_count": null,
            "_view_module_version": "1.2.0",
            "_model_module": "@jupyter-widgets/controls"
          }
        },
        "577cc60019124ade9b1fd424831547a4": {
          "model_module": "@jupyter-widgets/base",
          "model_name": "LayoutModel",
          "state": {
            "_view_name": "LayoutView",
            "grid_template_rows": null,
            "right": null,
            "justify_content": null,
            "_view_module": "@jupyter-widgets/base",
            "overflow": null,
            "_model_module_version": "1.2.0",
            "_view_count": null,
            "flex_flow": null,
            "width": null,
            "min_width": null,
            "border": null,
            "align_items": null,
            "bottom": null,
            "_model_module": "@jupyter-widgets/base",
            "top": null,
            "grid_column": null,
            "overflow_y": null,
            "overflow_x": null,
            "grid_auto_flow": null,
            "grid_area": null,
            "grid_template_columns": null,
            "flex": null,
            "_model_name": "LayoutModel",
            "justify_items": null,
            "grid_row": null,
            "max_height": null,
            "align_content": null,
            "visibility": null,
            "align_self": null,
            "height": null,
            "min_height": null,
            "padding": null,
            "grid_auto_rows": null,
            "grid_gap": null,
            "max_width": null,
            "order": null,
            "_view_module_version": "1.2.0",
            "grid_template_areas": null,
            "object_position": null,
            "object_fit": null,
            "grid_auto_columns": null,
            "margin": null,
            "display": null,
            "left": null
          }
        },
        "c1cb8155edc0461c8aacc9a3f46056ac": {
          "model_module": "@jupyter-widgets/controls",
          "model_name": "HBoxModel",
          "state": {
            "_view_name": "HBoxView",
            "_dom_classes": [],
            "_model_name": "HBoxModel",
            "_view_module": "@jupyter-widgets/controls",
            "_model_module_version": "1.5.0",
            "_view_count": null,
            "_view_module_version": "1.5.0",
            "box_style": "",
            "layout": "IPY_MODEL_863e84f0406f4a5db19554ad699c280f",
            "_model_module": "@jupyter-widgets/controls",
            "children": [
              "IPY_MODEL_4c80054baceb45b7b38764ccc6f2ef86",
              "IPY_MODEL_ee3cf09aa4414bcaabfbfc2c88174459"
            ]
          }
        },
        "863e84f0406f4a5db19554ad699c280f": {
          "model_module": "@jupyter-widgets/base",
          "model_name": "LayoutModel",
          "state": {
            "_view_name": "LayoutView",
            "grid_template_rows": null,
            "right": null,
            "justify_content": null,
            "_view_module": "@jupyter-widgets/base",
            "overflow": null,
            "_model_module_version": "1.2.0",
            "_view_count": null,
            "flex_flow": null,
            "width": null,
            "min_width": null,
            "border": null,
            "align_items": null,
            "bottom": null,
            "_model_module": "@jupyter-widgets/base",
            "top": null,
            "grid_column": null,
            "overflow_y": null,
            "overflow_x": null,
            "grid_auto_flow": null,
            "grid_area": null,
            "grid_template_columns": null,
            "flex": null,
            "_model_name": "LayoutModel",
            "justify_items": null,
            "grid_row": null,
            "max_height": null,
            "align_content": null,
            "visibility": null,
            "align_self": null,
            "height": null,
            "min_height": null,
            "padding": null,
            "grid_auto_rows": null,
            "grid_gap": null,
            "max_width": null,
            "order": null,
            "_view_module_version": "1.2.0",
            "grid_template_areas": null,
            "object_position": null,
            "object_fit": null,
            "grid_auto_columns": null,
            "margin": null,
            "display": null,
            "left": null
          }
        },
        "4c80054baceb45b7b38764ccc6f2ef86": {
          "model_module": "@jupyter-widgets/controls",
          "model_name": "FloatProgressModel",
          "state": {
            "_view_name": "ProgressView",
            "style": "IPY_MODEL_fd8b26b98eb8427894651b557d9aa597",
            "_dom_classes": [],
            "description": "Batches: 100%",
            "_model_name": "FloatProgressModel",
            "bar_style": "success",
            "max": 52,
            "_view_module": "@jupyter-widgets/controls",
            "_model_module_version": "1.5.0",
            "value": 52,
            "_view_count": null,
            "_view_module_version": "1.5.0",
            "orientation": "horizontal",
            "min": 0,
            "description_tooltip": null,
            "_model_module": "@jupyter-widgets/controls",
            "layout": "IPY_MODEL_0c06125719f64c6db1001f5d672f0982"
          }
        },
        "ee3cf09aa4414bcaabfbfc2c88174459": {
          "model_module": "@jupyter-widgets/controls",
          "model_name": "HTMLModel",
          "state": {
            "_view_name": "HTMLView",
            "style": "IPY_MODEL_a6ecf77e8c2145daa82f50eade0fad90",
            "_dom_classes": [],
            "description": "",
            "_model_name": "HTMLModel",
            "placeholder": "​",
            "_view_module": "@jupyter-widgets/controls",
            "_model_module_version": "1.5.0",
            "value": " 52/52 [00:04&lt;00:00, 11.29it/s]",
            "_view_count": null,
            "_view_module_version": "1.5.0",
            "description_tooltip": null,
            "_model_module": "@jupyter-widgets/controls",
            "layout": "IPY_MODEL_6ba0080be71149f4be87ad21177655c9"
          }
        },
        "fd8b26b98eb8427894651b557d9aa597": {
          "model_module": "@jupyter-widgets/controls",
          "model_name": "ProgressStyleModel",
          "state": {
            "_view_name": "StyleView",
            "_model_name": "ProgressStyleModel",
            "description_width": "initial",
            "_view_module": "@jupyter-widgets/base",
            "_model_module_version": "1.5.0",
            "_view_count": null,
            "_view_module_version": "1.2.0",
            "bar_color": null,
            "_model_module": "@jupyter-widgets/controls"
          }
        },
        "0c06125719f64c6db1001f5d672f0982": {
          "model_module": "@jupyter-widgets/base",
          "model_name": "LayoutModel",
          "state": {
            "_view_name": "LayoutView",
            "grid_template_rows": null,
            "right": null,
            "justify_content": null,
            "_view_module": "@jupyter-widgets/base",
            "overflow": null,
            "_model_module_version": "1.2.0",
            "_view_count": null,
            "flex_flow": null,
            "width": null,
            "min_width": null,
            "border": null,
            "align_items": null,
            "bottom": null,
            "_model_module": "@jupyter-widgets/base",
            "top": null,
            "grid_column": null,
            "overflow_y": null,
            "overflow_x": null,
            "grid_auto_flow": null,
            "grid_area": null,
            "grid_template_columns": null,
            "flex": null,
            "_model_name": "LayoutModel",
            "justify_items": null,
            "grid_row": null,
            "max_height": null,
            "align_content": null,
            "visibility": null,
            "align_self": null,
            "height": null,
            "min_height": null,
            "padding": null,
            "grid_auto_rows": null,
            "grid_gap": null,
            "max_width": null,
            "order": null,
            "_view_module_version": "1.2.0",
            "grid_template_areas": null,
            "object_position": null,
            "object_fit": null,
            "grid_auto_columns": null,
            "margin": null,
            "display": null,
            "left": null
          }
        },
        "a6ecf77e8c2145daa82f50eade0fad90": {
          "model_module": "@jupyter-widgets/controls",
          "model_name": "DescriptionStyleModel",
          "state": {
            "_view_name": "StyleView",
            "_model_name": "DescriptionStyleModel",
            "description_width": "",
            "_view_module": "@jupyter-widgets/base",
            "_model_module_version": "1.5.0",
            "_view_count": null,
            "_view_module_version": "1.2.0",
            "_model_module": "@jupyter-widgets/controls"
          }
        },
        "6ba0080be71149f4be87ad21177655c9": {
          "model_module": "@jupyter-widgets/base",
          "model_name": "LayoutModel",
          "state": {
            "_view_name": "LayoutView",
            "grid_template_rows": null,
            "right": null,
            "justify_content": null,
            "_view_module": "@jupyter-widgets/base",
            "overflow": null,
            "_model_module_version": "1.2.0",
            "_view_count": null,
            "flex_flow": null,
            "width": null,
            "min_width": null,
            "border": null,
            "align_items": null,
            "bottom": null,
            "_model_module": "@jupyter-widgets/base",
            "top": null,
            "grid_column": null,
            "overflow_y": null,
            "overflow_x": null,
            "grid_auto_flow": null,
            "grid_area": null,
            "grid_template_columns": null,
            "flex": null,
            "_model_name": "LayoutModel",
            "justify_items": null,
            "grid_row": null,
            "max_height": null,
            "align_content": null,
            "visibility": null,
            "align_self": null,
            "height": null,
            "min_height": null,
            "padding": null,
            "grid_auto_rows": null,
            "grid_gap": null,
            "max_width": null,
            "order": null,
            "_view_module_version": "1.2.0",
            "grid_template_areas": null,
            "object_position": null,
            "object_fit": null,
            "grid_auto_columns": null,
            "margin": null,
            "display": null,
            "left": null
          }
        },
        "4c258c9bba4649f286b88335af17e2f0": {
          "model_module": "@jupyter-widgets/controls",
          "model_name": "HBoxModel",
          "state": {
            "_view_name": "HBoxView",
            "_dom_classes": [],
            "_model_name": "HBoxModel",
            "_view_module": "@jupyter-widgets/controls",
            "_model_module_version": "1.5.0",
            "_view_count": null,
            "_view_module_version": "1.5.0",
            "box_style": "",
            "layout": "IPY_MODEL_b6cf33e62f904f6891575fff938e5af9",
            "_model_module": "@jupyter-widgets/controls",
            "children": [
              "IPY_MODEL_1802e609c4b54aa68f2634663bbebfcf",
              "IPY_MODEL_e62c15d09863496c9f5f681e98f78101"
            ]
          }
        },
        "b6cf33e62f904f6891575fff938e5af9": {
          "model_module": "@jupyter-widgets/base",
          "model_name": "LayoutModel",
          "state": {
            "_view_name": "LayoutView",
            "grid_template_rows": null,
            "right": null,
            "justify_content": null,
            "_view_module": "@jupyter-widgets/base",
            "overflow": null,
            "_model_module_version": "1.2.0",
            "_view_count": null,
            "flex_flow": null,
            "width": null,
            "min_width": null,
            "border": null,
            "align_items": null,
            "bottom": null,
            "_model_module": "@jupyter-widgets/base",
            "top": null,
            "grid_column": null,
            "overflow_y": null,
            "overflow_x": null,
            "grid_auto_flow": null,
            "grid_area": null,
            "grid_template_columns": null,
            "flex": null,
            "_model_name": "LayoutModel",
            "justify_items": null,
            "grid_row": null,
            "max_height": null,
            "align_content": null,
            "visibility": null,
            "align_self": null,
            "height": null,
            "min_height": null,
            "padding": null,
            "grid_auto_rows": null,
            "grid_gap": null,
            "max_width": null,
            "order": null,
            "_view_module_version": "1.2.0",
            "grid_template_areas": null,
            "object_position": null,
            "object_fit": null,
            "grid_auto_columns": null,
            "margin": null,
            "display": null,
            "left": null
          }
        },
        "1802e609c4b54aa68f2634663bbebfcf": {
          "model_module": "@jupyter-widgets/controls",
          "model_name": "FloatProgressModel",
          "state": {
            "_view_name": "ProgressView",
            "style": "IPY_MODEL_f7a3b67ea44540d784cbb685c4dd5d2c",
            "_dom_classes": [],
            "description": "Epoch: 100%",
            "_model_name": "FloatProgressModel",
            "bar_style": "success",
            "max": 1,
            "_view_module": "@jupyter-widgets/controls",
            "_model_module_version": "1.5.0",
            "value": 1,
            "_view_count": null,
            "_view_module_version": "1.5.0",
            "orientation": "horizontal",
            "min": 0,
            "description_tooltip": null,
            "_model_module": "@jupyter-widgets/controls",
            "layout": "IPY_MODEL_7f93d3dbc4604b8eb663a92fddec10f6"
          }
        },
        "e62c15d09863496c9f5f681e98f78101": {
          "model_module": "@jupyter-widgets/controls",
          "model_name": "HTMLModel",
          "state": {
            "_view_name": "HTMLView",
            "style": "IPY_MODEL_849d8807e9bf4bc2a7aefe733db3367e",
            "_dom_classes": [],
            "description": "",
            "_model_name": "HTMLModel",
            "placeholder": "​",
            "_view_module": "@jupyter-widgets/controls",
            "_model_module_version": "1.5.0",
            "value": " 1/1 [07:24&lt;00:00, 444.89s/it]",
            "_view_count": null,
            "_view_module_version": "1.5.0",
            "description_tooltip": null,
            "_model_module": "@jupyter-widgets/controls",
            "layout": "IPY_MODEL_fc7c258c1eb54eaa81c49da8ce3de010"
          }
        },
        "f7a3b67ea44540d784cbb685c4dd5d2c": {
          "model_module": "@jupyter-widgets/controls",
          "model_name": "ProgressStyleModel",
          "state": {
            "_view_name": "StyleView",
            "_model_name": "ProgressStyleModel",
            "description_width": "initial",
            "_view_module": "@jupyter-widgets/base",
            "_model_module_version": "1.5.0",
            "_view_count": null,
            "_view_module_version": "1.2.0",
            "bar_color": null,
            "_model_module": "@jupyter-widgets/controls"
          }
        },
        "7f93d3dbc4604b8eb663a92fddec10f6": {
          "model_module": "@jupyter-widgets/base",
          "model_name": "LayoutModel",
          "state": {
            "_view_name": "LayoutView",
            "grid_template_rows": null,
            "right": null,
            "justify_content": null,
            "_view_module": "@jupyter-widgets/base",
            "overflow": null,
            "_model_module_version": "1.2.0",
            "_view_count": null,
            "flex_flow": null,
            "width": null,
            "min_width": null,
            "border": null,
            "align_items": null,
            "bottom": null,
            "_model_module": "@jupyter-widgets/base",
            "top": null,
            "grid_column": null,
            "overflow_y": null,
            "overflow_x": null,
            "grid_auto_flow": null,
            "grid_area": null,
            "grid_template_columns": null,
            "flex": null,
            "_model_name": "LayoutModel",
            "justify_items": null,
            "grid_row": null,
            "max_height": null,
            "align_content": null,
            "visibility": null,
            "align_self": null,
            "height": null,
            "min_height": null,
            "padding": null,
            "grid_auto_rows": null,
            "grid_gap": null,
            "max_width": null,
            "order": null,
            "_view_module_version": "1.2.0",
            "grid_template_areas": null,
            "object_position": null,
            "object_fit": null,
            "grid_auto_columns": null,
            "margin": null,
            "display": null,
            "left": null
          }
        },
        "849d8807e9bf4bc2a7aefe733db3367e": {
          "model_module": "@jupyter-widgets/controls",
          "model_name": "DescriptionStyleModel",
          "state": {
            "_view_name": "StyleView",
            "_model_name": "DescriptionStyleModel",
            "description_width": "",
            "_view_module": "@jupyter-widgets/base",
            "_model_module_version": "1.5.0",
            "_view_count": null,
            "_view_module_version": "1.2.0",
            "_model_module": "@jupyter-widgets/controls"
          }
        },
        "fc7c258c1eb54eaa81c49da8ce3de010": {
          "model_module": "@jupyter-widgets/base",
          "model_name": "LayoutModel",
          "state": {
            "_view_name": "LayoutView",
            "grid_template_rows": null,
            "right": null,
            "justify_content": null,
            "_view_module": "@jupyter-widgets/base",
            "overflow": null,
            "_model_module_version": "1.2.0",
            "_view_count": null,
            "flex_flow": null,
            "width": null,
            "min_width": null,
            "border": null,
            "align_items": null,
            "bottom": null,
            "_model_module": "@jupyter-widgets/base",
            "top": null,
            "grid_column": null,
            "overflow_y": null,
            "overflow_x": null,
            "grid_auto_flow": null,
            "grid_area": null,
            "grid_template_columns": null,
            "flex": null,
            "_model_name": "LayoutModel",
            "justify_items": null,
            "grid_row": null,
            "max_height": null,
            "align_content": null,
            "visibility": null,
            "align_self": null,
            "height": null,
            "min_height": null,
            "padding": null,
            "grid_auto_rows": null,
            "grid_gap": null,
            "max_width": null,
            "order": null,
            "_view_module_version": "1.2.0",
            "grid_template_areas": null,
            "object_position": null,
            "object_fit": null,
            "grid_auto_columns": null,
            "margin": null,
            "display": null,
            "left": null
          }
        },
        "4897c0d86d584dbd9c082e1fda7ba824": {
          "model_module": "@jupyter-widgets/controls",
          "model_name": "HBoxModel",
          "state": {
            "_view_name": "HBoxView",
            "_dom_classes": [],
            "_model_name": "HBoxModel",
            "_view_module": "@jupyter-widgets/controls",
            "_model_module_version": "1.5.0",
            "_view_count": null,
            "_view_module_version": "1.5.0",
            "box_style": "",
            "layout": "IPY_MODEL_225601b3364c4fc7bded0097f354eed4",
            "_model_module": "@jupyter-widgets/controls",
            "children": [
              "IPY_MODEL_8504c7e22baa42a99fea3542ea6a1472",
              "IPY_MODEL_2a470fbd315e4262910422e8039c69ac"
            ]
          }
        },
        "225601b3364c4fc7bded0097f354eed4": {
          "model_module": "@jupyter-widgets/base",
          "model_name": "LayoutModel",
          "state": {
            "_view_name": "LayoutView",
            "grid_template_rows": null,
            "right": null,
            "justify_content": null,
            "_view_module": "@jupyter-widgets/base",
            "overflow": null,
            "_model_module_version": "1.2.0",
            "_view_count": null,
            "flex_flow": null,
            "width": null,
            "min_width": null,
            "border": null,
            "align_items": null,
            "bottom": null,
            "_model_module": "@jupyter-widgets/base",
            "top": null,
            "grid_column": null,
            "overflow_y": null,
            "overflow_x": null,
            "grid_auto_flow": null,
            "grid_area": null,
            "grid_template_columns": null,
            "flex": null,
            "_model_name": "LayoutModel",
            "justify_items": null,
            "grid_row": null,
            "max_height": null,
            "align_content": null,
            "visibility": null,
            "align_self": null,
            "height": null,
            "min_height": null,
            "padding": null,
            "grid_auto_rows": null,
            "grid_gap": null,
            "max_width": null,
            "order": null,
            "_view_module_version": "1.2.0",
            "grid_template_areas": null,
            "object_position": null,
            "object_fit": null,
            "grid_auto_columns": null,
            "margin": null,
            "display": null,
            "left": null
          }
        },
        "8504c7e22baa42a99fea3542ea6a1472": {
          "model_module": "@jupyter-widgets/controls",
          "model_name": "FloatProgressModel",
          "state": {
            "_view_name": "ProgressView",
            "style": "IPY_MODEL_60b3e8eea2d541c78c1458ec9004e60c",
            "_dom_classes": [],
            "description": "Iteration: 100%",
            "_model_name": "FloatProgressModel",
            "bar_style": "success",
            "max": 1000,
            "_view_module": "@jupyter-widgets/controls",
            "_model_module_version": "1.5.0",
            "value": 1000,
            "_view_count": null,
            "_view_module_version": "1.5.0",
            "orientation": "horizontal",
            "min": 0,
            "description_tooltip": null,
            "_model_module": "@jupyter-widgets/controls",
            "layout": "IPY_MODEL_ed07d645f7f145ec8677d0efb0ee5a18"
          }
        },
        "2a470fbd315e4262910422e8039c69ac": {
          "model_module": "@jupyter-widgets/controls",
          "model_name": "HTMLModel",
          "state": {
            "_view_name": "HTMLView",
            "style": "IPY_MODEL_63f9144c2a0e42949fbaff62c896c930",
            "_dom_classes": [],
            "description": "",
            "_model_name": "HTMLModel",
            "placeholder": "​",
            "_view_module": "@jupyter-widgets/controls",
            "_model_module_version": "1.5.0",
            "value": " 1000/1000 [07:24&lt;00:00,  2.25it/s]",
            "_view_count": null,
            "_view_module_version": "1.5.0",
            "description_tooltip": null,
            "_model_module": "@jupyter-widgets/controls",
            "layout": "IPY_MODEL_acd18f369ce14fc682295ce15649c210"
          }
        },
        "60b3e8eea2d541c78c1458ec9004e60c": {
          "model_module": "@jupyter-widgets/controls",
          "model_name": "ProgressStyleModel",
          "state": {
            "_view_name": "StyleView",
            "_model_name": "ProgressStyleModel",
            "description_width": "initial",
            "_view_module": "@jupyter-widgets/base",
            "_model_module_version": "1.5.0",
            "_view_count": null,
            "_view_module_version": "1.2.0",
            "bar_color": null,
            "_model_module": "@jupyter-widgets/controls"
          }
        },
        "ed07d645f7f145ec8677d0efb0ee5a18": {
          "model_module": "@jupyter-widgets/base",
          "model_name": "LayoutModel",
          "state": {
            "_view_name": "LayoutView",
            "grid_template_rows": null,
            "right": null,
            "justify_content": null,
            "_view_module": "@jupyter-widgets/base",
            "overflow": null,
            "_model_module_version": "1.2.0",
            "_view_count": null,
            "flex_flow": null,
            "width": null,
            "min_width": null,
            "border": null,
            "align_items": null,
            "bottom": null,
            "_model_module": "@jupyter-widgets/base",
            "top": null,
            "grid_column": null,
            "overflow_y": null,
            "overflow_x": null,
            "grid_auto_flow": null,
            "grid_area": null,
            "grid_template_columns": null,
            "flex": null,
            "_model_name": "LayoutModel",
            "justify_items": null,
            "grid_row": null,
            "max_height": null,
            "align_content": null,
            "visibility": null,
            "align_self": null,
            "height": null,
            "min_height": null,
            "padding": null,
            "grid_auto_rows": null,
            "grid_gap": null,
            "max_width": null,
            "order": null,
            "_view_module_version": "1.2.0",
            "grid_template_areas": null,
            "object_position": null,
            "object_fit": null,
            "grid_auto_columns": null,
            "margin": null,
            "display": null,
            "left": null
          }
        },
        "63f9144c2a0e42949fbaff62c896c930": {
          "model_module": "@jupyter-widgets/controls",
          "model_name": "DescriptionStyleModel",
          "state": {
            "_view_name": "StyleView",
            "_model_name": "DescriptionStyleModel",
            "description_width": "",
            "_view_module": "@jupyter-widgets/base",
            "_model_module_version": "1.5.0",
            "_view_count": null,
            "_view_module_version": "1.2.0",
            "_model_module": "@jupyter-widgets/controls"
          }
        },
        "acd18f369ce14fc682295ce15649c210": {
          "model_module": "@jupyter-widgets/base",
          "model_name": "LayoutModel",
          "state": {
            "_view_name": "LayoutView",
            "grid_template_rows": null,
            "right": null,
            "justify_content": null,
            "_view_module": "@jupyter-widgets/base",
            "overflow": null,
            "_model_module_version": "1.2.0",
            "_view_count": null,
            "flex_flow": null,
            "width": null,
            "min_width": null,
            "border": null,
            "align_items": null,
            "bottom": null,
            "_model_module": "@jupyter-widgets/base",
            "top": null,
            "grid_column": null,
            "overflow_y": null,
            "overflow_x": null,
            "grid_auto_flow": null,
            "grid_area": null,
            "grid_template_columns": null,
            "flex": null,
            "_model_name": "LayoutModel",
            "justify_items": null,
            "grid_row": null,
            "max_height": null,
            "align_content": null,
            "visibility": null,
            "align_self": null,
            "height": null,
            "min_height": null,
            "padding": null,
            "grid_auto_rows": null,
            "grid_gap": null,
            "max_width": null,
            "order": null,
            "_view_module_version": "1.2.0",
            "grid_template_areas": null,
            "object_position": null,
            "object_fit": null,
            "grid_auto_columns": null,
            "margin": null,
            "display": null,
            "left": null
          }
        },
        "736dd9c55a7447788b5daec692783647": {
          "model_module": "@jupyter-widgets/controls",
          "model_name": "HBoxModel",
          "state": {
            "_view_name": "HBoxView",
            "_dom_classes": [],
            "_model_name": "HBoxModel",
            "_view_module": "@jupyter-widgets/controls",
            "_model_module_version": "1.5.0",
            "_view_count": null,
            "_view_module_version": "1.5.0",
            "box_style": "",
            "layout": "IPY_MODEL_ebd5923aca7b4f24b8111067ee4647cf",
            "_model_module": "@jupyter-widgets/controls",
            "children": [
              "IPY_MODEL_18871c8a18da49168922f9882047a084",
              "IPY_MODEL_46599e81e2fe445d9fe33bb89eebd1de"
            ]
          }
        },
        "ebd5923aca7b4f24b8111067ee4647cf": {
          "model_module": "@jupyter-widgets/base",
          "model_name": "LayoutModel",
          "state": {
            "_view_name": "LayoutView",
            "grid_template_rows": null,
            "right": null,
            "justify_content": null,
            "_view_module": "@jupyter-widgets/base",
            "overflow": null,
            "_model_module_version": "1.2.0",
            "_view_count": null,
            "flex_flow": null,
            "width": null,
            "min_width": null,
            "border": null,
            "align_items": null,
            "bottom": null,
            "_model_module": "@jupyter-widgets/base",
            "top": null,
            "grid_column": null,
            "overflow_y": null,
            "overflow_x": null,
            "grid_auto_flow": null,
            "grid_area": null,
            "grid_template_columns": null,
            "flex": null,
            "_model_name": "LayoutModel",
            "justify_items": null,
            "grid_row": null,
            "max_height": null,
            "align_content": null,
            "visibility": null,
            "align_self": null,
            "height": null,
            "min_height": null,
            "padding": null,
            "grid_auto_rows": null,
            "grid_gap": null,
            "max_width": null,
            "order": null,
            "_view_module_version": "1.2.0",
            "grid_template_areas": null,
            "object_position": null,
            "object_fit": null,
            "grid_auto_columns": null,
            "margin": null,
            "display": null,
            "left": null
          }
        },
        "18871c8a18da49168922f9882047a084": {
          "model_module": "@jupyter-widgets/controls",
          "model_name": "FloatProgressModel",
          "state": {
            "_view_name": "ProgressView",
            "style": "IPY_MODEL_9a5c6a89430f4e5cb93e9595a0946f0b",
            "_dom_classes": [],
            "description": "Batches: 100%",
            "_model_name": "FloatProgressModel",
            "bar_style": "success",
            "max": 52,
            "_view_module": "@jupyter-widgets/controls",
            "_model_module_version": "1.5.0",
            "value": 52,
            "_view_count": null,
            "_view_module_version": "1.5.0",
            "orientation": "horizontal",
            "min": 0,
            "description_tooltip": null,
            "_model_module": "@jupyter-widgets/controls",
            "layout": "IPY_MODEL_6a57146ed4ef46a389f7fb6517065cf6"
          }
        },
        "46599e81e2fe445d9fe33bb89eebd1de": {
          "model_module": "@jupyter-widgets/controls",
          "model_name": "HTMLModel",
          "state": {
            "_view_name": "HTMLView",
            "style": "IPY_MODEL_84e2ba2d2e1748df8d0c36084cda6a1e",
            "_dom_classes": [],
            "description": "",
            "_model_name": "HTMLModel",
            "placeholder": "​",
            "_view_module": "@jupyter-widgets/controls",
            "_model_module_version": "1.5.0",
            "value": " 52/52 [02:46&lt;00:00,  3.20s/it]",
            "_view_count": null,
            "_view_module_version": "1.5.0",
            "description_tooltip": null,
            "_model_module": "@jupyter-widgets/controls",
            "layout": "IPY_MODEL_737c4c327ab84d57a74cea5370ebbd30"
          }
        },
        "9a5c6a89430f4e5cb93e9595a0946f0b": {
          "model_module": "@jupyter-widgets/controls",
          "model_name": "ProgressStyleModel",
          "state": {
            "_view_name": "StyleView",
            "_model_name": "ProgressStyleModel",
            "description_width": "initial",
            "_view_module": "@jupyter-widgets/base",
            "_model_module_version": "1.5.0",
            "_view_count": null,
            "_view_module_version": "1.2.0",
            "bar_color": null,
            "_model_module": "@jupyter-widgets/controls"
          }
        },
        "6a57146ed4ef46a389f7fb6517065cf6": {
          "model_module": "@jupyter-widgets/base",
          "model_name": "LayoutModel",
          "state": {
            "_view_name": "LayoutView",
            "grid_template_rows": null,
            "right": null,
            "justify_content": null,
            "_view_module": "@jupyter-widgets/base",
            "overflow": null,
            "_model_module_version": "1.2.0",
            "_view_count": null,
            "flex_flow": null,
            "width": null,
            "min_width": null,
            "border": null,
            "align_items": null,
            "bottom": null,
            "_model_module": "@jupyter-widgets/base",
            "top": null,
            "grid_column": null,
            "overflow_y": null,
            "overflow_x": null,
            "grid_auto_flow": null,
            "grid_area": null,
            "grid_template_columns": null,
            "flex": null,
            "_model_name": "LayoutModel",
            "justify_items": null,
            "grid_row": null,
            "max_height": null,
            "align_content": null,
            "visibility": null,
            "align_self": null,
            "height": null,
            "min_height": null,
            "padding": null,
            "grid_auto_rows": null,
            "grid_gap": null,
            "max_width": null,
            "order": null,
            "_view_module_version": "1.2.0",
            "grid_template_areas": null,
            "object_position": null,
            "object_fit": null,
            "grid_auto_columns": null,
            "margin": null,
            "display": null,
            "left": null
          }
        },
        "84e2ba2d2e1748df8d0c36084cda6a1e": {
          "model_module": "@jupyter-widgets/controls",
          "model_name": "DescriptionStyleModel",
          "state": {
            "_view_name": "StyleView",
            "_model_name": "DescriptionStyleModel",
            "description_width": "",
            "_view_module": "@jupyter-widgets/base",
            "_model_module_version": "1.5.0",
            "_view_count": null,
            "_view_module_version": "1.2.0",
            "_model_module": "@jupyter-widgets/controls"
          }
        },
        "737c4c327ab84d57a74cea5370ebbd30": {
          "model_module": "@jupyter-widgets/base",
          "model_name": "LayoutModel",
          "state": {
            "_view_name": "LayoutView",
            "grid_template_rows": null,
            "right": null,
            "justify_content": null,
            "_view_module": "@jupyter-widgets/base",
            "overflow": null,
            "_model_module_version": "1.2.0",
            "_view_count": null,
            "flex_flow": null,
            "width": null,
            "min_width": null,
            "border": null,
            "align_items": null,
            "bottom": null,
            "_model_module": "@jupyter-widgets/base",
            "top": null,
            "grid_column": null,
            "overflow_y": null,
            "overflow_x": null,
            "grid_auto_flow": null,
            "grid_area": null,
            "grid_template_columns": null,
            "flex": null,
            "_model_name": "LayoutModel",
            "justify_items": null,
            "grid_row": null,
            "max_height": null,
            "align_content": null,
            "visibility": null,
            "align_self": null,
            "height": null,
            "min_height": null,
            "padding": null,
            "grid_auto_rows": null,
            "grid_gap": null,
            "max_width": null,
            "order": null,
            "_view_module_version": "1.2.0",
            "grid_template_areas": null,
            "object_position": null,
            "object_fit": null,
            "grid_auto_columns": null,
            "margin": null,
            "display": null,
            "left": null
          }
        },
        "dfbfeef556154f80a512bb510e0313a2": {
          "model_module": "@jupyter-widgets/controls",
          "model_name": "HBoxModel",
          "state": {
            "_view_name": "HBoxView",
            "_dom_classes": [],
            "_model_name": "HBoxModel",
            "_view_module": "@jupyter-widgets/controls",
            "_model_module_version": "1.5.0",
            "_view_count": null,
            "_view_module_version": "1.5.0",
            "box_style": "",
            "layout": "IPY_MODEL_663a4fab6e0244bd972502942b893a87",
            "_model_module": "@jupyter-widgets/controls",
            "children": [
              "IPY_MODEL_3bb678c5f3f249deaaac71783cfecedd",
              "IPY_MODEL_b939443fe90b458e93fd4641007a1da6"
            ]
          }
        },
        "663a4fab6e0244bd972502942b893a87": {
          "model_module": "@jupyter-widgets/base",
          "model_name": "LayoutModel",
          "state": {
            "_view_name": "LayoutView",
            "grid_template_rows": null,
            "right": null,
            "justify_content": null,
            "_view_module": "@jupyter-widgets/base",
            "overflow": null,
            "_model_module_version": "1.2.0",
            "_view_count": null,
            "flex_flow": null,
            "width": null,
            "min_width": null,
            "border": null,
            "align_items": null,
            "bottom": null,
            "_model_module": "@jupyter-widgets/base",
            "top": null,
            "grid_column": null,
            "overflow_y": null,
            "overflow_x": null,
            "grid_auto_flow": null,
            "grid_area": null,
            "grid_template_columns": null,
            "flex": null,
            "_model_name": "LayoutModel",
            "justify_items": null,
            "grid_row": null,
            "max_height": null,
            "align_content": null,
            "visibility": null,
            "align_self": null,
            "height": null,
            "min_height": null,
            "padding": null,
            "grid_auto_rows": null,
            "grid_gap": null,
            "max_width": null,
            "order": null,
            "_view_module_version": "1.2.0",
            "grid_template_areas": null,
            "object_position": null,
            "object_fit": null,
            "grid_auto_columns": null,
            "margin": null,
            "display": null,
            "left": null
          }
        },
        "3bb678c5f3f249deaaac71783cfecedd": {
          "model_module": "@jupyter-widgets/controls",
          "model_name": "FloatProgressModel",
          "state": {
            "_view_name": "ProgressView",
            "style": "IPY_MODEL_7771806bd7e64c658a7c45a82e2c19ca",
            "_dom_classes": [],
            "description": "Batches: 100%",
            "_model_name": "FloatProgressModel",
            "bar_style": "success",
            "max": 52,
            "_view_module": "@jupyter-widgets/controls",
            "_model_module_version": "1.5.0",
            "value": 52,
            "_view_count": null,
            "_view_module_version": "1.5.0",
            "orientation": "horizontal",
            "min": 0,
            "description_tooltip": null,
            "_model_module": "@jupyter-widgets/controls",
            "layout": "IPY_MODEL_a307401898ba41f68bfa367d613a1417"
          }
        },
        "b939443fe90b458e93fd4641007a1da6": {
          "model_module": "@jupyter-widgets/controls",
          "model_name": "HTMLModel",
          "state": {
            "_view_name": "HTMLView",
            "style": "IPY_MODEL_7fa19c38c2304b399bfa1cb58173d88c",
            "_dom_classes": [],
            "description": "",
            "_model_name": "HTMLModel",
            "placeholder": "​",
            "_view_module": "@jupyter-widgets/controls",
            "_model_module_version": "1.5.0",
            "value": " 52/52 [02:01&lt;00:00,  2.33s/it]",
            "_view_count": null,
            "_view_module_version": "1.5.0",
            "description_tooltip": null,
            "_model_module": "@jupyter-widgets/controls",
            "layout": "IPY_MODEL_d5b1add386a1458982655c49bfd38d1a"
          }
        },
        "7771806bd7e64c658a7c45a82e2c19ca": {
          "model_module": "@jupyter-widgets/controls",
          "model_name": "ProgressStyleModel",
          "state": {
            "_view_name": "StyleView",
            "_model_name": "ProgressStyleModel",
            "description_width": "initial",
            "_view_module": "@jupyter-widgets/base",
            "_model_module_version": "1.5.0",
            "_view_count": null,
            "_view_module_version": "1.2.0",
            "bar_color": null,
            "_model_module": "@jupyter-widgets/controls"
          }
        },
        "a307401898ba41f68bfa367d613a1417": {
          "model_module": "@jupyter-widgets/base",
          "model_name": "LayoutModel",
          "state": {
            "_view_name": "LayoutView",
            "grid_template_rows": null,
            "right": null,
            "justify_content": null,
            "_view_module": "@jupyter-widgets/base",
            "overflow": null,
            "_model_module_version": "1.2.0",
            "_view_count": null,
            "flex_flow": null,
            "width": null,
            "min_width": null,
            "border": null,
            "align_items": null,
            "bottom": null,
            "_model_module": "@jupyter-widgets/base",
            "top": null,
            "grid_column": null,
            "overflow_y": null,
            "overflow_x": null,
            "grid_auto_flow": null,
            "grid_area": null,
            "grid_template_columns": null,
            "flex": null,
            "_model_name": "LayoutModel",
            "justify_items": null,
            "grid_row": null,
            "max_height": null,
            "align_content": null,
            "visibility": null,
            "align_self": null,
            "height": null,
            "min_height": null,
            "padding": null,
            "grid_auto_rows": null,
            "grid_gap": null,
            "max_width": null,
            "order": null,
            "_view_module_version": "1.2.0",
            "grid_template_areas": null,
            "object_position": null,
            "object_fit": null,
            "grid_auto_columns": null,
            "margin": null,
            "display": null,
            "left": null
          }
        },
        "7fa19c38c2304b399bfa1cb58173d88c": {
          "model_module": "@jupyter-widgets/controls",
          "model_name": "DescriptionStyleModel",
          "state": {
            "_view_name": "StyleView",
            "_model_name": "DescriptionStyleModel",
            "description_width": "",
            "_view_module": "@jupyter-widgets/base",
            "_model_module_version": "1.5.0",
            "_view_count": null,
            "_view_module_version": "1.2.0",
            "_model_module": "@jupyter-widgets/controls"
          }
        },
        "d5b1add386a1458982655c49bfd38d1a": {
          "model_module": "@jupyter-widgets/base",
          "model_name": "LayoutModel",
          "state": {
            "_view_name": "LayoutView",
            "grid_template_rows": null,
            "right": null,
            "justify_content": null,
            "_view_module": "@jupyter-widgets/base",
            "overflow": null,
            "_model_module_version": "1.2.0",
            "_view_count": null,
            "flex_flow": null,
            "width": null,
            "min_width": null,
            "border": null,
            "align_items": null,
            "bottom": null,
            "_model_module": "@jupyter-widgets/base",
            "top": null,
            "grid_column": null,
            "overflow_y": null,
            "overflow_x": null,
            "grid_auto_flow": null,
            "grid_area": null,
            "grid_template_columns": null,
            "flex": null,
            "_model_name": "LayoutModel",
            "justify_items": null,
            "grid_row": null,
            "max_height": null,
            "align_content": null,
            "visibility": null,
            "align_self": null,
            "height": null,
            "min_height": null,
            "padding": null,
            "grid_auto_rows": null,
            "grid_gap": null,
            "max_width": null,
            "order": null,
            "_view_module_version": "1.2.0",
            "grid_template_areas": null,
            "object_position": null,
            "object_fit": null,
            "grid_auto_columns": null,
            "margin": null,
            "display": null,
            "left": null
          }
        }
      }
    },
    "accelerator": "GPU"
  },
  "cells": [
    {
      "cell_type": "code",
      "metadata": {
        "colab": {
          "base_uri": "https://localhost:8080/"
        },
        "id": "uKWxz6EW7LLA",
        "outputId": "e873d99e-6dc4-4b8d-fa7f-32444b99a88a"
      },
      "source": [
        "!pip install sentence-transformers"
      ],
      "execution_count": null,
      "outputs": [
        {
          "output_type": "stream",
          "text": [
            "Collecting sentence-transformers\n",
            "\u001b[?25l  Downloading https://files.pythonhosted.org/packages/14/9d/abacb6f7bb63df39285c55bb51b6403a7fd93ac2aea48b01f6215175446c/sentence-transformers-1.1.1.tar.gz (81kB)\n",
            "\u001b[K     |████████████████████████████████| 81kB 3.6MB/s \n",
            "\u001b[?25hCollecting transformers<5.0.0,>=3.1.0\n",
            "\u001b[?25l  Downloading https://files.pythonhosted.org/packages/b0/9e/5b80becd952d5f7250eaf8fc64b957077b12ccfe73e9c03d37146ab29712/transformers-4.6.0-py3-none-any.whl (2.3MB)\n",
            "\u001b[K     |████████████████████████████████| 2.3MB 8.0MB/s \n",
            "\u001b[?25hRequirement already satisfied: tqdm in /usr/local/lib/python3.7/dist-packages (from sentence-transformers) (4.41.1)\n",
            "Requirement already satisfied: torch>=1.6.0 in /usr/local/lib/python3.7/dist-packages (from sentence-transformers) (1.8.1+cu101)\n",
            "Requirement already satisfied: torchvision in /usr/local/lib/python3.7/dist-packages (from sentence-transformers) (0.9.1+cu101)\n",
            "Requirement already satisfied: numpy in /usr/local/lib/python3.7/dist-packages (from sentence-transformers) (1.19.5)\n",
            "Requirement already satisfied: scikit-learn in /usr/local/lib/python3.7/dist-packages (from sentence-transformers) (0.22.2.post1)\n",
            "Requirement already satisfied: scipy in /usr/local/lib/python3.7/dist-packages (from sentence-transformers) (1.4.1)\n",
            "Requirement already satisfied: nltk in /usr/local/lib/python3.7/dist-packages (from sentence-transformers) (3.2.5)\n",
            "Collecting sentencepiece\n",
            "\u001b[?25l  Downloading https://files.pythonhosted.org/packages/f5/99/e0808cb947ba10f575839c43e8fafc9cc44e4a7a2c8f79c60db48220a577/sentencepiece-0.1.95-cp37-cp37m-manylinux2014_x86_64.whl (1.2MB)\n",
            "\u001b[K     |████████████████████████████████| 1.2MB 34.8MB/s \n",
            "\u001b[?25hCollecting tokenizers<0.11,>=0.10.1\n",
            "\u001b[?25l  Downloading https://files.pythonhosted.org/packages/ae/04/5b870f26a858552025a62f1649c20d29d2672c02ff3c3fb4c688ca46467a/tokenizers-0.10.2-cp37-cp37m-manylinux2010_x86_64.whl (3.3MB)\n",
            "\u001b[K     |████████████████████████████████| 3.3MB 34.9MB/s \n",
            "\u001b[?25hCollecting sacremoses\n",
            "\u001b[?25l  Downloading https://files.pythonhosted.org/packages/75/ee/67241dc87f266093c533a2d4d3d69438e57d7a90abb216fa076e7d475d4a/sacremoses-0.0.45-py3-none-any.whl (895kB)\n",
            "\u001b[K     |████████████████████████████████| 901kB 36.7MB/s \n",
            "\u001b[?25hCollecting huggingface-hub==0.0.8\n",
            "  Downloading https://files.pythonhosted.org/packages/a1/88/7b1e45720ecf59c6c6737ff332f41c955963090a18e72acbcbeac6b25e86/huggingface_hub-0.0.8-py3-none-any.whl\n",
            "Requirement already satisfied: requests in /usr/local/lib/python3.7/dist-packages (from transformers<5.0.0,>=3.1.0->sentence-transformers) (2.23.0)\n",
            "Requirement already satisfied: regex!=2019.12.17 in /usr/local/lib/python3.7/dist-packages (from transformers<5.0.0,>=3.1.0->sentence-transformers) (2019.12.20)\n",
            "Requirement already satisfied: packaging in /usr/local/lib/python3.7/dist-packages (from transformers<5.0.0,>=3.1.0->sentence-transformers) (20.9)\n",
            "Requirement already satisfied: filelock in /usr/local/lib/python3.7/dist-packages (from transformers<5.0.0,>=3.1.0->sentence-transformers) (3.0.12)\n",
            "Requirement already satisfied: importlib-metadata; python_version < \"3.8\" in /usr/local/lib/python3.7/dist-packages (from transformers<5.0.0,>=3.1.0->sentence-transformers) (4.0.1)\n",
            "Requirement already satisfied: typing-extensions in /usr/local/lib/python3.7/dist-packages (from torch>=1.6.0->sentence-transformers) (3.7.4.3)\n",
            "Requirement already satisfied: pillow>=4.1.1 in /usr/local/lib/python3.7/dist-packages (from torchvision->sentence-transformers) (7.1.2)\n",
            "Requirement already satisfied: joblib>=0.11 in /usr/local/lib/python3.7/dist-packages (from scikit-learn->sentence-transformers) (1.0.1)\n",
            "Requirement already satisfied: six in /usr/local/lib/python3.7/dist-packages (from nltk->sentence-transformers) (1.15.0)\n",
            "Requirement already satisfied: click in /usr/local/lib/python3.7/dist-packages (from sacremoses->transformers<5.0.0,>=3.1.0->sentence-transformers) (7.1.2)\n",
            "Requirement already satisfied: certifi>=2017.4.17 in /usr/local/lib/python3.7/dist-packages (from requests->transformers<5.0.0,>=3.1.0->sentence-transformers) (2020.12.5)\n",
            "Requirement already satisfied: idna<3,>=2.5 in /usr/local/lib/python3.7/dist-packages (from requests->transformers<5.0.0,>=3.1.0->sentence-transformers) (2.10)\n",
            "Requirement already satisfied: urllib3!=1.25.0,!=1.25.1,<1.26,>=1.21.1 in /usr/local/lib/python3.7/dist-packages (from requests->transformers<5.0.0,>=3.1.0->sentence-transformers) (1.24.3)\n",
            "Requirement already satisfied: chardet<4,>=3.0.2 in /usr/local/lib/python3.7/dist-packages (from requests->transformers<5.0.0,>=3.1.0->sentence-transformers) (3.0.4)\n",
            "Requirement already satisfied: pyparsing>=2.0.2 in /usr/local/lib/python3.7/dist-packages (from packaging->transformers<5.0.0,>=3.1.0->sentence-transformers) (2.4.7)\n",
            "Requirement already satisfied: zipp>=0.5 in /usr/local/lib/python3.7/dist-packages (from importlib-metadata; python_version < \"3.8\"->transformers<5.0.0,>=3.1.0->sentence-transformers) (3.4.1)\n",
            "Building wheels for collected packages: sentence-transformers\n",
            "  Building wheel for sentence-transformers (setup.py) ... \u001b[?25l\u001b[?25hdone\n",
            "  Created wheel for sentence-transformers: filename=sentence_transformers-1.1.1-cp37-none-any.whl size=123338 sha256=a9d15dda07fd7fb8bca2640688dc7b481f318884cdca854d39811ea905634675\n",
            "  Stored in directory: /root/.cache/pip/wheels/5e/89/29/45e45adc162b50f97f71801e8b07947c9cfe2b3ae7dbf37896\n",
            "Successfully built sentence-transformers\n",
            "Installing collected packages: tokenizers, sacremoses, huggingface-hub, transformers, sentencepiece, sentence-transformers\n",
            "Successfully installed huggingface-hub-0.0.8 sacremoses-0.0.45 sentence-transformers-1.1.1 sentencepiece-0.1.95 tokenizers-0.10.2 transformers-4.6.0\n"
          ],
          "name": "stdout"
        }
      ]
    },
    {
      "cell_type": "code",
      "metadata": {
        "id": "I8alY4BV7HJ8"
      },
      "source": [
        "\"\"\"\n",
        "This script trains sentence transformers with a triplet loss function.\n",
        "As corpus, we use the wikipedia sections dataset that was describd by Dor et al., 2018, Learning Thematic Similarity Metric Using Triplet Networks.\n",
        "\"\"\"\n",
        "\n",
        "from sentence_transformers import SentenceTransformer, InputExample, LoggingHandler, losses, models, util\n",
        "from torch.utils.data import DataLoader\n",
        "from sentence_transformers.evaluation import TripletEvaluator\n",
        "from sentence_transformers.evaluation import EmbeddingSimilarityEvaluator, BinaryClassificationEvaluator\n",
        "from datetime import datetime\n",
        "from zipfile import ZipFile\n",
        "\n",
        "import csv\n",
        "import logging\n",
        "import os"
      ],
      "execution_count": null,
      "outputs": []
    },
    {
      "cell_type": "code",
      "metadata": {
        "id": "JNCi7sqqsyWs"
      },
      "source": [
        "logging.basicConfig(format='%(asctime)s - %(message)s',\n",
        "                    datefmt='%Y-%m-%d %H:%M:%S',\n",
        "                    level=logging.INFO,\n",
        "                    handlers=[LoggingHandler()])\n",
        "logger = logging.getLogger(__name__)"
      ],
      "execution_count": null,
      "outputs": []
    },
    {
      "cell_type": "code",
      "metadata": {
        "id": "L_slpiFHGzQJ"
      },
      "source": [
        "from sentence_transformers.evaluation import EmbeddingSimilarityEvaluator\n",
        "\n",
        "logging.info(\"Read test dataset\")\n",
        "test_sts_samples = []\n",
        "with open(\"/content/sample_data/sentence_pair_unique.csv\", 'rt', encoding='utf8') as fIn:\n",
        "    reader = csv.DictReader(fIn)\n",
        "    for row in reader:\n",
        "        score = float(row['avg']) / 4.0  # Normalize score to range 0 ... 1\n",
        "        inp_example = InputExample(texts=[row['sent1_text'], row['sent2_text']], label=score)\n",
        "        test_sts_samples.append(inp_example)"
      ],
      "execution_count": null,
      "outputs": []
    },
    {
      "cell_type": "code",
      "metadata": {
        "colab": {
          "base_uri": "https://localhost:8080/",
          "height": 413,
          "referenced_widgets": [
            "0fb8c70faf2b40748a48718c6ed7094a",
            "f2c3f8a6d31942ffbb3e5333fa817d6d",
            "6554ab9ebedb4dcf843621e52125301c",
            "82c3b935a30e47fd8cb2dc879fa222d2",
            "fc73ae26d9234515b8e2144fac5929f7",
            "817c9a70bbe541f3bd63bcc44a4e4f80",
            "7103198c396846f2b77496505ace3985",
            "d8b71329f2984f17920953047e3a5343"
          ]
        },
        "id": "1ORF4hbw9GQx",
        "outputId": "63e4bacb-5664-4eeb-e997-bac4031537ff"
      },
      "source": [
        "model_name = 'stsb-bert-base'\n",
        "output_path = \"output/training-wikipedia-sections-\"+model_name+\"-\"+datetime.now().strftime(\"%Y-%m-%d_%H-%M-%S\")\n",
        "model = SentenceTransformer(model_name)\n",
        "test_evaluator = EmbeddingSimilarityEvaluator.from_input_examples(test_sts_samples, name='sts-test')\n",
        "test_evaluator(model, output_path=output_path)"
      ],
      "execution_count": null,
      "outputs": [
        {
          "output_type": "display_data",
          "data": {
            "application/vnd.jupyter.widget-view+json": {
              "model_id": "0fb8c70faf2b40748a48718c6ed7094a",
              "version_minor": 0,
              "version_major": 2
            },
            "text/plain": [
              "HBox(children=(FloatProgress(value=0.0, max=405233603.0), HTML(value='')))"
            ]
          },
          "metadata": {
            "tags": []
          }
        },
        {
          "output_type": "stream",
          "text": [
            "\n"
          ],
          "name": "stdout"
        },
        {
          "output_type": "error",
          "ename": "FileNotFoundError",
          "evalue": "ignored",
          "traceback": [
            "\u001b[0;31m---------------------------------------------------------------------------\u001b[0m",
            "\u001b[0;31mFileNotFoundError\u001b[0m                         Traceback (most recent call last)",
            "\u001b[0;32m<ipython-input-6-21db13e9955c>\u001b[0m in \u001b[0;36m<module>\u001b[0;34m()\u001b[0m\n\u001b[1;32m      3\u001b[0m \u001b[0mmodel\u001b[0m \u001b[0;34m=\u001b[0m \u001b[0mSentenceTransformer\u001b[0m\u001b[0;34m(\u001b[0m\u001b[0mmodel_name\u001b[0m\u001b[0;34m)\u001b[0m\u001b[0;34m\u001b[0m\u001b[0;34m\u001b[0m\u001b[0m\n\u001b[1;32m      4\u001b[0m \u001b[0mtest_evaluator\u001b[0m \u001b[0;34m=\u001b[0m \u001b[0mEmbeddingSimilarityEvaluator\u001b[0m\u001b[0;34m.\u001b[0m\u001b[0mfrom_input_examples\u001b[0m\u001b[0;34m(\u001b[0m\u001b[0mtest_sts_samples\u001b[0m\u001b[0;34m,\u001b[0m \u001b[0mname\u001b[0m\u001b[0;34m=\u001b[0m\u001b[0;34m'sts-test'\u001b[0m\u001b[0;34m)\u001b[0m\u001b[0;34m\u001b[0m\u001b[0;34m\u001b[0m\u001b[0m\n\u001b[0;32m----> 5\u001b[0;31m \u001b[0mtest_evaluator\u001b[0m\u001b[0;34m(\u001b[0m\u001b[0mmodel\u001b[0m\u001b[0;34m,\u001b[0m \u001b[0moutput_path\u001b[0m\u001b[0;34m=\u001b[0m\u001b[0moutput_path\u001b[0m\u001b[0;34m)\u001b[0m\u001b[0;34m\u001b[0m\u001b[0;34m\u001b[0m\u001b[0m\n\u001b[0m",
            "\u001b[0;32m/usr/local/lib/python3.7/dist-packages/sentence_transformers/evaluation/EmbeddingSimilarityEvaluator.py\u001b[0m in \u001b[0;36m__call__\u001b[0;34m(self, model, output_path, epoch, steps)\u001b[0m\n\u001b[1;32m    109\u001b[0m             \u001b[0mcsv_path\u001b[0m \u001b[0;34m=\u001b[0m \u001b[0mos\u001b[0m\u001b[0;34m.\u001b[0m\u001b[0mpath\u001b[0m\u001b[0;34m.\u001b[0m\u001b[0mjoin\u001b[0m\u001b[0;34m(\u001b[0m\u001b[0moutput_path\u001b[0m\u001b[0;34m,\u001b[0m \u001b[0mself\u001b[0m\u001b[0;34m.\u001b[0m\u001b[0mcsv_file\u001b[0m\u001b[0;34m)\u001b[0m\u001b[0;34m\u001b[0m\u001b[0;34m\u001b[0m\u001b[0m\n\u001b[1;32m    110\u001b[0m             \u001b[0moutput_file_exists\u001b[0m \u001b[0;34m=\u001b[0m \u001b[0mos\u001b[0m\u001b[0;34m.\u001b[0m\u001b[0mpath\u001b[0m\u001b[0;34m.\u001b[0m\u001b[0misfile\u001b[0m\u001b[0;34m(\u001b[0m\u001b[0mcsv_path\u001b[0m\u001b[0;34m)\u001b[0m\u001b[0;34m\u001b[0m\u001b[0;34m\u001b[0m\u001b[0m\n\u001b[0;32m--> 111\u001b[0;31m             \u001b[0;32mwith\u001b[0m \u001b[0mopen\u001b[0m\u001b[0;34m(\u001b[0m\u001b[0mcsv_path\u001b[0m\u001b[0;34m,\u001b[0m \u001b[0mmode\u001b[0m\u001b[0;34m=\u001b[0m\u001b[0;34m\"a\"\u001b[0m \u001b[0;32mif\u001b[0m \u001b[0moutput_file_exists\u001b[0m \u001b[0;32melse\u001b[0m \u001b[0;34m'w'\u001b[0m\u001b[0;34m,\u001b[0m \u001b[0mencoding\u001b[0m\u001b[0;34m=\u001b[0m\u001b[0;34m\"utf-8\"\u001b[0m\u001b[0;34m)\u001b[0m \u001b[0;32mas\u001b[0m \u001b[0mf\u001b[0m\u001b[0;34m:\u001b[0m\u001b[0;34m\u001b[0m\u001b[0;34m\u001b[0m\u001b[0m\n\u001b[0m\u001b[1;32m    112\u001b[0m                 \u001b[0mwriter\u001b[0m \u001b[0;34m=\u001b[0m \u001b[0mcsv\u001b[0m\u001b[0;34m.\u001b[0m\u001b[0mwriter\u001b[0m\u001b[0;34m(\u001b[0m\u001b[0mf\u001b[0m\u001b[0;34m)\u001b[0m\u001b[0;34m\u001b[0m\u001b[0;34m\u001b[0m\u001b[0m\n\u001b[1;32m    113\u001b[0m                 \u001b[0;32mif\u001b[0m \u001b[0;32mnot\u001b[0m \u001b[0moutput_file_exists\u001b[0m\u001b[0;34m:\u001b[0m\u001b[0;34m\u001b[0m\u001b[0;34m\u001b[0m\u001b[0m\n",
            "\u001b[0;31mFileNotFoundError\u001b[0m: [Errno 2] No such file or directory: 'output/training-wikipedia-sections-stsb-bert-base-2021-05-09_05-58-08/similarity_evaluation_sts-test_results.csv'"
          ]
        }
      ]
    },
    {
      "cell_type": "code",
      "metadata": {
        "colab": {
          "base_uri": "https://localhost:8080/"
        },
        "id": "byRwkohHJ00i",
        "outputId": "6241399e-7a96-4fff-8fda-df98f351707f"
      },
      "source": [
        "import pandas as pd\n",
        "\n",
        "# Load the dataset into a pandas dataframe.\n",
        "df_test = pd.read_csv(\"/content/sample_data/sentence_pair_unique.csv\")\n",
        "\n",
        "# Report the number of sentences.\n",
        "print('Number of training sentences: {:,}\\n'.format(df_test.shape[0]))\n",
        "\n",
        "# Display 5 random rows from the data.\n",
        "df_test.sample(1)\n",
        "\n",
        "# Get the lists of sentences and their labels.\n",
        "sent1 = df_test.sent1_text.values\n",
        "sent2 = df_test.sent2_text.values\n",
        "sent1 = sent1.tolist()\n",
        "sent2 = sent2.tolist()\n",
        "\n",
        "sent1_embeddings = model.encode(sent1)\n",
        "sent1_embeddings.shape\n",
        "\n",
        "sent2_embeddings = model.encode(sent2)\n",
        "sent2_embeddings.shape\n",
        "\n",
        "from sklearn.metrics.pairwise import cosine_similarity\n",
        "import scipy\n",
        "import pandas as pd\n",
        "import numpy as np\n",
        "\n",
        "\n",
        "cos_list = []\n",
        "cos2_list = []\n",
        "\n",
        "for j in range(len(sent1_embeddings)):\n",
        "  sent1 = sent1_embeddings[j]\n",
        "  sent2 = sent2_embeddings[j]\n",
        "  cos = 1-scipy.spatial.distance.cdist(sent1.reshape(1, -1), sent2.reshape(1, -1), \"cosine\")[0][0]\n",
        "  cos2 = cosine_similarity(sent1.reshape(1, -1), sent2.reshape(1, -1))[0][0]\n",
        "  cos_list.append(cos)\n",
        "  cos2_list.append(cos2)\n",
        "\n",
        "assert(len(cos_list)==len(df_test))\n",
        "assert(len(cos2_list)==len(df_test))\n",
        "\n",
        "df_test[\"model_similarity\"] = cos_list\n",
        "df_test[\"model_similarity2\"] = cos2_list\n",
        "\n",
        "df_test.to_csv(\"/content/sample_data/sentence_pair_sbert.csv\",\n",
        "                    index=None)"
      ],
      "execution_count": null,
      "outputs": [
        {
          "output_type": "stream",
          "text": [
            "Number of training sentences: 1,635\n",
            "\n"
          ],
          "name": "stdout"
        }
      ]
    },
    {
      "cell_type": "code",
      "metadata": {
        "id": "Ex9Twk95oTF6"
      },
      "source": [
        ""
      ],
      "execution_count": null,
      "outputs": []
    },
    {
      "cell_type": "markdown",
      "metadata": {
        "id": "LA25NrUMA_oX"
      },
      "source": [
        "# Pairs"
      ]
    },
    {
      "cell_type": "code",
      "metadata": {
        "id": "UiXb45TuBB5d",
        "colab": {
          "base_uri": "https://localhost:8080/"
        },
        "outputId": "e7e0756e-fd62-45e2-9a2a-1f28cdc11c90"
      },
      "source": [
        "### Create a torch.DataLoader that passes training batch instances to our model\n",
        "\n",
        "model_name = 'stsb-bert-base'\n",
        "train_batch_size = 8\n",
        "output_path = \"output/training-amazon-pair-\"+model_name+\"-\"+datetime.now().strftime(\"%Y-%m-%d_%H-%M-%S\")\n",
        "num_epochs = 1\n",
        "# n_train = 1000 \n",
        "# n_train = 3000\n",
        "n_train = 8000\n",
        "trip_type = \"firstsentence\"\n",
        "\n",
        "model = SentenceTransformer(model_name)"
      ],
      "execution_count": null,
      "outputs": [
        {
          "output_type": "stream",
          "text": [
            "2021-05-13 02:55:59 - Load pretrained SentenceTransformer: stsb-bert-base\n",
            "2021-05-13 02:55:59 - Did not find folder stsb-bert-base\n",
            "2021-05-13 02:55:59 - Search model on server: http://sbert.net/models/stsb-bert-base.zip\n",
            "2021-05-13 02:55:59 - Load SentenceTransformer from folder: /root/.cache/torch/sentence_transformers/sbert.net_models_stsb-bert-base\n"
          ],
          "name": "stdout"
        },
        {
          "output_type": "stream",
          "text": [
            "Some weights of the model checkpoint at /root/.cache/torch/sentence_transformers/sbert.net_models_stsb-bert-base/0_BERT were not used when initializing BertModel: ['classifier.weight', 'classifier.bias']\n",
            "- This IS expected if you are initializing BertModel from the checkpoint of a model trained on another task or with another architecture (e.g. initializing a BertForSequenceClassification model from a BertForPreTraining model).\n",
            "- This IS NOT expected if you are initializing BertModel from the checkpoint of a model that you expect to be exactly identical (initializing a BertForSequenceClassification model from a BertForSequenceClassification model).\n"
          ],
          "name": "stderr"
        },
        {
          "output_type": "stream",
          "text": [
            "2021-05-13 02:56:01 - Use pytorch device: cuda\n"
          ],
          "name": "stdout"
        }
      ]
    },
    {
      "cell_type": "code",
      "metadata": {
        "id": "iHfoQBqsBKfs",
        "colab": {
          "base_uri": "https://localhost:8080/"
        },
        "outputId": "194f391c-8152-49da-bb8a-72f57ce2f421"
      },
      "source": [
        "logger.info(\"Read Amazon Pair train dataset\")\n",
        "train_examples = []\n",
        "with open(\"/content/sample_data/amazon_pair_train_10000_\" + trip_type + \".csv\", encoding=\"utf-8\") as fIn:\n",
        "    reader = csv.DictReader(fIn)\n",
        "    for row in reader:\n",
        "     # print(row)\n",
        "      train_examples.append(InputExample(texts=[row['sent1_text'], row['sent2_text']], label=int(row['label'])))"
      ],
      "execution_count": null,
      "outputs": [
        {
          "output_type": "stream",
          "text": [
            "2021-05-13 02:56:01 - Read Amazon Pair train dataset\n"
          ],
          "name": "stdout"
        }
      ]
    },
    {
      "cell_type": "code",
      "metadata": {
        "id": "Hab5uKoWBaBU"
      },
      "source": [
        "test_examples = train_examples[0:1000]\n",
        "dev_examples = train_examples[1000:2000]\n",
        "train_examples = train_examples[2000:(2000+n_train)]"
      ],
      "execution_count": null,
      "outputs": []
    },
    {
      "cell_type": "code",
      "metadata": {
        "id": "26ov-KlEBaJb",
        "colab": {
          "base_uri": "https://localhost:8080/"
        },
        "outputId": "9b8cd518-b6dd-4d13-e18d-e2862b33221f"
      },
      "source": [
        "print(len(test_examples))\n",
        "print(len(dev_examples))\n",
        "print(len(train_examples))"
      ],
      "execution_count": null,
      "outputs": [
        {
          "output_type": "stream",
          "text": [
            "1000\n",
            "1000\n",
            "7997\n"
          ],
          "name": "stdout"
        }
      ]
    },
    {
      "cell_type": "code",
      "metadata": {
        "id": "d5LveGCWBcMF",
        "colab": {
          "base_uri": "https://localhost:8080/"
        },
        "outputId": "309b07e8-7fb0-4c2b-f6db-cdbbe61ed6fe"
      },
      "source": [
        "train_dataloader = DataLoader(train_examples, shuffle=True, batch_size=train_batch_size)\n",
        "train_loss = losses.SoftmaxLoss(model=model, sentence_embedding_dimension=model.get_sentence_embedding_dimension(), num_labels=2)"
      ],
      "execution_count": null,
      "outputs": [
        {
          "output_type": "stream",
          "text": [
            "2021-05-13 02:56:01 - Softmax loss: #Vectors concatenated: 3\n"
          ],
          "name": "stdout"
        }
      ]
    },
    {
      "cell_type": "code",
      "metadata": {
        "id": "SOIHOMBTBcPm",
        "colab": {
          "base_uri": "https://localhost:8080/"
        },
        "outputId": "8533e44a-0763-45f1-970f-e4d7a275e02e"
      },
      "source": [
        "logger.info(\"Read Amazon Pair dev dataset\")\n",
        "\n",
        "evaluator = BinaryClassificationEvaluator.from_input_examples(dev_examples, name='amazon-dev_sbertft_' + str(n_train) + \"_\" + trip_type + \"_run1\")\n",
        "\n",
        "warmup_steps = int(len(train_dataloader) * num_epochs * 0.1) #10% of train data"
      ],
      "execution_count": null,
      "outputs": [
        {
          "output_type": "stream",
          "text": [
            "2021-05-13 02:56:01 - Read Amazon Pair dev dataset\n"
          ],
          "name": "stdout"
        }
      ]
    },
    {
      "cell_type": "code",
      "metadata": {
        "id": "E1azvPe9BcTP",
        "colab": {
          "base_uri": "https://localhost:8080/",
          "height": 830,
          "referenced_widgets": [
            "fe82716ff39641e98792266776b19dc0",
            "504eb100c80049669902920d2a6bdce0",
            "c161e48cdf8949f48f19d04c8ba8b061",
            "33b6892b7b6c48f6a7b1521a8088ec51",
            "8ac4e3fc92af450aaed11173810a4da9",
            "c5b85c760ead4f46bb5aede538bff974",
            "53778760be6744f2b15b175ed857f415",
            "65ba06dcaeb64c05a943599f023008c4",
            "b7704d30497a410c909ae89bbea5e5da",
            "ec224a42f19d4f22a8d9e4adf3f8a104",
            "8c30df2eb1e5427792b3c2f75a106d60",
            "f573deec9499484491afffe37e94daed",
            "93e8b956ef28423b849dc4fb60aeb6a4",
            "700710b95cbb4be7b8ef0baffb625909",
            "0121c670defa403395ead4fbc8a700ee",
            "393183b5430544c78296866ad683227b"
          ]
        },
        "outputId": "9e6e2324-b28f-41bd-92c7-6c857a8b5d5e"
      },
      "source": [
        "# Train the model\n",
        "model.fit(train_objectives=[(train_dataloader, train_loss)],\n",
        "          evaluator=evaluator,\n",
        "          epochs=num_epochs,\n",
        "          evaluation_steps=1000,\n",
        "          warmup_steps=warmup_steps,\n",
        "          output_path=output_path)"
      ],
      "execution_count": null,
      "outputs": [
        {
          "output_type": "display_data",
          "data": {
            "application/vnd.jupyter.widget-view+json": {
              "model_id": "fe82716ff39641e98792266776b19dc0",
              "version_minor": 0,
              "version_major": 2
            },
            "text/plain": [
              "HBox(children=(FloatProgress(value=0.0, description='Epoch', max=1.0, style=ProgressStyle(description_width='i…"
            ]
          },
          "metadata": {
            "tags": []
          }
        },
        {
          "output_type": "display_data",
          "data": {
            "application/vnd.jupyter.widget-view+json": {
              "model_id": "b7704d30497a410c909ae89bbea5e5da",
              "version_minor": 0,
              "version_major": 2
            },
            "text/plain": [
              "HBox(children=(FloatProgress(value=0.0, description='Iteration', max=1000.0, style=ProgressStyle(description_w…"
            ]
          },
          "metadata": {
            "tags": []
          }
        },
        {
          "output_type": "stream",
          "text": [
            "2021-05-13 03:02:09 - Binary Accuracy Evaluation of the model on amazon-dev_sbertft_8000_firstsentence_run1 dataset in epoch 0 after 1000 steps:\n",
            "2021-05-13 03:02:16 - Accuracy with Cosine-Similarity:           81.60\t(Threshold: 0.2154)\n",
            "2021-05-13 03:02:16 - F1 with Cosine-Similarity:                 82.36\t(Threshold: 0.0995)\n",
            "2021-05-13 03:02:16 - Precision with Cosine-Similarity:          78.67\n",
            "2021-05-13 03:02:16 - Recall with Cosine-Similarity:             86.42\n",
            "2021-05-13 03:02:16 - Average Precision with Cosine-Similarity:  89.29\n",
            "\n",
            "2021-05-13 03:02:16 - Accuracy with Manhatten-Distance:           81.20\t(Threshold: 423.8982)\n",
            "2021-05-13 03:02:16 - F1 with Manhatten-Distance:                 81.89\t(Threshold: 451.5259)\n",
            "2021-05-13 03:02:16 - Precision with Manhatten-Distance:          80.19\n",
            "2021-05-13 03:02:16 - Recall with Manhatten-Distance:             83.66\n",
            "2021-05-13 03:02:16 - Average Precision with Manhatten-Distance:  89.09\n",
            "\n",
            "2021-05-13 03:02:16 - Accuracy with Euclidean-Distance:           81.20\t(Threshold: 18.9625)\n",
            "2021-05-13 03:02:16 - F1 with Euclidean-Distance:                 81.99\t(Threshold: 20.8787)\n",
            "2021-05-13 03:02:16 - Precision with Euclidean-Distance:          79.85\n",
            "2021-05-13 03:02:16 - Recall with Euclidean-Distance:             84.25\n",
            "2021-05-13 03:02:16 - Average Precision with Euclidean-Distance:  89.10\n",
            "\n",
            "2021-05-13 03:02:16 - Save model to output/training-amazon-pair-stsb-bert-base-2021-05-13_02-55-59\n",
            "\n",
            "2021-05-13 03:02:17 - Binary Accuracy Evaluation of the model on amazon-dev_sbertft_8000_firstsentence_run1 dataset after epoch 0:\n",
            "2021-05-13 03:02:23 - Accuracy with Cosine-Similarity:           81.60\t(Threshold: 0.2154)\n",
            "2021-05-13 03:02:23 - F1 with Cosine-Similarity:                 82.36\t(Threshold: 0.0995)\n",
            "2021-05-13 03:02:23 - Precision with Cosine-Similarity:          78.67\n",
            "2021-05-13 03:02:23 - Recall with Cosine-Similarity:             86.42\n",
            "2021-05-13 03:02:23 - Average Precision with Cosine-Similarity:  89.29\n",
            "\n",
            "2021-05-13 03:02:23 - Accuracy with Manhatten-Distance:           81.20\t(Threshold: 423.8982)\n",
            "2021-05-13 03:02:23 - F1 with Manhatten-Distance:                 81.89\t(Threshold: 451.5259)\n",
            "2021-05-13 03:02:23 - Precision with Manhatten-Distance:          80.19\n",
            "2021-05-13 03:02:23 - Recall with Manhatten-Distance:             83.66\n",
            "2021-05-13 03:02:23 - Average Precision with Manhatten-Distance:  89.09\n",
            "\n",
            "2021-05-13 03:02:23 - Accuracy with Euclidean-Distance:           81.20\t(Threshold: 18.9625)\n",
            "2021-05-13 03:02:23 - F1 with Euclidean-Distance:                 81.99\t(Threshold: 20.8787)\n",
            "2021-05-13 03:02:23 - Precision with Euclidean-Distance:          79.85\n",
            "2021-05-13 03:02:23 - Recall with Euclidean-Distance:             84.25\n",
            "2021-05-13 03:02:23 - Average Precision with Euclidean-Distance:  89.10\n",
            "\n",
            "\n"
          ],
          "name": "stdout"
        }
      ]
    },
    {
      "cell_type": "code",
      "metadata": {
        "id": "aH6at6_3BcWP",
        "colab": {
          "base_uri": "https://localhost:8080/"
        },
        "outputId": "148458bf-f5f9-4884-f91f-c79ed71e41c6"
      },
      "source": [
        "##############################################################################\n",
        "#\n",
        "# Load the stored model and evaluate its performance on STS benchmark dataset\n",
        "#\n",
        "##############################################################################\n",
        "\n",
        "logger.info(\"Read test examples\")\n",
        "model = SentenceTransformer(output_path)\n",
        "test_evaluator = BinaryClassificationEvaluator.from_input_examples(dev_examples, name='amazon-test_sbertft_' + str(n_train) + \"_\" + trip_type + \"_run1\")\n",
        "test_evaluator(model, output_path=output_path)"
      ],
      "execution_count": null,
      "outputs": [
        {
          "output_type": "stream",
          "text": [
            "2021-05-13 03:02:23 - Read test examples\n",
            "2021-05-13 03:02:23 - Load pretrained SentenceTransformer: output/training-amazon-pair-stsb-bert-base-2021-05-13_02-55-59\n",
            "2021-05-13 03:02:23 - Load SentenceTransformer from folder: output/training-amazon-pair-stsb-bert-base-2021-05-13_02-55-59\n",
            "2021-05-13 03:02:25 - Use pytorch device: cuda\n",
            "2021-05-13 03:02:25 - Binary Accuracy Evaluation of the model on amazon-test_sbertft_8000_firstsentence_run1 dataset:\n",
            "2021-05-13 03:02:31 - Accuracy with Cosine-Similarity:           81.60\t(Threshold: 0.2154)\n",
            "2021-05-13 03:02:31 - F1 with Cosine-Similarity:                 82.36\t(Threshold: 0.0995)\n",
            "2021-05-13 03:02:31 - Precision with Cosine-Similarity:          78.67\n",
            "2021-05-13 03:02:31 - Recall with Cosine-Similarity:             86.42\n",
            "2021-05-13 03:02:31 - Average Precision with Cosine-Similarity:  89.29\n",
            "\n",
            "2021-05-13 03:02:31 - Accuracy with Manhatten-Distance:           81.20\t(Threshold: 423.8982)\n",
            "2021-05-13 03:02:31 - F1 with Manhatten-Distance:                 81.89\t(Threshold: 451.5259)\n",
            "2021-05-13 03:02:31 - Precision with Manhatten-Distance:          80.19\n",
            "2021-05-13 03:02:31 - Recall with Manhatten-Distance:             83.66\n",
            "2021-05-13 03:02:31 - Average Precision with Manhatten-Distance:  89.09\n",
            "\n",
            "2021-05-13 03:02:31 - Accuracy with Euclidean-Distance:           81.20\t(Threshold: 18.9625)\n",
            "2021-05-13 03:02:31 - F1 with Euclidean-Distance:                 81.99\t(Threshold: 20.8787)\n",
            "2021-05-13 03:02:31 - Precision with Euclidean-Distance:          79.85\n",
            "2021-05-13 03:02:31 - Recall with Euclidean-Distance:             84.25\n",
            "2021-05-13 03:02:31 - Average Precision with Euclidean-Distance:  89.10\n",
            "\n"
          ],
          "name": "stdout"
        },
        {
          "output_type": "execute_result",
          "data": {
            "text/plain": [
              "0.8928819590196063"
            ]
          },
          "metadata": {
            "tags": []
          },
          "execution_count": 47
        }
      ]
    },
    {
      "cell_type": "code",
      "metadata": {
        "id": "WKF0sgbfBk1S",
        "colab": {
          "base_uri": "https://localhost:8080/",
          "height": 152,
          "referenced_widgets": [
            "76861efc0222485197929191df62fe33",
            "2ded1c22ee89441091bc4e72ffd56d01",
            "576926b1452441adb7df9aabc070e6a6",
            "fe49362f8a934542b6420dc94803155d",
            "83a726f515c447c086f7093c86adc470",
            "5e90b1fea06d4e3dbff4b13e87cf7c46",
            "ed23ddc46b914cfa86d76cd91096f77f",
            "577cc60019124ade9b1fd424831547a4",
            "c1cb8155edc0461c8aacc9a3f46056ac",
            "863e84f0406f4a5db19554ad699c280f",
            "4c80054baceb45b7b38764ccc6f2ef86",
            "ee3cf09aa4414bcaabfbfc2c88174459",
            "fd8b26b98eb8427894651b557d9aa597",
            "0c06125719f64c6db1001f5d672f0982",
            "a6ecf77e8c2145daa82f50eade0fad90",
            "6ba0080be71149f4be87ad21177655c9"
          ]
        },
        "outputId": "f57da4a1-8cb8-429f-db9c-c91ecb739909"
      },
      "source": [
        "import pandas as pd\n",
        "\n",
        "# Load the dataset into a pandas dataframe.\n",
        "df_test = pd.read_csv(\"/content/sample_data/sentence_pair_unique.csv\")\n",
        "\n",
        "# Report the number of sentences.\n",
        "print('Number of training sentences: {:,}\\n'.format(df_test.shape[0]))\n",
        "\n",
        "# Display 5 random rows from the data.\n",
        "df_test.sample(1)\n",
        "\n",
        "# Get the lists of sentences and their labels.\n",
        "sent1 = df_test.sent1_text.values\n",
        "sent2 = df_test.sent2_text.values\n",
        "sent1 = sent1.tolist()\n",
        "sent2 = sent2.tolist()\n",
        "\n",
        "sent1_embeddings = model.encode(sent1)\n",
        "sent1_embeddings.shape\n",
        "\n",
        "sent2_embeddings = model.encode(sent2)\n",
        "sent2_embeddings.shape\n",
        "\n",
        "from sklearn.metrics.pairwise import cosine_similarity\n",
        "import scipy\n",
        "import pandas as pd\n",
        "import numpy as np\n",
        "\n",
        "\n",
        "cos_list = []\n",
        "cos2_list = []\n",
        "\n",
        "for j in range(len(sent1_embeddings)):\n",
        "  sent1 = sent1_embeddings[j]\n",
        "  sent2 = sent2_embeddings[j]\n",
        "  cos = 1-scipy.spatial.distance.cdist(sent1.reshape(1, -1), sent2.reshape(1, -1), \"cosine\")[0][0]\n",
        "  cos2 = cosine_similarity(sent1.reshape(1, -1), sent2.reshape(1, -1))[0][0]\n",
        "  cos_list.append(cos)\n",
        "  cos2_list.append(cos2)\n",
        "\n",
        "assert(len(cos_list)==len(df_test))\n",
        "assert(len(cos2_list)==len(df_test))\n",
        "\n",
        "df_test[\"model_similarity\"] = cos_list\n",
        "df_test[\"model_similarity2\"] = cos2_list\n",
        "\n",
        "df_test.to_csv(\"/content/sample_data/sentence_pair_sbert_amazon_\"+str(n_train)+\"_\" + trip_type + \"_pair_run1.csv\",\n",
        "                    index=None)"
      ],
      "execution_count": null,
      "outputs": [
        {
          "output_type": "stream",
          "text": [
            "Number of training sentences: 1,635\n",
            "\n"
          ],
          "name": "stdout"
        },
        {
          "output_type": "display_data",
          "data": {
            "application/vnd.jupyter.widget-view+json": {
              "model_id": "76861efc0222485197929191df62fe33",
              "version_minor": 0,
              "version_major": 2
            },
            "text/plain": [
              "HBox(children=(FloatProgress(value=0.0, description='Batches', max=52.0, style=ProgressStyle(description_width…"
            ]
          },
          "metadata": {
            "tags": []
          }
        },
        {
          "output_type": "stream",
          "text": [
            "\n"
          ],
          "name": "stdout"
        },
        {
          "output_type": "display_data",
          "data": {
            "application/vnd.jupyter.widget-view+json": {
              "model_id": "c1cb8155edc0461c8aacc9a3f46056ac",
              "version_minor": 0,
              "version_major": 2
            },
            "text/plain": [
              "HBox(children=(FloatProgress(value=0.0, description='Batches', max=52.0, style=ProgressStyle(description_width…"
            ]
          },
          "metadata": {
            "tags": []
          }
        },
        {
          "output_type": "stream",
          "text": [
            "\n"
          ],
          "name": "stdout"
        }
      ]
    },
    {
      "cell_type": "code",
      "metadata": {
        "id": "318xTt4UBk_Y"
      },
      "source": [
        ""
      ],
      "execution_count": null,
      "outputs": []
    },
    {
      "cell_type": "markdown",
      "metadata": {
        "id": "n2_L1lIuoTgO"
      },
      "source": [
        "## Triplets"
      ]
    },
    {
      "cell_type": "code",
      "metadata": {
        "id": "0yGQllWl7zyE",
        "colab": {
          "base_uri": "https://localhost:8080/"
        },
        "outputId": "22d092d9-e2f0-4010-d446-5e8a89b1fc7f"
      },
      "source": [
        "### Create a torch.DataLoader that passes training batch instances to our model\n",
        "\n",
        "model_name = 'stsb-bert-base'\n",
        "train_batch_size = 8\n",
        "output_path = \"output/training-amazon-triplets-\"+model_name+\"-\"+datetime.now().strftime(\"%Y-%m-%d_%H-%M-%S\")\n",
        "num_epochs = 1\n",
        "# n_train = 1000 \n",
        "# n_train = 3000\n",
        "n_train = 8000\n",
        "trip_margin = 5.0\n",
        "trip_type = \"randomsentence\"\n",
        "\n",
        "model = SentenceTransformer(model_name)"
      ],
      "execution_count": null,
      "outputs": [
        {
          "output_type": "stream",
          "text": [
            "2021-05-13 01:04:07 - Load pretrained SentenceTransformer: stsb-bert-base\n",
            "2021-05-13 01:04:07 - Did not find folder stsb-bert-base\n",
            "2021-05-13 01:04:07 - Search model on server: http://sbert.net/models/stsb-bert-base.zip\n",
            "2021-05-13 01:04:07 - Load SentenceTransformer from folder: /root/.cache/torch/sentence_transformers/sbert.net_models_stsb-bert-base\n"
          ],
          "name": "stdout"
        },
        {
          "output_type": "stream",
          "text": [
            "Some weights of the model checkpoint at /root/.cache/torch/sentence_transformers/sbert.net_models_stsb-bert-base/0_BERT were not used when initializing BertModel: ['classifier.weight', 'classifier.bias']\n",
            "- This IS expected if you are initializing BertModel from the checkpoint of a model trained on another task or with another architecture (e.g. initializing a BertForSequenceClassification model from a BertForPreTraining model).\n",
            "- This IS NOT expected if you are initializing BertModel from the checkpoint of a model that you expect to be exactly identical (initializing a BertForSequenceClassification model from a BertForSequenceClassification model).\n"
          ],
          "name": "stderr"
        },
        {
          "output_type": "stream",
          "text": [
            "2021-05-13 01:04:08 - Use pytorch device: cuda\n"
          ],
          "name": "stdout"
        }
      ]
    },
    {
      "cell_type": "code",
      "metadata": {
        "id": "l5ymxCQhEudR",
        "colab": {
          "base_uri": "https://localhost:8080/"
        },
        "outputId": "61ccca8a-ce66-44af-e3ad-e30b00a4276e"
      },
      "source": [
        "logger.info(\"Read Triplet train dataset\")\n",
        "train_examples = []\n",
        "with open(\"/content/sample_data/amazon_triplets_train_10000_\" + trip_type + \".csv\", encoding=\"utf-8\") as fIn:\n",
        "    reader = csv.DictReader(fIn)\n",
        "    for row in reader:\n",
        "        train_examples.append(InputExample(texts=[row['anchor_text'], row['same_text'], row['diff_text']], label=0))"
      ],
      "execution_count": null,
      "outputs": [
        {
          "output_type": "stream",
          "text": [
            "2021-05-13 01:04:08 - Read Triplet train dataset\n"
          ],
          "name": "stdout"
        }
      ]
    },
    {
      "cell_type": "code",
      "metadata": {
        "colab": {
          "base_uri": "https://localhost:8080/"
        },
        "id": "VCYRA1NMEYH3",
        "outputId": "f7397cdf-31bf-46ac-b41f-b6d68511c5fd"
      },
      "source": [
        "len(train_examples)"
      ],
      "execution_count": null,
      "outputs": [
        {
          "output_type": "execute_result",
          "data": {
            "text/plain": [
              "9996"
            ]
          },
          "metadata": {
            "tags": []
          },
          "execution_count": 54
        }
      ]
    },
    {
      "cell_type": "code",
      "metadata": {
        "id": "g7gY-fIRP-cI"
      },
      "source": [
        "test_examples = train_examples[0:1000]\n",
        "dev_examples = train_examples[1000:2000]\n",
        "train_examples = train_examples[2000:(2000+n_train)]"
      ],
      "execution_count": null,
      "outputs": []
    },
    {
      "cell_type": "code",
      "metadata": {
        "id": "tgN6bI0Guvqj"
      },
      "source": [
        "from enum import Enum\n",
        "from sentence_transformers.losses.TripletLoss import TripletDistanceMetric"
      ],
      "execution_count": null,
      "outputs": []
    },
    {
      "cell_type": "code",
      "metadata": {
        "id": "C-DQGRjqE4ls"
      },
      "source": [
        "train_dataloader = DataLoader(train_examples, shuffle=True, batch_size=train_batch_size)\n",
        "train_loss = losses.TripletLoss(model=model, triplet_margin= trip_margin)\n",
        "# distance_metric=TripletDistanceMetric.COSINE"
      ],
      "execution_count": null,
      "outputs": []
    },
    {
      "cell_type": "code",
      "metadata": {
        "id": "2z1Ub0qDE8dM",
        "colab": {
          "base_uri": "https://localhost:8080/"
        },
        "outputId": "02b304f6-1d8c-426d-bc37-3bd33972874a"
      },
      "source": [
        "len(train_dataloader)"
      ],
      "execution_count": null,
      "outputs": [
        {
          "output_type": "execute_result",
          "data": {
            "text/plain": [
              "1000"
            ]
          },
          "metadata": {
            "tags": []
          },
          "execution_count": 58
        }
      ]
    },
    {
      "cell_type": "code",
      "metadata": {
        "id": "hbuQmdzg8AbT",
        "colab": {
          "base_uri": "https://localhost:8080/"
        },
        "outputId": "f357dfc7-a165-4a0b-c29e-f8833ae766de"
      },
      "source": [
        "logger.info(\"Read Amazon Triplet dev dataset\")\n",
        "\n",
        "evaluator = TripletEvaluator.from_input_examples(dev_examples, name='amazon-dev_sbertft_' + str(n_train) + \"_\" + trip_type + \"_margin\" + str(int(trip_margin))+ \"_run1\")\n",
        "\n",
        "warmup_steps = int(len(train_dataloader) * num_epochs * 0.1) #10% of train data\n"
      ],
      "execution_count": null,
      "outputs": [
        {
          "output_type": "stream",
          "text": [
            "2021-05-13 01:04:09 - Read Amazon Triplet dev dataset\n"
          ],
          "name": "stdout"
        }
      ]
    },
    {
      "cell_type": "code",
      "metadata": {
        "id": "LnwO-Z5w0TaO"
      },
      "source": [
        "import torch\n",
        "torch.cuda.empty_cache()"
      ],
      "execution_count": null,
      "outputs": []
    },
    {
      "cell_type": "code",
      "metadata": {
        "colab": {
          "base_uri": "https://localhost:8080/",
          "height": 741,
          "referenced_widgets": [
            "4c258c9bba4649f286b88335af17e2f0",
            "b6cf33e62f904f6891575fff938e5af9",
            "1802e609c4b54aa68f2634663bbebfcf",
            "e62c15d09863496c9f5f681e98f78101",
            "f7a3b67ea44540d784cbb685c4dd5d2c",
            "7f93d3dbc4604b8eb663a92fddec10f6",
            "849d8807e9bf4bc2a7aefe733db3367e",
            "fc7c258c1eb54eaa81c49da8ce3de010",
            "4897c0d86d584dbd9c082e1fda7ba824",
            "225601b3364c4fc7bded0097f354eed4",
            "8504c7e22baa42a99fea3542ea6a1472",
            "2a470fbd315e4262910422e8039c69ac",
            "60b3e8eea2d541c78c1458ec9004e60c",
            "ed07d645f7f145ec8677d0efb0ee5a18",
            "63f9144c2a0e42949fbaff62c896c930",
            "acd18f369ce14fc682295ce15649c210"
          ]
        },
        "id": "u1ySHEPs8I-U",
        "outputId": "6a0deb21-a137-4a7e-827c-9801837c509e"
      },
      "source": [
        "# Train the model\n",
        "model.fit(train_objectives=[(train_dataloader, train_loss)],\n",
        "          evaluator=evaluator,\n",
        "          epochs=num_epochs,\n",
        "          evaluation_steps=200,\n",
        "          warmup_steps=warmup_steps,\n",
        "          output_path=output_path)"
      ],
      "execution_count": null,
      "outputs": [
        {
          "output_type": "display_data",
          "data": {
            "application/vnd.jupyter.widget-view+json": {
              "model_id": "4c258c9bba4649f286b88335af17e2f0",
              "version_minor": 0,
              "version_major": 2
            },
            "text/plain": [
              "HBox(children=(FloatProgress(value=0.0, description='Epoch', max=1.0, style=ProgressStyle(description_width='i…"
            ]
          },
          "metadata": {
            "tags": []
          }
        },
        {
          "output_type": "display_data",
          "data": {
            "application/vnd.jupyter.widget-view+json": {
              "model_id": "4897c0d86d584dbd9c082e1fda7ba824",
              "version_minor": 0,
              "version_major": 2
            },
            "text/plain": [
              "HBox(children=(FloatProgress(value=0.0, description='Iteration', max=1000.0, style=ProgressStyle(description_w…"
            ]
          },
          "metadata": {
            "tags": []
          }
        },
        {
          "output_type": "stream",
          "text": [
            "2021-05-13 01:04:59 - TripletEvaluator: Evaluating the model on amazon-dev_sbertft_8000_randomsentence_margin5_run1 dataset in epoch 0 after 200 steps:\n",
            "2021-05-13 01:05:03 - Accuracy Cosine Distance:   \t79.60\n",
            "2021-05-13 01:05:03 - Accuracy Manhatten Distance:\t80.00\n",
            "2021-05-13 01:05:03 - Accuracy Euclidean Distance:\t80.80\n",
            "\n",
            "2021-05-13 01:05:03 - Save model to output/training-amazon-triplets-stsb-bert-base-2021-05-13_01-04-07\n",
            "2021-05-13 01:05:52 - TripletEvaluator: Evaluating the model on amazon-dev_sbertft_8000_randomsentence_margin5_run1 dataset in epoch 0 after 400 steps:\n",
            "2021-05-13 01:05:56 - Accuracy Cosine Distance:   \t82.40\n",
            "2021-05-13 01:05:56 - Accuracy Manhatten Distance:\t82.10\n",
            "2021-05-13 01:05:56 - Accuracy Euclidean Distance:\t82.20\n",
            "\n",
            "2021-05-13 01:05:56 - Save model to output/training-amazon-triplets-stsb-bert-base-2021-05-13_01-04-07\n",
            "2021-05-13 01:06:45 - TripletEvaluator: Evaluating the model on amazon-dev_sbertft_8000_randomsentence_margin5_run1 dataset in epoch 0 after 600 steps:\n",
            "2021-05-13 01:06:49 - Accuracy Cosine Distance:   \t82.80\n",
            "2021-05-13 01:06:49 - Accuracy Manhatten Distance:\t83.10\n",
            "2021-05-13 01:06:49 - Accuracy Euclidean Distance:\t83.10\n",
            "\n",
            "2021-05-13 01:06:49 - Save model to output/training-amazon-triplets-stsb-bert-base-2021-05-13_01-04-07\n",
            "2021-05-13 01:07:39 - TripletEvaluator: Evaluating the model on amazon-dev_sbertft_8000_randomsentence_margin5_run1 dataset in epoch 0 after 800 steps:\n",
            "2021-05-13 01:07:44 - Accuracy Cosine Distance:   \t83.10\n",
            "2021-05-13 01:07:44 - Accuracy Manhatten Distance:\t82.90\n",
            "2021-05-13 01:07:44 - Accuracy Euclidean Distance:\t82.70\n",
            "\n",
            "2021-05-13 01:08:32 - TripletEvaluator: Evaluating the model on amazon-dev_sbertft_8000_randomsentence_margin5_run1 dataset in epoch 0 after 1000 steps:\n",
            "2021-05-13 01:08:36 - Accuracy Cosine Distance:   \t83.90\n",
            "2021-05-13 01:08:36 - Accuracy Manhatten Distance:\t83.50\n",
            "2021-05-13 01:08:36 - Accuracy Euclidean Distance:\t83.40\n",
            "\n",
            "2021-05-13 01:08:36 - Save model to output/training-amazon-triplets-stsb-bert-base-2021-05-13_01-04-07\n",
            "\n",
            "2021-05-13 01:08:37 - TripletEvaluator: Evaluating the model on amazon-dev_sbertft_8000_randomsentence_margin5_run1 dataset after epoch 0:\n",
            "2021-05-13 01:08:42 - Accuracy Cosine Distance:   \t83.90\n",
            "2021-05-13 01:08:42 - Accuracy Manhatten Distance:\t83.50\n",
            "2021-05-13 01:08:42 - Accuracy Euclidean Distance:\t83.40\n",
            "\n",
            "\n"
          ],
          "name": "stdout"
        }
      ]
    },
    {
      "cell_type": "code",
      "metadata": {
        "colab": {
          "base_uri": "https://localhost:8080/"
        },
        "id": "j0fhkf177E9P",
        "outputId": "c42b2614-bd29-4cff-be41-9324bc6719a7"
      },
      "source": [
        "##############################################################################\n",
        "#\n",
        "# Load the stored model and evaluate its performance on Amazon test dataset\n",
        "#\n",
        "##############################################################################\n",
        "\n",
        "logger.info(\"Read test examples\")\n",
        "model = SentenceTransformer(output_path)\n",
        "test_evaluator = TripletEvaluator.from_input_examples(test_examples, name='amazon-test_sbertft_' + str(n_train) + \"_\" + trip_type + \"_margin\" + str(int(trip_margin))+ \"_run1\")\n",
        "test_evaluator(model, output_path=output_path)"
      ],
      "execution_count": null,
      "outputs": [
        {
          "output_type": "stream",
          "text": [
            "2021-05-13 01:08:42 - Read test examples\n",
            "2021-05-13 01:08:42 - Load pretrained SentenceTransformer: output/training-amazon-triplets-stsb-bert-base-2021-05-13_01-04-07\n",
            "2021-05-13 01:08:42 - Load SentenceTransformer from folder: output/training-amazon-triplets-stsb-bert-base-2021-05-13_01-04-07\n",
            "2021-05-13 01:08:43 - Use pytorch device: cuda\n",
            "2021-05-13 01:08:43 - TripletEvaluator: Evaluating the model on amazon-test_sbertft_8000_randomsentence_margin5_run1 dataset:\n",
            "2021-05-13 01:08:48 - Accuracy Cosine Distance:   \t80.90\n",
            "2021-05-13 01:08:48 - Accuracy Manhatten Distance:\t80.40\n",
            "2021-05-13 01:08:48 - Accuracy Euclidean Distance:\t80.70\n",
            "\n"
          ],
          "name": "stdout"
        },
        {
          "output_type": "execute_result",
          "data": {
            "text/plain": [
              "0.809"
            ]
          },
          "metadata": {
            "tags": []
          },
          "execution_count": 62
        }
      ]
    },
    {
      "cell_type": "code",
      "metadata": {
        "colab": {
          "base_uri": "https://localhost:8080/",
          "height": 152,
          "referenced_widgets": [
            "736dd9c55a7447788b5daec692783647",
            "ebd5923aca7b4f24b8111067ee4647cf",
            "18871c8a18da49168922f9882047a084",
            "46599e81e2fe445d9fe33bb89eebd1de",
            "9a5c6a89430f4e5cb93e9595a0946f0b",
            "6a57146ed4ef46a389f7fb6517065cf6",
            "84e2ba2d2e1748df8d0c36084cda6a1e",
            "737c4c327ab84d57a74cea5370ebbd30",
            "dfbfeef556154f80a512bb510e0313a2",
            "663a4fab6e0244bd972502942b893a87",
            "3bb678c5f3f249deaaac71783cfecedd",
            "b939443fe90b458e93fd4641007a1da6",
            "7771806bd7e64c658a7c45a82e2c19ca",
            "a307401898ba41f68bfa367d613a1417",
            "7fa19c38c2304b399bfa1cb58173d88c",
            "d5b1add386a1458982655c49bfd38d1a"
          ]
        },
        "id": "zxbRSxRE_wwD",
        "outputId": "3ec658fc-a6e9-40c4-e799-88773b4284d9"
      },
      "source": [
        "import pandas as pd\n",
        "\n",
        "# Load the dataset into a pandas dataframe.\n",
        "df_test = pd.read_csv(\"/content/sample_data/sentence_pair_unique.csv\")\n",
        "\n",
        "# Report the number of sentences.\n",
        "print('Number of training sentences: {:,}\\n'.format(df_test.shape[0]))\n",
        "\n",
        "# Display 5 random rows from the data.\n",
        "df_test.sample(1)\n",
        "\n",
        "# Get the lists of sentences and their labels.\n",
        "sent1 = df_test.sent1_text.values\n",
        "sent2 = df_test.sent2_text.values\n",
        "sent1 = sent1.tolist()\n",
        "sent2 = sent2.tolist()\n",
        "\n",
        "sent1_embeddings = model.encode(sent1)\n",
        "sent1_embeddings.shape\n",
        "\n",
        "sent2_embeddings = model.encode(sent2)\n",
        "sent2_embeddings.shape\n",
        "\n",
        "from sklearn.metrics.pairwise import cosine_similarity\n",
        "import scipy\n",
        "import pandas as pd\n",
        "import numpy as np\n",
        "\n",
        "\n",
        "cos_list = []\n",
        "cos2_list = []\n",
        "\n",
        "for j in range(len(sent1_embeddings)):\n",
        "  sent1 = sent1_embeddings[j]\n",
        "  sent2 = sent2_embeddings[j]\n",
        "  cos = 1-scipy.spatial.distance.cdist(sent1.reshape(1, -1), sent2.reshape(1, -1), \"cosine\")[0][0]\n",
        "  cos2 = cosine_similarity(sent1.reshape(1, -1), sent2.reshape(1, -1))[0][0]\n",
        "  cos_list.append(cos)\n",
        "  cos2_list.append(cos2)\n",
        "\n",
        "assert(len(cos_list)==len(df_test))\n",
        "assert(len(cos2_list)==len(df_test))\n",
        "\n",
        "df_test[\"model_similarity\"] = cos_list\n",
        "df_test[\"model_similarity2\"] = cos2_list\n",
        "\n",
        "df_test.to_csv(\"/content/sample_data/sentence_pair_sbert_amazon_\"+str(n_train)+\"_\" + trip_type + \"_triplet_margin\" + str(int(trip_margin)) + \"_run1.csv\",\n",
        "                    index=None)"
      ],
      "execution_count": null,
      "outputs": [
        {
          "output_type": "stream",
          "text": [
            "Number of training sentences: 1,635\n",
            "\n"
          ],
          "name": "stdout"
        },
        {
          "output_type": "display_data",
          "data": {
            "application/vnd.jupyter.widget-view+json": {
              "model_id": "736dd9c55a7447788b5daec692783647",
              "version_minor": 0,
              "version_major": 2
            },
            "text/plain": [
              "HBox(children=(FloatProgress(value=0.0, description='Batches', max=52.0, style=ProgressStyle(description_width…"
            ]
          },
          "metadata": {
            "tags": []
          }
        },
        {
          "output_type": "stream",
          "text": [
            "\n"
          ],
          "name": "stdout"
        },
        {
          "output_type": "display_data",
          "data": {
            "application/vnd.jupyter.widget-view+json": {
              "model_id": "dfbfeef556154f80a512bb510e0313a2",
              "version_minor": 0,
              "version_major": 2
            },
            "text/plain": [
              "HBox(children=(FloatProgress(value=0.0, description='Batches', max=52.0, style=ProgressStyle(description_width…"
            ]
          },
          "metadata": {
            "tags": []
          }
        },
        {
          "output_type": "stream",
          "text": [
            "\n"
          ],
          "name": "stdout"
        }
      ]
    },
    {
      "cell_type": "code",
      "metadata": {
        "id": "N81da-tQJ3pY",
        "colab": {
          "base_uri": "https://localhost:8080/"
        },
        "outputId": "5220d849-fc67-46af-aac3-2ccc87b67f4a"
      },
      "source": [
        "##############################################################################\n",
        "#\n",
        "# Load the stored model and evaluate its performance on Amazon test dataset\n",
        "#\n",
        "##############################################################################\n",
        "\n",
        "logger.info(\"Read test examples\")\n",
        "model = SentenceTransformer(model_name)\n",
        "test_evaluator = TripletEvaluator.from_input_examples(test_examples, name='amazon-test_sbert')\n",
        "test_evaluator(model, output_path=output_path)"
      ],
      "execution_count": null,
      "outputs": [
        {
          "output_type": "stream",
          "text": [
            "2021-05-12 09:18:49 - Read test examples\n",
            "2021-05-12 09:18:49 - Load pretrained SentenceTransformer: stsb-bert-base\n",
            "2021-05-12 09:18:49 - Did not find folder stsb-bert-base\n",
            "2021-05-12 09:18:49 - Search model on server: http://sbert.net/models/stsb-bert-base.zip\n",
            "2021-05-12 09:18:49 - Load SentenceTransformer from folder: /root/.cache/torch/sentence_transformers/sbert.net_models_stsb-bert-base\n",
            "2021-05-12 09:18:52 - Use pytorch device: cuda\n",
            "2021-05-12 09:18:52 - TripletEvaluator: Evaluating the model on amazon-test_sbert dataset:\n",
            "2021-05-12 09:19:12 - Accuracy Cosine Distance:   \t72.50\n",
            "2021-05-12 09:19:12 - Accuracy Manhatten Distance:\t74.00\n",
            "2021-05-12 09:19:12 - Accuracy Euclidean Distance:\t73.80\n",
            "\n"
          ],
          "name": "stdout"
        },
        {
          "output_type": "execute_result",
          "data": {
            "text/plain": [
              "0.74"
            ]
          },
          "metadata": {
            "tags": []
          },
          "execution_count": 29
        }
      ]
    },
    {
      "cell_type": "code",
      "metadata": {
        "id": "L4xCgeF6z0sL"
      },
      "source": [
        ""
      ],
      "execution_count": null,
      "outputs": []
    }
  ]
}