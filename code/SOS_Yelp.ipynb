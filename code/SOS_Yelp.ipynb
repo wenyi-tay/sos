{
  "nbformat": 4,
  "nbformat_minor": 0,
  "metadata": {
    "colab": {
      "name": " EMNLP2021 paper Yelp",
      "provenance": [],
      "collapsed_sections": [],
      "toc_visible": true
    },
    "kernelspec": {
      "name": "python3",
      "display_name": "Python 3"
    },
    "language_info": {
      "name": "python"
    },
    "accelerator": "GPU",
    "widgets": {
      "application/vnd.jupyter.widget-state+json": {
        "3e5a621b9d334d9692ca19758ab6fd7f": {
          "model_module": "@jupyter-widgets/controls",
          "model_name": "HBoxModel",
          "state": {
            "_view_name": "HBoxView",
            "_dom_classes": [],
            "_model_name": "HBoxModel",
            "_view_module": "@jupyter-widgets/controls",
            "_model_module_version": "1.5.0",
            "_view_count": null,
            "_view_module_version": "1.5.0",
            "box_style": "",
            "layout": "IPY_MODEL_4b991d0f277b404eadbc365d97273111",
            "_model_module": "@jupyter-widgets/controls",
            "children": [
              "IPY_MODEL_6b4d67264365483a8a8aad4aa6a79df8",
              "IPY_MODEL_3350172e186143ac8292050e2b5804bc"
            ]
          }
        },
        "4b991d0f277b404eadbc365d97273111": {
          "model_module": "@jupyter-widgets/base",
          "model_name": "LayoutModel",
          "state": {
            "_view_name": "LayoutView",
            "grid_template_rows": null,
            "right": null,
            "justify_content": null,
            "_view_module": "@jupyter-widgets/base",
            "overflow": null,
            "_model_module_version": "1.2.0",
            "_view_count": null,
            "flex_flow": null,
            "width": null,
            "min_width": null,
            "border": null,
            "align_items": null,
            "bottom": null,
            "_model_module": "@jupyter-widgets/base",
            "top": null,
            "grid_column": null,
            "overflow_y": null,
            "overflow_x": null,
            "grid_auto_flow": null,
            "grid_area": null,
            "grid_template_columns": null,
            "flex": null,
            "_model_name": "LayoutModel",
            "justify_items": null,
            "grid_row": null,
            "max_height": null,
            "align_content": null,
            "visibility": null,
            "align_self": null,
            "height": null,
            "min_height": null,
            "padding": null,
            "grid_auto_rows": null,
            "grid_gap": null,
            "max_width": null,
            "order": null,
            "_view_module_version": "1.2.0",
            "grid_template_areas": null,
            "object_position": null,
            "object_fit": null,
            "grid_auto_columns": null,
            "margin": null,
            "display": null,
            "left": null
          }
        },
        "6b4d67264365483a8a8aad4aa6a79df8": {
          "model_module": "@jupyter-widgets/controls",
          "model_name": "FloatProgressModel",
          "state": {
            "_view_name": "ProgressView",
            "style": "IPY_MODEL_b40090e420f14f00875808cf4b3b418b",
            "_dom_classes": [],
            "description": "Epoch: 100%",
            "_model_name": "FloatProgressModel",
            "bar_style": "success",
            "max": 1,
            "_view_module": "@jupyter-widgets/controls",
            "_model_module_version": "1.5.0",
            "value": 1,
            "_view_count": null,
            "_view_module_version": "1.5.0",
            "orientation": "horizontal",
            "min": 0,
            "description_tooltip": null,
            "_model_module": "@jupyter-widgets/controls",
            "layout": "IPY_MODEL_2c094474e7a545feb2612ea7f9fb54a8"
          }
        },
        "3350172e186143ac8292050e2b5804bc": {
          "model_module": "@jupyter-widgets/controls",
          "model_name": "HTMLModel",
          "state": {
            "_view_name": "HTMLView",
            "style": "IPY_MODEL_a0723d95809043a1afc7af8a6a658850",
            "_dom_classes": [],
            "description": "",
            "_model_name": "HTMLModel",
            "placeholder": "​",
            "_view_module": "@jupyter-widgets/controls",
            "_model_module_version": "1.5.0",
            "value": " 1/1 [13:39&lt;00:00, 819.16s/it]",
            "_view_count": null,
            "_view_module_version": "1.5.0",
            "description_tooltip": null,
            "_model_module": "@jupyter-widgets/controls",
            "layout": "IPY_MODEL_87dac526ab7a4722a97be0fd46c39c27"
          }
        },
        "b40090e420f14f00875808cf4b3b418b": {
          "model_module": "@jupyter-widgets/controls",
          "model_name": "ProgressStyleModel",
          "state": {
            "_view_name": "StyleView",
            "_model_name": "ProgressStyleModel",
            "description_width": "initial",
            "_view_module": "@jupyter-widgets/base",
            "_model_module_version": "1.5.0",
            "_view_count": null,
            "_view_module_version": "1.2.0",
            "bar_color": null,
            "_model_module": "@jupyter-widgets/controls"
          }
        },
        "2c094474e7a545feb2612ea7f9fb54a8": {
          "model_module": "@jupyter-widgets/base",
          "model_name": "LayoutModel",
          "state": {
            "_view_name": "LayoutView",
            "grid_template_rows": null,
            "right": null,
            "justify_content": null,
            "_view_module": "@jupyter-widgets/base",
            "overflow": null,
            "_model_module_version": "1.2.0",
            "_view_count": null,
            "flex_flow": null,
            "width": null,
            "min_width": null,
            "border": null,
            "align_items": null,
            "bottom": null,
            "_model_module": "@jupyter-widgets/base",
            "top": null,
            "grid_column": null,
            "overflow_y": null,
            "overflow_x": null,
            "grid_auto_flow": null,
            "grid_area": null,
            "grid_template_columns": null,
            "flex": null,
            "_model_name": "LayoutModel",
            "justify_items": null,
            "grid_row": null,
            "max_height": null,
            "align_content": null,
            "visibility": null,
            "align_self": null,
            "height": null,
            "min_height": null,
            "padding": null,
            "grid_auto_rows": null,
            "grid_gap": null,
            "max_width": null,
            "order": null,
            "_view_module_version": "1.2.0",
            "grid_template_areas": null,
            "object_position": null,
            "object_fit": null,
            "grid_auto_columns": null,
            "margin": null,
            "display": null,
            "left": null
          }
        },
        "a0723d95809043a1afc7af8a6a658850": {
          "model_module": "@jupyter-widgets/controls",
          "model_name": "DescriptionStyleModel",
          "state": {
            "_view_name": "StyleView",
            "_model_name": "DescriptionStyleModel",
            "description_width": "",
            "_view_module": "@jupyter-widgets/base",
            "_model_module_version": "1.5.0",
            "_view_count": null,
            "_view_module_version": "1.2.0",
            "_model_module": "@jupyter-widgets/controls"
          }
        },
        "87dac526ab7a4722a97be0fd46c39c27": {
          "model_module": "@jupyter-widgets/base",
          "model_name": "LayoutModel",
          "state": {
            "_view_name": "LayoutView",
            "grid_template_rows": null,
            "right": null,
            "justify_content": null,
            "_view_module": "@jupyter-widgets/base",
            "overflow": null,
            "_model_module_version": "1.2.0",
            "_view_count": null,
            "flex_flow": null,
            "width": null,
            "min_width": null,
            "border": null,
            "align_items": null,
            "bottom": null,
            "_model_module": "@jupyter-widgets/base",
            "top": null,
            "grid_column": null,
            "overflow_y": null,
            "overflow_x": null,
            "grid_auto_flow": null,
            "grid_area": null,
            "grid_template_columns": null,
            "flex": null,
            "_model_name": "LayoutModel",
            "justify_items": null,
            "grid_row": null,
            "max_height": null,
            "align_content": null,
            "visibility": null,
            "align_self": null,
            "height": null,
            "min_height": null,
            "padding": null,
            "grid_auto_rows": null,
            "grid_gap": null,
            "max_width": null,
            "order": null,
            "_view_module_version": "1.2.0",
            "grid_template_areas": null,
            "object_position": null,
            "object_fit": null,
            "grid_auto_columns": null,
            "margin": null,
            "display": null,
            "left": null
          }
        },
        "921083dfe6f840b899afb92294632e37": {
          "model_module": "@jupyter-widgets/controls",
          "model_name": "HBoxModel",
          "state": {
            "_view_name": "HBoxView",
            "_dom_classes": [],
            "_model_name": "HBoxModel",
            "_view_module": "@jupyter-widgets/controls",
            "_model_module_version": "1.5.0",
            "_view_count": null,
            "_view_module_version": "1.5.0",
            "box_style": "",
            "layout": "IPY_MODEL_982d789004e947bfa573d7de89791f41",
            "_model_module": "@jupyter-widgets/controls",
            "children": [
              "IPY_MODEL_5a52388a0de442e09909fa461355c0d2",
              "IPY_MODEL_168196e4aa1b4de0af7d9dbf68e96b1a"
            ]
          }
        },
        "982d789004e947bfa573d7de89791f41": {
          "model_module": "@jupyter-widgets/base",
          "model_name": "LayoutModel",
          "state": {
            "_view_name": "LayoutView",
            "grid_template_rows": null,
            "right": null,
            "justify_content": null,
            "_view_module": "@jupyter-widgets/base",
            "overflow": null,
            "_model_module_version": "1.2.0",
            "_view_count": null,
            "flex_flow": null,
            "width": null,
            "min_width": null,
            "border": null,
            "align_items": null,
            "bottom": null,
            "_model_module": "@jupyter-widgets/base",
            "top": null,
            "grid_column": null,
            "overflow_y": null,
            "overflow_x": null,
            "grid_auto_flow": null,
            "grid_area": null,
            "grid_template_columns": null,
            "flex": null,
            "_model_name": "LayoutModel",
            "justify_items": null,
            "grid_row": null,
            "max_height": null,
            "align_content": null,
            "visibility": null,
            "align_self": null,
            "height": null,
            "min_height": null,
            "padding": null,
            "grid_auto_rows": null,
            "grid_gap": null,
            "max_width": null,
            "order": null,
            "_view_module_version": "1.2.0",
            "grid_template_areas": null,
            "object_position": null,
            "object_fit": null,
            "grid_auto_columns": null,
            "margin": null,
            "display": null,
            "left": null
          }
        },
        "5a52388a0de442e09909fa461355c0d2": {
          "model_module": "@jupyter-widgets/controls",
          "model_name": "FloatProgressModel",
          "state": {
            "_view_name": "ProgressView",
            "style": "IPY_MODEL_802ad9a396674a099bc3c52df53bb7a2",
            "_dom_classes": [],
            "description": "Iteration: 100%",
            "_model_name": "FloatProgressModel",
            "bar_style": "success",
            "max": 1000,
            "_view_module": "@jupyter-widgets/controls",
            "_model_module_version": "1.5.0",
            "value": 1000,
            "_view_count": null,
            "_view_module_version": "1.5.0",
            "orientation": "horizontal",
            "min": 0,
            "description_tooltip": null,
            "_model_module": "@jupyter-widgets/controls",
            "layout": "IPY_MODEL_8f1cd9c129ac470fb1d1df1a326f6805"
          }
        },
        "168196e4aa1b4de0af7d9dbf68e96b1a": {
          "model_module": "@jupyter-widgets/controls",
          "model_name": "HTMLModel",
          "state": {
            "_view_name": "HTMLView",
            "style": "IPY_MODEL_3ff8befab3a045289b639c3c46b94250",
            "_dom_classes": [],
            "description": "",
            "_model_name": "HTMLModel",
            "placeholder": "​",
            "_view_module": "@jupyter-widgets/controls",
            "_model_module_version": "1.5.0",
            "value": " 1000/1000 [13:39&lt;00:00,  1.22it/s]",
            "_view_count": null,
            "_view_module_version": "1.5.0",
            "description_tooltip": null,
            "_model_module": "@jupyter-widgets/controls",
            "layout": "IPY_MODEL_efff28ac33a24d32a107ebe0b63aca7b"
          }
        },
        "802ad9a396674a099bc3c52df53bb7a2": {
          "model_module": "@jupyter-widgets/controls",
          "model_name": "ProgressStyleModel",
          "state": {
            "_view_name": "StyleView",
            "_model_name": "ProgressStyleModel",
            "description_width": "initial",
            "_view_module": "@jupyter-widgets/base",
            "_model_module_version": "1.5.0",
            "_view_count": null,
            "_view_module_version": "1.2.0",
            "bar_color": null,
            "_model_module": "@jupyter-widgets/controls"
          }
        },
        "8f1cd9c129ac470fb1d1df1a326f6805": {
          "model_module": "@jupyter-widgets/base",
          "model_name": "LayoutModel",
          "state": {
            "_view_name": "LayoutView",
            "grid_template_rows": null,
            "right": null,
            "justify_content": null,
            "_view_module": "@jupyter-widgets/base",
            "overflow": null,
            "_model_module_version": "1.2.0",
            "_view_count": null,
            "flex_flow": null,
            "width": null,
            "min_width": null,
            "border": null,
            "align_items": null,
            "bottom": null,
            "_model_module": "@jupyter-widgets/base",
            "top": null,
            "grid_column": null,
            "overflow_y": null,
            "overflow_x": null,
            "grid_auto_flow": null,
            "grid_area": null,
            "grid_template_columns": null,
            "flex": null,
            "_model_name": "LayoutModel",
            "justify_items": null,
            "grid_row": null,
            "max_height": null,
            "align_content": null,
            "visibility": null,
            "align_self": null,
            "height": null,
            "min_height": null,
            "padding": null,
            "grid_auto_rows": null,
            "grid_gap": null,
            "max_width": null,
            "order": null,
            "_view_module_version": "1.2.0",
            "grid_template_areas": null,
            "object_position": null,
            "object_fit": null,
            "grid_auto_columns": null,
            "margin": null,
            "display": null,
            "left": null
          }
        },
        "3ff8befab3a045289b639c3c46b94250": {
          "model_module": "@jupyter-widgets/controls",
          "model_name": "DescriptionStyleModel",
          "state": {
            "_view_name": "StyleView",
            "_model_name": "DescriptionStyleModel",
            "description_width": "",
            "_view_module": "@jupyter-widgets/base",
            "_model_module_version": "1.5.0",
            "_view_count": null,
            "_view_module_version": "1.2.0",
            "_model_module": "@jupyter-widgets/controls"
          }
        },
        "efff28ac33a24d32a107ebe0b63aca7b": {
          "model_module": "@jupyter-widgets/base",
          "model_name": "LayoutModel",
          "state": {
            "_view_name": "LayoutView",
            "grid_template_rows": null,
            "right": null,
            "justify_content": null,
            "_view_module": "@jupyter-widgets/base",
            "overflow": null,
            "_model_module_version": "1.2.0",
            "_view_count": null,
            "flex_flow": null,
            "width": null,
            "min_width": null,
            "border": null,
            "align_items": null,
            "bottom": null,
            "_model_module": "@jupyter-widgets/base",
            "top": null,
            "grid_column": null,
            "overflow_y": null,
            "overflow_x": null,
            "grid_auto_flow": null,
            "grid_area": null,
            "grid_template_columns": null,
            "flex": null,
            "_model_name": "LayoutModel",
            "justify_items": null,
            "grid_row": null,
            "max_height": null,
            "align_content": null,
            "visibility": null,
            "align_self": null,
            "height": null,
            "min_height": null,
            "padding": null,
            "grid_auto_rows": null,
            "grid_gap": null,
            "max_width": null,
            "order": null,
            "_view_module_version": "1.2.0",
            "grid_template_areas": null,
            "object_position": null,
            "object_fit": null,
            "grid_auto_columns": null,
            "margin": null,
            "display": null,
            "left": null
          }
        },
        "ce7612f5152a41bea5313dfc30b5d687": {
          "model_module": "@jupyter-widgets/controls",
          "model_name": "HBoxModel",
          "state": {
            "_view_name": "HBoxView",
            "_dom_classes": [],
            "_model_name": "HBoxModel",
            "_view_module": "@jupyter-widgets/controls",
            "_model_module_version": "1.5.0",
            "_view_count": null,
            "_view_module_version": "1.5.0",
            "box_style": "",
            "layout": "IPY_MODEL_351402a4a7034169a6898d5fb80c8e44",
            "_model_module": "@jupyter-widgets/controls",
            "children": [
              "IPY_MODEL_58d0e768fb104eb78a1b8510c3c0c3e1",
              "IPY_MODEL_f4646864435448ee828e803d034b7ee0"
            ]
          }
        },
        "351402a4a7034169a6898d5fb80c8e44": {
          "model_module": "@jupyter-widgets/base",
          "model_name": "LayoutModel",
          "state": {
            "_view_name": "LayoutView",
            "grid_template_rows": null,
            "right": null,
            "justify_content": null,
            "_view_module": "@jupyter-widgets/base",
            "overflow": null,
            "_model_module_version": "1.2.0",
            "_view_count": null,
            "flex_flow": null,
            "width": null,
            "min_width": null,
            "border": null,
            "align_items": null,
            "bottom": null,
            "_model_module": "@jupyter-widgets/base",
            "top": null,
            "grid_column": null,
            "overflow_y": null,
            "overflow_x": null,
            "grid_auto_flow": null,
            "grid_area": null,
            "grid_template_columns": null,
            "flex": null,
            "_model_name": "LayoutModel",
            "justify_items": null,
            "grid_row": null,
            "max_height": null,
            "align_content": null,
            "visibility": null,
            "align_self": null,
            "height": null,
            "min_height": null,
            "padding": null,
            "grid_auto_rows": null,
            "grid_gap": null,
            "max_width": null,
            "order": null,
            "_view_module_version": "1.2.0",
            "grid_template_areas": null,
            "object_position": null,
            "object_fit": null,
            "grid_auto_columns": null,
            "margin": null,
            "display": null,
            "left": null
          }
        },
        "58d0e768fb104eb78a1b8510c3c0c3e1": {
          "model_module": "@jupyter-widgets/controls",
          "model_name": "FloatProgressModel",
          "state": {
            "_view_name": "ProgressView",
            "style": "IPY_MODEL_19b0a803891b47e19aa11ec9acf552e6",
            "_dom_classes": [],
            "description": "Batches: 100%",
            "_model_name": "FloatProgressModel",
            "bar_style": "success",
            "max": 52,
            "_view_module": "@jupyter-widgets/controls",
            "_model_module_version": "1.5.0",
            "value": 52,
            "_view_count": null,
            "_view_module_version": "1.5.0",
            "orientation": "horizontal",
            "min": 0,
            "description_tooltip": null,
            "_model_module": "@jupyter-widgets/controls",
            "layout": "IPY_MODEL_9e0a863a5e894765a6545935323133e5"
          }
        },
        "f4646864435448ee828e803d034b7ee0": {
          "model_module": "@jupyter-widgets/controls",
          "model_name": "HTMLModel",
          "state": {
            "_view_name": "HTMLView",
            "style": "IPY_MODEL_f733f90b88cf4bf19f0bcdbce4d9ece2",
            "_dom_classes": [],
            "description": "",
            "_model_name": "HTMLModel",
            "placeholder": "​",
            "_view_module": "@jupyter-widgets/controls",
            "_model_module_version": "1.5.0",
            "value": " 52/52 [00:03&lt;00:00, 13.46it/s]",
            "_view_count": null,
            "_view_module_version": "1.5.0",
            "description_tooltip": null,
            "_model_module": "@jupyter-widgets/controls",
            "layout": "IPY_MODEL_49682a3de2094326a4e05b07d85745c0"
          }
        },
        "19b0a803891b47e19aa11ec9acf552e6": {
          "model_module": "@jupyter-widgets/controls",
          "model_name": "ProgressStyleModel",
          "state": {
            "_view_name": "StyleView",
            "_model_name": "ProgressStyleModel",
            "description_width": "initial",
            "_view_module": "@jupyter-widgets/base",
            "_model_module_version": "1.5.0",
            "_view_count": null,
            "_view_module_version": "1.2.0",
            "bar_color": null,
            "_model_module": "@jupyter-widgets/controls"
          }
        },
        "9e0a863a5e894765a6545935323133e5": {
          "model_module": "@jupyter-widgets/base",
          "model_name": "LayoutModel",
          "state": {
            "_view_name": "LayoutView",
            "grid_template_rows": null,
            "right": null,
            "justify_content": null,
            "_view_module": "@jupyter-widgets/base",
            "overflow": null,
            "_model_module_version": "1.2.0",
            "_view_count": null,
            "flex_flow": null,
            "width": null,
            "min_width": null,
            "border": null,
            "align_items": null,
            "bottom": null,
            "_model_module": "@jupyter-widgets/base",
            "top": null,
            "grid_column": null,
            "overflow_y": null,
            "overflow_x": null,
            "grid_auto_flow": null,
            "grid_area": null,
            "grid_template_columns": null,
            "flex": null,
            "_model_name": "LayoutModel",
            "justify_items": null,
            "grid_row": null,
            "max_height": null,
            "align_content": null,
            "visibility": null,
            "align_self": null,
            "height": null,
            "min_height": null,
            "padding": null,
            "grid_auto_rows": null,
            "grid_gap": null,
            "max_width": null,
            "order": null,
            "_view_module_version": "1.2.0",
            "grid_template_areas": null,
            "object_position": null,
            "object_fit": null,
            "grid_auto_columns": null,
            "margin": null,
            "display": null,
            "left": null
          }
        },
        "f733f90b88cf4bf19f0bcdbce4d9ece2": {
          "model_module": "@jupyter-widgets/controls",
          "model_name": "DescriptionStyleModel",
          "state": {
            "_view_name": "StyleView",
            "_model_name": "DescriptionStyleModel",
            "description_width": "",
            "_view_module": "@jupyter-widgets/base",
            "_model_module_version": "1.5.0",
            "_view_count": null,
            "_view_module_version": "1.2.0",
            "_model_module": "@jupyter-widgets/controls"
          }
        },
        "49682a3de2094326a4e05b07d85745c0": {
          "model_module": "@jupyter-widgets/base",
          "model_name": "LayoutModel",
          "state": {
            "_view_name": "LayoutView",
            "grid_template_rows": null,
            "right": null,
            "justify_content": null,
            "_view_module": "@jupyter-widgets/base",
            "overflow": null,
            "_model_module_version": "1.2.0",
            "_view_count": null,
            "flex_flow": null,
            "width": null,
            "min_width": null,
            "border": null,
            "align_items": null,
            "bottom": null,
            "_model_module": "@jupyter-widgets/base",
            "top": null,
            "grid_column": null,
            "overflow_y": null,
            "overflow_x": null,
            "grid_auto_flow": null,
            "grid_area": null,
            "grid_template_columns": null,
            "flex": null,
            "_model_name": "LayoutModel",
            "justify_items": null,
            "grid_row": null,
            "max_height": null,
            "align_content": null,
            "visibility": null,
            "align_self": null,
            "height": null,
            "min_height": null,
            "padding": null,
            "grid_auto_rows": null,
            "grid_gap": null,
            "max_width": null,
            "order": null,
            "_view_module_version": "1.2.0",
            "grid_template_areas": null,
            "object_position": null,
            "object_fit": null,
            "grid_auto_columns": null,
            "margin": null,
            "display": null,
            "left": null
          }
        },
        "ef75fd074fa14869ad982bae99b7105b": {
          "model_module": "@jupyter-widgets/controls",
          "model_name": "HBoxModel",
          "state": {
            "_view_name": "HBoxView",
            "_dom_classes": [],
            "_model_name": "HBoxModel",
            "_view_module": "@jupyter-widgets/controls",
            "_model_module_version": "1.5.0",
            "_view_count": null,
            "_view_module_version": "1.5.0",
            "box_style": "",
            "layout": "IPY_MODEL_3b959805d14543e3b5ae38e487012bf9",
            "_model_module": "@jupyter-widgets/controls",
            "children": [
              "IPY_MODEL_ae3ae95da8f34c37a2ebe1e698f1c631",
              "IPY_MODEL_a0d6c5681e9f43559a2ff676d7912df3"
            ]
          }
        },
        "3b959805d14543e3b5ae38e487012bf9": {
          "model_module": "@jupyter-widgets/base",
          "model_name": "LayoutModel",
          "state": {
            "_view_name": "LayoutView",
            "grid_template_rows": null,
            "right": null,
            "justify_content": null,
            "_view_module": "@jupyter-widgets/base",
            "overflow": null,
            "_model_module_version": "1.2.0",
            "_view_count": null,
            "flex_flow": null,
            "width": null,
            "min_width": null,
            "border": null,
            "align_items": null,
            "bottom": null,
            "_model_module": "@jupyter-widgets/base",
            "top": null,
            "grid_column": null,
            "overflow_y": null,
            "overflow_x": null,
            "grid_auto_flow": null,
            "grid_area": null,
            "grid_template_columns": null,
            "flex": null,
            "_model_name": "LayoutModel",
            "justify_items": null,
            "grid_row": null,
            "max_height": null,
            "align_content": null,
            "visibility": null,
            "align_self": null,
            "height": null,
            "min_height": null,
            "padding": null,
            "grid_auto_rows": null,
            "grid_gap": null,
            "max_width": null,
            "order": null,
            "_view_module_version": "1.2.0",
            "grid_template_areas": null,
            "object_position": null,
            "object_fit": null,
            "grid_auto_columns": null,
            "margin": null,
            "display": null,
            "left": null
          }
        },
        "ae3ae95da8f34c37a2ebe1e698f1c631": {
          "model_module": "@jupyter-widgets/controls",
          "model_name": "FloatProgressModel",
          "state": {
            "_view_name": "ProgressView",
            "style": "IPY_MODEL_a7e96e24aaf94b40b6e2e17a1f0764df",
            "_dom_classes": [],
            "description": "Batches: 100%",
            "_model_name": "FloatProgressModel",
            "bar_style": "success",
            "max": 52,
            "_view_module": "@jupyter-widgets/controls",
            "_model_module_version": "1.5.0",
            "value": 52,
            "_view_count": null,
            "_view_module_version": "1.5.0",
            "orientation": "horizontal",
            "min": 0,
            "description_tooltip": null,
            "_model_module": "@jupyter-widgets/controls",
            "layout": "IPY_MODEL_8f6556a814724cca854fde5cd800e2a2"
          }
        },
        "a0d6c5681e9f43559a2ff676d7912df3": {
          "model_module": "@jupyter-widgets/controls",
          "model_name": "HTMLModel",
          "state": {
            "_view_name": "HTMLView",
            "style": "IPY_MODEL_c2152c9db5f24fba9d3f69cc46c54160",
            "_dom_classes": [],
            "description": "",
            "_model_name": "HTMLModel",
            "placeholder": "​",
            "_view_module": "@jupyter-widgets/controls",
            "_model_module_version": "1.5.0",
            "value": " 52/52 [06:11&lt;00:00,  7.14s/it]",
            "_view_count": null,
            "_view_module_version": "1.5.0",
            "description_tooltip": null,
            "_model_module": "@jupyter-widgets/controls",
            "layout": "IPY_MODEL_5da9d91dd04b4645b2edb78e75d6eabc"
          }
        },
        "a7e96e24aaf94b40b6e2e17a1f0764df": {
          "model_module": "@jupyter-widgets/controls",
          "model_name": "ProgressStyleModel",
          "state": {
            "_view_name": "StyleView",
            "_model_name": "ProgressStyleModel",
            "description_width": "initial",
            "_view_module": "@jupyter-widgets/base",
            "_model_module_version": "1.5.0",
            "_view_count": null,
            "_view_module_version": "1.2.0",
            "bar_color": null,
            "_model_module": "@jupyter-widgets/controls"
          }
        },
        "8f6556a814724cca854fde5cd800e2a2": {
          "model_module": "@jupyter-widgets/base",
          "model_name": "LayoutModel",
          "state": {
            "_view_name": "LayoutView",
            "grid_template_rows": null,
            "right": null,
            "justify_content": null,
            "_view_module": "@jupyter-widgets/base",
            "overflow": null,
            "_model_module_version": "1.2.0",
            "_view_count": null,
            "flex_flow": null,
            "width": null,
            "min_width": null,
            "border": null,
            "align_items": null,
            "bottom": null,
            "_model_module": "@jupyter-widgets/base",
            "top": null,
            "grid_column": null,
            "overflow_y": null,
            "overflow_x": null,
            "grid_auto_flow": null,
            "grid_area": null,
            "grid_template_columns": null,
            "flex": null,
            "_model_name": "LayoutModel",
            "justify_items": null,
            "grid_row": null,
            "max_height": null,
            "align_content": null,
            "visibility": null,
            "align_self": null,
            "height": null,
            "min_height": null,
            "padding": null,
            "grid_auto_rows": null,
            "grid_gap": null,
            "max_width": null,
            "order": null,
            "_view_module_version": "1.2.0",
            "grid_template_areas": null,
            "object_position": null,
            "object_fit": null,
            "grid_auto_columns": null,
            "margin": null,
            "display": null,
            "left": null
          }
        },
        "c2152c9db5f24fba9d3f69cc46c54160": {
          "model_module": "@jupyter-widgets/controls",
          "model_name": "DescriptionStyleModel",
          "state": {
            "_view_name": "StyleView",
            "_model_name": "DescriptionStyleModel",
            "description_width": "",
            "_view_module": "@jupyter-widgets/base",
            "_model_module_version": "1.5.0",
            "_view_count": null,
            "_view_module_version": "1.2.0",
            "_model_module": "@jupyter-widgets/controls"
          }
        },
        "5da9d91dd04b4645b2edb78e75d6eabc": {
          "model_module": "@jupyter-widgets/base",
          "model_name": "LayoutModel",
          "state": {
            "_view_name": "LayoutView",
            "grid_template_rows": null,
            "right": null,
            "justify_content": null,
            "_view_module": "@jupyter-widgets/base",
            "overflow": null,
            "_model_module_version": "1.2.0",
            "_view_count": null,
            "flex_flow": null,
            "width": null,
            "min_width": null,
            "border": null,
            "align_items": null,
            "bottom": null,
            "_model_module": "@jupyter-widgets/base",
            "top": null,
            "grid_column": null,
            "overflow_y": null,
            "overflow_x": null,
            "grid_auto_flow": null,
            "grid_area": null,
            "grid_template_columns": null,
            "flex": null,
            "_model_name": "LayoutModel",
            "justify_items": null,
            "grid_row": null,
            "max_height": null,
            "align_content": null,
            "visibility": null,
            "align_self": null,
            "height": null,
            "min_height": null,
            "padding": null,
            "grid_auto_rows": null,
            "grid_gap": null,
            "max_width": null,
            "order": null,
            "_view_module_version": "1.2.0",
            "grid_template_areas": null,
            "object_position": null,
            "object_fit": null,
            "grid_auto_columns": null,
            "margin": null,
            "display": null,
            "left": null
          }
        },
        "824ea5b9d8494bf09e44ea1d18d679ca": {
          "model_module": "@jupyter-widgets/controls",
          "model_name": "HBoxModel",
          "state": {
            "_view_name": "HBoxView",
            "_dom_classes": [],
            "_model_name": "HBoxModel",
            "_view_module": "@jupyter-widgets/controls",
            "_model_module_version": "1.5.0",
            "_view_count": null,
            "_view_module_version": "1.5.0",
            "box_style": "",
            "layout": "IPY_MODEL_181fd5e114a848c69943c9fff6e88392",
            "_model_module": "@jupyter-widgets/controls",
            "children": [
              "IPY_MODEL_4e90cd005746457faf49a2bb65e6c921",
              "IPY_MODEL_b030b6c6c0a5467abf6a94aa5b5d3e16"
            ]
          }
        },
        "181fd5e114a848c69943c9fff6e88392": {
          "model_module": "@jupyter-widgets/base",
          "model_name": "LayoutModel",
          "state": {
            "_view_name": "LayoutView",
            "grid_template_rows": null,
            "right": null,
            "justify_content": null,
            "_view_module": "@jupyter-widgets/base",
            "overflow": null,
            "_model_module_version": "1.2.0",
            "_view_count": null,
            "flex_flow": null,
            "width": null,
            "min_width": null,
            "border": null,
            "align_items": null,
            "bottom": null,
            "_model_module": "@jupyter-widgets/base",
            "top": null,
            "grid_column": null,
            "overflow_y": null,
            "overflow_x": null,
            "grid_auto_flow": null,
            "grid_area": null,
            "grid_template_columns": null,
            "flex": null,
            "_model_name": "LayoutModel",
            "justify_items": null,
            "grid_row": null,
            "max_height": null,
            "align_content": null,
            "visibility": null,
            "align_self": null,
            "height": null,
            "min_height": null,
            "padding": null,
            "grid_auto_rows": null,
            "grid_gap": null,
            "max_width": null,
            "order": null,
            "_view_module_version": "1.2.0",
            "grid_template_areas": null,
            "object_position": null,
            "object_fit": null,
            "grid_auto_columns": null,
            "margin": null,
            "display": null,
            "left": null
          }
        },
        "4e90cd005746457faf49a2bb65e6c921": {
          "model_module": "@jupyter-widgets/controls",
          "model_name": "FloatProgressModel",
          "state": {
            "_view_name": "ProgressView",
            "style": "IPY_MODEL_bf34a1d97662446dbead518be557595e",
            "_dom_classes": [],
            "description": "100%",
            "_model_name": "FloatProgressModel",
            "bar_style": "success",
            "max": 405233603,
            "_view_module": "@jupyter-widgets/controls",
            "_model_module_version": "1.5.0",
            "value": 405233603,
            "_view_count": null,
            "_view_module_version": "1.5.0",
            "orientation": "horizontal",
            "min": 0,
            "description_tooltip": null,
            "_model_module": "@jupyter-widgets/controls",
            "layout": "IPY_MODEL_b0e818b6da124220861b6f6bd25b5845"
          }
        },
        "b030b6c6c0a5467abf6a94aa5b5d3e16": {
          "model_module": "@jupyter-widgets/controls",
          "model_name": "HTMLModel",
          "state": {
            "_view_name": "HTMLView",
            "style": "IPY_MODEL_4b29ba74b785478fbd14ba9289f0d3d6",
            "_dom_classes": [],
            "description": "",
            "_model_name": "HTMLModel",
            "placeholder": "​",
            "_view_module": "@jupyter-widgets/controls",
            "_model_module_version": "1.5.0",
            "value": " 405M/405M [00:27&lt;00:00, 14.6MB/s]",
            "_view_count": null,
            "_view_module_version": "1.5.0",
            "description_tooltip": null,
            "_model_module": "@jupyter-widgets/controls",
            "layout": "IPY_MODEL_fa8912029a8540748bfa69d1abdd1d90"
          }
        },
        "bf34a1d97662446dbead518be557595e": {
          "model_module": "@jupyter-widgets/controls",
          "model_name": "ProgressStyleModel",
          "state": {
            "_view_name": "StyleView",
            "_model_name": "ProgressStyleModel",
            "description_width": "initial",
            "_view_module": "@jupyter-widgets/base",
            "_model_module_version": "1.5.0",
            "_view_count": null,
            "_view_module_version": "1.2.0",
            "bar_color": null,
            "_model_module": "@jupyter-widgets/controls"
          }
        },
        "b0e818b6da124220861b6f6bd25b5845": {
          "model_module": "@jupyter-widgets/base",
          "model_name": "LayoutModel",
          "state": {
            "_view_name": "LayoutView",
            "grid_template_rows": null,
            "right": null,
            "justify_content": null,
            "_view_module": "@jupyter-widgets/base",
            "overflow": null,
            "_model_module_version": "1.2.0",
            "_view_count": null,
            "flex_flow": null,
            "width": null,
            "min_width": null,
            "border": null,
            "align_items": null,
            "bottom": null,
            "_model_module": "@jupyter-widgets/base",
            "top": null,
            "grid_column": null,
            "overflow_y": null,
            "overflow_x": null,
            "grid_auto_flow": null,
            "grid_area": null,
            "grid_template_columns": null,
            "flex": null,
            "_model_name": "LayoutModel",
            "justify_items": null,
            "grid_row": null,
            "max_height": null,
            "align_content": null,
            "visibility": null,
            "align_self": null,
            "height": null,
            "min_height": null,
            "padding": null,
            "grid_auto_rows": null,
            "grid_gap": null,
            "max_width": null,
            "order": null,
            "_view_module_version": "1.2.0",
            "grid_template_areas": null,
            "object_position": null,
            "object_fit": null,
            "grid_auto_columns": null,
            "margin": null,
            "display": null,
            "left": null
          }
        },
        "4b29ba74b785478fbd14ba9289f0d3d6": {
          "model_module": "@jupyter-widgets/controls",
          "model_name": "DescriptionStyleModel",
          "state": {
            "_view_name": "StyleView",
            "_model_name": "DescriptionStyleModel",
            "description_width": "",
            "_view_module": "@jupyter-widgets/base",
            "_model_module_version": "1.5.0",
            "_view_count": null,
            "_view_module_version": "1.2.0",
            "_model_module": "@jupyter-widgets/controls"
          }
        },
        "fa8912029a8540748bfa69d1abdd1d90": {
          "model_module": "@jupyter-widgets/base",
          "model_name": "LayoutModel",
          "state": {
            "_view_name": "LayoutView",
            "grid_template_rows": null,
            "right": null,
            "justify_content": null,
            "_view_module": "@jupyter-widgets/base",
            "overflow": null,
            "_model_module_version": "1.2.0",
            "_view_count": null,
            "flex_flow": null,
            "width": null,
            "min_width": null,
            "border": null,
            "align_items": null,
            "bottom": null,
            "_model_module": "@jupyter-widgets/base",
            "top": null,
            "grid_column": null,
            "overflow_y": null,
            "overflow_x": null,
            "grid_auto_flow": null,
            "grid_area": null,
            "grid_template_columns": null,
            "flex": null,
            "_model_name": "LayoutModel",
            "justify_items": null,
            "grid_row": null,
            "max_height": null,
            "align_content": null,
            "visibility": null,
            "align_self": null,
            "height": null,
            "min_height": null,
            "padding": null,
            "grid_auto_rows": null,
            "grid_gap": null,
            "max_width": null,
            "order": null,
            "_view_module_version": "1.2.0",
            "grid_template_areas": null,
            "object_position": null,
            "object_fit": null,
            "grid_auto_columns": null,
            "margin": null,
            "display": null,
            "left": null
          }
        },
        "297e24e3389d44a1b652abb48406801d": {
          "model_module": "@jupyter-widgets/controls",
          "model_name": "HBoxModel",
          "state": {
            "_view_name": "HBoxView",
            "_dom_classes": [],
            "_model_name": "HBoxModel",
            "_view_module": "@jupyter-widgets/controls",
            "_model_module_version": "1.5.0",
            "_view_count": null,
            "_view_module_version": "1.5.0",
            "box_style": "",
            "layout": "IPY_MODEL_b86940f71df746c5831a5ee585dfcb2c",
            "_model_module": "@jupyter-widgets/controls",
            "children": [
              "IPY_MODEL_3c2d3fd4c68e4acda2979d32b58ac2c4",
              "IPY_MODEL_66d4f0e6d1724932bafc348ac456ae43"
            ]
          }
        },
        "b86940f71df746c5831a5ee585dfcb2c": {
          "model_module": "@jupyter-widgets/base",
          "model_name": "LayoutModel",
          "state": {
            "_view_name": "LayoutView",
            "grid_template_rows": null,
            "right": null,
            "justify_content": null,
            "_view_module": "@jupyter-widgets/base",
            "overflow": null,
            "_model_module_version": "1.2.0",
            "_view_count": null,
            "flex_flow": null,
            "width": null,
            "min_width": null,
            "border": null,
            "align_items": null,
            "bottom": null,
            "_model_module": "@jupyter-widgets/base",
            "top": null,
            "grid_column": null,
            "overflow_y": null,
            "overflow_x": null,
            "grid_auto_flow": null,
            "grid_area": null,
            "grid_template_columns": null,
            "flex": null,
            "_model_name": "LayoutModel",
            "justify_items": null,
            "grid_row": null,
            "max_height": null,
            "align_content": null,
            "visibility": null,
            "align_self": null,
            "height": null,
            "min_height": null,
            "padding": null,
            "grid_auto_rows": null,
            "grid_gap": null,
            "max_width": null,
            "order": null,
            "_view_module_version": "1.2.0",
            "grid_template_areas": null,
            "object_position": null,
            "object_fit": null,
            "grid_auto_columns": null,
            "margin": null,
            "display": null,
            "left": null
          }
        },
        "3c2d3fd4c68e4acda2979d32b58ac2c4": {
          "model_module": "@jupyter-widgets/controls",
          "model_name": "FloatProgressModel",
          "state": {
            "_view_name": "ProgressView",
            "style": "IPY_MODEL_7c45cb30ff6a42a58680fa693bd8df9a",
            "_dom_classes": [],
            "description": "Epoch: 100%",
            "_model_name": "FloatProgressModel",
            "bar_style": "success",
            "max": 1,
            "_view_module": "@jupyter-widgets/controls",
            "_model_module_version": "1.5.0",
            "value": 1,
            "_view_count": null,
            "_view_module_version": "1.5.0",
            "orientation": "horizontal",
            "min": 0,
            "description_tooltip": null,
            "_model_module": "@jupyter-widgets/controls",
            "layout": "IPY_MODEL_e0fc4fb1ad81458796b27b9a2076f014"
          }
        },
        "66d4f0e6d1724932bafc348ac456ae43": {
          "model_module": "@jupyter-widgets/controls",
          "model_name": "HTMLModel",
          "state": {
            "_view_name": "HTMLView",
            "style": "IPY_MODEL_07ae903870684bae9c54df71d9740fce",
            "_dom_classes": [],
            "description": "",
            "_model_name": "HTMLModel",
            "placeholder": "​",
            "_view_module": "@jupyter-widgets/controls",
            "_model_module_version": "1.5.0",
            "value": " 1/1 [01:36&lt;00:00, 96.46s/it]",
            "_view_count": null,
            "_view_module_version": "1.5.0",
            "description_tooltip": null,
            "_model_module": "@jupyter-widgets/controls",
            "layout": "IPY_MODEL_68811e3386764a1aa5c216ccee8c8e81"
          }
        },
        "7c45cb30ff6a42a58680fa693bd8df9a": {
          "model_module": "@jupyter-widgets/controls",
          "model_name": "ProgressStyleModel",
          "state": {
            "_view_name": "StyleView",
            "_model_name": "ProgressStyleModel",
            "description_width": "initial",
            "_view_module": "@jupyter-widgets/base",
            "_model_module_version": "1.5.0",
            "_view_count": null,
            "_view_module_version": "1.2.0",
            "bar_color": null,
            "_model_module": "@jupyter-widgets/controls"
          }
        },
        "e0fc4fb1ad81458796b27b9a2076f014": {
          "model_module": "@jupyter-widgets/base",
          "model_name": "LayoutModel",
          "state": {
            "_view_name": "LayoutView",
            "grid_template_rows": null,
            "right": null,
            "justify_content": null,
            "_view_module": "@jupyter-widgets/base",
            "overflow": null,
            "_model_module_version": "1.2.0",
            "_view_count": null,
            "flex_flow": null,
            "width": null,
            "min_width": null,
            "border": null,
            "align_items": null,
            "bottom": null,
            "_model_module": "@jupyter-widgets/base",
            "top": null,
            "grid_column": null,
            "overflow_y": null,
            "overflow_x": null,
            "grid_auto_flow": null,
            "grid_area": null,
            "grid_template_columns": null,
            "flex": null,
            "_model_name": "LayoutModel",
            "justify_items": null,
            "grid_row": null,
            "max_height": null,
            "align_content": null,
            "visibility": null,
            "align_self": null,
            "height": null,
            "min_height": null,
            "padding": null,
            "grid_auto_rows": null,
            "grid_gap": null,
            "max_width": null,
            "order": null,
            "_view_module_version": "1.2.0",
            "grid_template_areas": null,
            "object_position": null,
            "object_fit": null,
            "grid_auto_columns": null,
            "margin": null,
            "display": null,
            "left": null
          }
        },
        "07ae903870684bae9c54df71d9740fce": {
          "model_module": "@jupyter-widgets/controls",
          "model_name": "DescriptionStyleModel",
          "state": {
            "_view_name": "StyleView",
            "_model_name": "DescriptionStyleModel",
            "description_width": "",
            "_view_module": "@jupyter-widgets/base",
            "_model_module_version": "1.5.0",
            "_view_count": null,
            "_view_module_version": "1.2.0",
            "_model_module": "@jupyter-widgets/controls"
          }
        },
        "68811e3386764a1aa5c216ccee8c8e81": {
          "model_module": "@jupyter-widgets/base",
          "model_name": "LayoutModel",
          "state": {
            "_view_name": "LayoutView",
            "grid_template_rows": null,
            "right": null,
            "justify_content": null,
            "_view_module": "@jupyter-widgets/base",
            "overflow": null,
            "_model_module_version": "1.2.0",
            "_view_count": null,
            "flex_flow": null,
            "width": null,
            "min_width": null,
            "border": null,
            "align_items": null,
            "bottom": null,
            "_model_module": "@jupyter-widgets/base",
            "top": null,
            "grid_column": null,
            "overflow_y": null,
            "overflow_x": null,
            "grid_auto_flow": null,
            "grid_area": null,
            "grid_template_columns": null,
            "flex": null,
            "_model_name": "LayoutModel",
            "justify_items": null,
            "grid_row": null,
            "max_height": null,
            "align_content": null,
            "visibility": null,
            "align_self": null,
            "height": null,
            "min_height": null,
            "padding": null,
            "grid_auto_rows": null,
            "grid_gap": null,
            "max_width": null,
            "order": null,
            "_view_module_version": "1.2.0",
            "grid_template_areas": null,
            "object_position": null,
            "object_fit": null,
            "grid_auto_columns": null,
            "margin": null,
            "display": null,
            "left": null
          }
        },
        "b3eaa864d6c144dd934986f0167d5572": {
          "model_module": "@jupyter-widgets/controls",
          "model_name": "HBoxModel",
          "state": {
            "_view_name": "HBoxView",
            "_dom_classes": [],
            "_model_name": "HBoxModel",
            "_view_module": "@jupyter-widgets/controls",
            "_model_module_version": "1.5.0",
            "_view_count": null,
            "_view_module_version": "1.5.0",
            "box_style": "",
            "layout": "IPY_MODEL_62632704ece24cfea07f71423aebf72d",
            "_model_module": "@jupyter-widgets/controls",
            "children": [
              "IPY_MODEL_d6c5672084ac4bad98f4e6d1ba194b60",
              "IPY_MODEL_44363b9e0ee24449b7533f7801255966"
            ]
          }
        },
        "62632704ece24cfea07f71423aebf72d": {
          "model_module": "@jupyter-widgets/base",
          "model_name": "LayoutModel",
          "state": {
            "_view_name": "LayoutView",
            "grid_template_rows": null,
            "right": null,
            "justify_content": null,
            "_view_module": "@jupyter-widgets/base",
            "overflow": null,
            "_model_module_version": "1.2.0",
            "_view_count": null,
            "flex_flow": null,
            "width": null,
            "min_width": null,
            "border": null,
            "align_items": null,
            "bottom": null,
            "_model_module": "@jupyter-widgets/base",
            "top": null,
            "grid_column": null,
            "overflow_y": null,
            "overflow_x": null,
            "grid_auto_flow": null,
            "grid_area": null,
            "grid_template_columns": null,
            "flex": null,
            "_model_name": "LayoutModel",
            "justify_items": null,
            "grid_row": null,
            "max_height": null,
            "align_content": null,
            "visibility": null,
            "align_self": null,
            "height": null,
            "min_height": null,
            "padding": null,
            "grid_auto_rows": null,
            "grid_gap": null,
            "max_width": null,
            "order": null,
            "_view_module_version": "1.2.0",
            "grid_template_areas": null,
            "object_position": null,
            "object_fit": null,
            "grid_auto_columns": null,
            "margin": null,
            "display": null,
            "left": null
          }
        },
        "d6c5672084ac4bad98f4e6d1ba194b60": {
          "model_module": "@jupyter-widgets/controls",
          "model_name": "FloatProgressModel",
          "state": {
            "_view_name": "ProgressView",
            "style": "IPY_MODEL_0517a01aa8c44d9caf096775e56a14c6",
            "_dom_classes": [],
            "description": "Iteration: 100%",
            "_model_name": "FloatProgressModel",
            "bar_style": "success",
            "max": 375,
            "_view_module": "@jupyter-widgets/controls",
            "_model_module_version": "1.5.0",
            "value": 375,
            "_view_count": null,
            "_view_module_version": "1.5.0",
            "orientation": "horizontal",
            "min": 0,
            "description_tooltip": null,
            "_model_module": "@jupyter-widgets/controls",
            "layout": "IPY_MODEL_ce19d3e168874da081db87e4c1957eb9"
          }
        },
        "44363b9e0ee24449b7533f7801255966": {
          "model_module": "@jupyter-widgets/controls",
          "model_name": "HTMLModel",
          "state": {
            "_view_name": "HTMLView",
            "style": "IPY_MODEL_2877c1efcd814cc39b004f0679908e2c",
            "_dom_classes": [],
            "description": "",
            "_model_name": "HTMLModel",
            "placeholder": "​",
            "_view_module": "@jupyter-widgets/controls",
            "_model_module_version": "1.5.0",
            "value": " 375/375 [01:30&lt;00:00,  4.15it/s]",
            "_view_count": null,
            "_view_module_version": "1.5.0",
            "description_tooltip": null,
            "_model_module": "@jupyter-widgets/controls",
            "layout": "IPY_MODEL_c2aedabe4d9d4aabb1970861625b1fec"
          }
        },
        "0517a01aa8c44d9caf096775e56a14c6": {
          "model_module": "@jupyter-widgets/controls",
          "model_name": "ProgressStyleModel",
          "state": {
            "_view_name": "StyleView",
            "_model_name": "ProgressStyleModel",
            "description_width": "initial",
            "_view_module": "@jupyter-widgets/base",
            "_model_module_version": "1.5.0",
            "_view_count": null,
            "_view_module_version": "1.2.0",
            "bar_color": null,
            "_model_module": "@jupyter-widgets/controls"
          }
        },
        "ce19d3e168874da081db87e4c1957eb9": {
          "model_module": "@jupyter-widgets/base",
          "model_name": "LayoutModel",
          "state": {
            "_view_name": "LayoutView",
            "grid_template_rows": null,
            "right": null,
            "justify_content": null,
            "_view_module": "@jupyter-widgets/base",
            "overflow": null,
            "_model_module_version": "1.2.0",
            "_view_count": null,
            "flex_flow": null,
            "width": null,
            "min_width": null,
            "border": null,
            "align_items": null,
            "bottom": null,
            "_model_module": "@jupyter-widgets/base",
            "top": null,
            "grid_column": null,
            "overflow_y": null,
            "overflow_x": null,
            "grid_auto_flow": null,
            "grid_area": null,
            "grid_template_columns": null,
            "flex": null,
            "_model_name": "LayoutModel",
            "justify_items": null,
            "grid_row": null,
            "max_height": null,
            "align_content": null,
            "visibility": null,
            "align_self": null,
            "height": null,
            "min_height": null,
            "padding": null,
            "grid_auto_rows": null,
            "grid_gap": null,
            "max_width": null,
            "order": null,
            "_view_module_version": "1.2.0",
            "grid_template_areas": null,
            "object_position": null,
            "object_fit": null,
            "grid_auto_columns": null,
            "margin": null,
            "display": null,
            "left": null
          }
        },
        "2877c1efcd814cc39b004f0679908e2c": {
          "model_module": "@jupyter-widgets/controls",
          "model_name": "DescriptionStyleModel",
          "state": {
            "_view_name": "StyleView",
            "_model_name": "DescriptionStyleModel",
            "description_width": "",
            "_view_module": "@jupyter-widgets/base",
            "_model_module_version": "1.5.0",
            "_view_count": null,
            "_view_module_version": "1.2.0",
            "_model_module": "@jupyter-widgets/controls"
          }
        },
        "c2aedabe4d9d4aabb1970861625b1fec": {
          "model_module": "@jupyter-widgets/base",
          "model_name": "LayoutModel",
          "state": {
            "_view_name": "LayoutView",
            "grid_template_rows": null,
            "right": null,
            "justify_content": null,
            "_view_module": "@jupyter-widgets/base",
            "overflow": null,
            "_model_module_version": "1.2.0",
            "_view_count": null,
            "flex_flow": null,
            "width": null,
            "min_width": null,
            "border": null,
            "align_items": null,
            "bottom": null,
            "_model_module": "@jupyter-widgets/base",
            "top": null,
            "grid_column": null,
            "overflow_y": null,
            "overflow_x": null,
            "grid_auto_flow": null,
            "grid_area": null,
            "grid_template_columns": null,
            "flex": null,
            "_model_name": "LayoutModel",
            "justify_items": null,
            "grid_row": null,
            "max_height": null,
            "align_content": null,
            "visibility": null,
            "align_self": null,
            "height": null,
            "min_height": null,
            "padding": null,
            "grid_auto_rows": null,
            "grid_gap": null,
            "max_width": null,
            "order": null,
            "_view_module_version": "1.2.0",
            "grid_template_areas": null,
            "object_position": null,
            "object_fit": null,
            "grid_auto_columns": null,
            "margin": null,
            "display": null,
            "left": null
          }
        },
        "2ed530c690c04ed0a35953536dd33b46": {
          "model_module": "@jupyter-widgets/controls",
          "model_name": "HBoxModel",
          "state": {
            "_view_name": "HBoxView",
            "_dom_classes": [],
            "_model_name": "HBoxModel",
            "_view_module": "@jupyter-widgets/controls",
            "_model_module_version": "1.5.0",
            "_view_count": null,
            "_view_module_version": "1.5.0",
            "box_style": "",
            "layout": "IPY_MODEL_d61cdb9626b0449da7321651670158c8",
            "_model_module": "@jupyter-widgets/controls",
            "children": [
              "IPY_MODEL_752231477feb4084bc599b28871fb62a",
              "IPY_MODEL_7fc9719a8d4d49eb8fd95e62c6e2dae5"
            ]
          }
        },
        "d61cdb9626b0449da7321651670158c8": {
          "model_module": "@jupyter-widgets/base",
          "model_name": "LayoutModel",
          "state": {
            "_view_name": "LayoutView",
            "grid_template_rows": null,
            "right": null,
            "justify_content": null,
            "_view_module": "@jupyter-widgets/base",
            "overflow": null,
            "_model_module_version": "1.2.0",
            "_view_count": null,
            "flex_flow": null,
            "width": null,
            "min_width": null,
            "border": null,
            "align_items": null,
            "bottom": null,
            "_model_module": "@jupyter-widgets/base",
            "top": null,
            "grid_column": null,
            "overflow_y": null,
            "overflow_x": null,
            "grid_auto_flow": null,
            "grid_area": null,
            "grid_template_columns": null,
            "flex": null,
            "_model_name": "LayoutModel",
            "justify_items": null,
            "grid_row": null,
            "max_height": null,
            "align_content": null,
            "visibility": null,
            "align_self": null,
            "height": null,
            "min_height": null,
            "padding": null,
            "grid_auto_rows": null,
            "grid_gap": null,
            "max_width": null,
            "order": null,
            "_view_module_version": "1.2.0",
            "grid_template_areas": null,
            "object_position": null,
            "object_fit": null,
            "grid_auto_columns": null,
            "margin": null,
            "display": null,
            "left": null
          }
        },
        "752231477feb4084bc599b28871fb62a": {
          "model_module": "@jupyter-widgets/controls",
          "model_name": "FloatProgressModel",
          "state": {
            "_view_name": "ProgressView",
            "style": "IPY_MODEL_04f0541cc0204a5f865481b043e847ef",
            "_dom_classes": [],
            "description": "Batches: 100%",
            "_model_name": "FloatProgressModel",
            "bar_style": "success",
            "max": 52,
            "_view_module": "@jupyter-widgets/controls",
            "_model_module_version": "1.5.0",
            "value": 52,
            "_view_count": null,
            "_view_module_version": "1.5.0",
            "orientation": "horizontal",
            "min": 0,
            "description_tooltip": null,
            "_model_module": "@jupyter-widgets/controls",
            "layout": "IPY_MODEL_ae70bd8b20a44239826c4d1394d0ce9d"
          }
        },
        "7fc9719a8d4d49eb8fd95e62c6e2dae5": {
          "model_module": "@jupyter-widgets/controls",
          "model_name": "HTMLModel",
          "state": {
            "_view_name": "HTMLView",
            "style": "IPY_MODEL_d46b09b0c7cd47b98b916d1098671251",
            "_dom_classes": [],
            "description": "",
            "_model_name": "HTMLModel",
            "placeholder": "​",
            "_view_module": "@jupyter-widgets/controls",
            "_model_module_version": "1.5.0",
            "value": " 52/52 [00:01&lt;00:00, 27.28it/s]",
            "_view_count": null,
            "_view_module_version": "1.5.0",
            "description_tooltip": null,
            "_model_module": "@jupyter-widgets/controls",
            "layout": "IPY_MODEL_459910285ba140dbb4a571f3c72b1df1"
          }
        },
        "04f0541cc0204a5f865481b043e847ef": {
          "model_module": "@jupyter-widgets/controls",
          "model_name": "ProgressStyleModel",
          "state": {
            "_view_name": "StyleView",
            "_model_name": "ProgressStyleModel",
            "description_width": "initial",
            "_view_module": "@jupyter-widgets/base",
            "_model_module_version": "1.5.0",
            "_view_count": null,
            "_view_module_version": "1.2.0",
            "bar_color": null,
            "_model_module": "@jupyter-widgets/controls"
          }
        },
        "ae70bd8b20a44239826c4d1394d0ce9d": {
          "model_module": "@jupyter-widgets/base",
          "model_name": "LayoutModel",
          "state": {
            "_view_name": "LayoutView",
            "grid_template_rows": null,
            "right": null,
            "justify_content": null,
            "_view_module": "@jupyter-widgets/base",
            "overflow": null,
            "_model_module_version": "1.2.0",
            "_view_count": null,
            "flex_flow": null,
            "width": null,
            "min_width": null,
            "border": null,
            "align_items": null,
            "bottom": null,
            "_model_module": "@jupyter-widgets/base",
            "top": null,
            "grid_column": null,
            "overflow_y": null,
            "overflow_x": null,
            "grid_auto_flow": null,
            "grid_area": null,
            "grid_template_columns": null,
            "flex": null,
            "_model_name": "LayoutModel",
            "justify_items": null,
            "grid_row": null,
            "max_height": null,
            "align_content": null,
            "visibility": null,
            "align_self": null,
            "height": null,
            "min_height": null,
            "padding": null,
            "grid_auto_rows": null,
            "grid_gap": null,
            "max_width": null,
            "order": null,
            "_view_module_version": "1.2.0",
            "grid_template_areas": null,
            "object_position": null,
            "object_fit": null,
            "grid_auto_columns": null,
            "margin": null,
            "display": null,
            "left": null
          }
        },
        "d46b09b0c7cd47b98b916d1098671251": {
          "model_module": "@jupyter-widgets/controls",
          "model_name": "DescriptionStyleModel",
          "state": {
            "_view_name": "StyleView",
            "_model_name": "DescriptionStyleModel",
            "description_width": "",
            "_view_module": "@jupyter-widgets/base",
            "_model_module_version": "1.5.0",
            "_view_count": null,
            "_view_module_version": "1.2.0",
            "_model_module": "@jupyter-widgets/controls"
          }
        },
        "459910285ba140dbb4a571f3c72b1df1": {
          "model_module": "@jupyter-widgets/base",
          "model_name": "LayoutModel",
          "state": {
            "_view_name": "LayoutView",
            "grid_template_rows": null,
            "right": null,
            "justify_content": null,
            "_view_module": "@jupyter-widgets/base",
            "overflow": null,
            "_model_module_version": "1.2.0",
            "_view_count": null,
            "flex_flow": null,
            "width": null,
            "min_width": null,
            "border": null,
            "align_items": null,
            "bottom": null,
            "_model_module": "@jupyter-widgets/base",
            "top": null,
            "grid_column": null,
            "overflow_y": null,
            "overflow_x": null,
            "grid_auto_flow": null,
            "grid_area": null,
            "grid_template_columns": null,
            "flex": null,
            "_model_name": "LayoutModel",
            "justify_items": null,
            "grid_row": null,
            "max_height": null,
            "align_content": null,
            "visibility": null,
            "align_self": null,
            "height": null,
            "min_height": null,
            "padding": null,
            "grid_auto_rows": null,
            "grid_gap": null,
            "max_width": null,
            "order": null,
            "_view_module_version": "1.2.0",
            "grid_template_areas": null,
            "object_position": null,
            "object_fit": null,
            "grid_auto_columns": null,
            "margin": null,
            "display": null,
            "left": null
          }
        },
        "5247f60e583c452595110d12d6d4732f": {
          "model_module": "@jupyter-widgets/controls",
          "model_name": "HBoxModel",
          "state": {
            "_view_name": "HBoxView",
            "_dom_classes": [],
            "_model_name": "HBoxModel",
            "_view_module": "@jupyter-widgets/controls",
            "_model_module_version": "1.5.0",
            "_view_count": null,
            "_view_module_version": "1.5.0",
            "box_style": "",
            "layout": "IPY_MODEL_8acf6e24bb5f46a1b1b929498ceff5b6",
            "_model_module": "@jupyter-widgets/controls",
            "children": [
              "IPY_MODEL_d76de42d67ee441387489693ae720368",
              "IPY_MODEL_96e6f58e4e3d428a90fa1e5dbf5e84ae"
            ]
          }
        },
        "8acf6e24bb5f46a1b1b929498ceff5b6": {
          "model_module": "@jupyter-widgets/base",
          "model_name": "LayoutModel",
          "state": {
            "_view_name": "LayoutView",
            "grid_template_rows": null,
            "right": null,
            "justify_content": null,
            "_view_module": "@jupyter-widgets/base",
            "overflow": null,
            "_model_module_version": "1.2.0",
            "_view_count": null,
            "flex_flow": null,
            "width": null,
            "min_width": null,
            "border": null,
            "align_items": null,
            "bottom": null,
            "_model_module": "@jupyter-widgets/base",
            "top": null,
            "grid_column": null,
            "overflow_y": null,
            "overflow_x": null,
            "grid_auto_flow": null,
            "grid_area": null,
            "grid_template_columns": null,
            "flex": null,
            "_model_name": "LayoutModel",
            "justify_items": null,
            "grid_row": null,
            "max_height": null,
            "align_content": null,
            "visibility": null,
            "align_self": null,
            "height": null,
            "min_height": null,
            "padding": null,
            "grid_auto_rows": null,
            "grid_gap": null,
            "max_width": null,
            "order": null,
            "_view_module_version": "1.2.0",
            "grid_template_areas": null,
            "object_position": null,
            "object_fit": null,
            "grid_auto_columns": null,
            "margin": null,
            "display": null,
            "left": null
          }
        },
        "d76de42d67ee441387489693ae720368": {
          "model_module": "@jupyter-widgets/controls",
          "model_name": "FloatProgressModel",
          "state": {
            "_view_name": "ProgressView",
            "style": "IPY_MODEL_39a2a54fbf1441299a2bfee17b66d2b8",
            "_dom_classes": [],
            "description": "Batches: 100%",
            "_model_name": "FloatProgressModel",
            "bar_style": "success",
            "max": 52,
            "_view_module": "@jupyter-widgets/controls",
            "_model_module_version": "1.5.0",
            "value": 52,
            "_view_count": null,
            "_view_module_version": "1.5.0",
            "orientation": "horizontal",
            "min": 0,
            "description_tooltip": null,
            "_model_module": "@jupyter-widgets/controls",
            "layout": "IPY_MODEL_a5aa60336b884ecc8f4f5afb5f129121"
          }
        },
        "96e6f58e4e3d428a90fa1e5dbf5e84ae": {
          "model_module": "@jupyter-widgets/controls",
          "model_name": "HTMLModel",
          "state": {
            "_view_name": "HTMLView",
            "style": "IPY_MODEL_060b17bec1914b90a562ed578c6b4e0f",
            "_dom_classes": [],
            "description": "",
            "_model_name": "HTMLModel",
            "placeholder": "​",
            "_view_module": "@jupyter-widgets/controls",
            "_model_module_version": "1.5.0",
            "value": " 52/52 [00:02&lt;00:00, 25.72it/s]",
            "_view_count": null,
            "_view_module_version": "1.5.0",
            "description_tooltip": null,
            "_model_module": "@jupyter-widgets/controls",
            "layout": "IPY_MODEL_379e707ddfee4b85aa81805b20a96dde"
          }
        },
        "39a2a54fbf1441299a2bfee17b66d2b8": {
          "model_module": "@jupyter-widgets/controls",
          "model_name": "ProgressStyleModel",
          "state": {
            "_view_name": "StyleView",
            "_model_name": "ProgressStyleModel",
            "description_width": "initial",
            "_view_module": "@jupyter-widgets/base",
            "_model_module_version": "1.5.0",
            "_view_count": null,
            "_view_module_version": "1.2.0",
            "bar_color": null,
            "_model_module": "@jupyter-widgets/controls"
          }
        },
        "a5aa60336b884ecc8f4f5afb5f129121": {
          "model_module": "@jupyter-widgets/base",
          "model_name": "LayoutModel",
          "state": {
            "_view_name": "LayoutView",
            "grid_template_rows": null,
            "right": null,
            "justify_content": null,
            "_view_module": "@jupyter-widgets/base",
            "overflow": null,
            "_model_module_version": "1.2.0",
            "_view_count": null,
            "flex_flow": null,
            "width": null,
            "min_width": null,
            "border": null,
            "align_items": null,
            "bottom": null,
            "_model_module": "@jupyter-widgets/base",
            "top": null,
            "grid_column": null,
            "overflow_y": null,
            "overflow_x": null,
            "grid_auto_flow": null,
            "grid_area": null,
            "grid_template_columns": null,
            "flex": null,
            "_model_name": "LayoutModel",
            "justify_items": null,
            "grid_row": null,
            "max_height": null,
            "align_content": null,
            "visibility": null,
            "align_self": null,
            "height": null,
            "min_height": null,
            "padding": null,
            "grid_auto_rows": null,
            "grid_gap": null,
            "max_width": null,
            "order": null,
            "_view_module_version": "1.2.0",
            "grid_template_areas": null,
            "object_position": null,
            "object_fit": null,
            "grid_auto_columns": null,
            "margin": null,
            "display": null,
            "left": null
          }
        },
        "060b17bec1914b90a562ed578c6b4e0f": {
          "model_module": "@jupyter-widgets/controls",
          "model_name": "DescriptionStyleModel",
          "state": {
            "_view_name": "StyleView",
            "_model_name": "DescriptionStyleModel",
            "description_width": "",
            "_view_module": "@jupyter-widgets/base",
            "_model_module_version": "1.5.0",
            "_view_count": null,
            "_view_module_version": "1.2.0",
            "_model_module": "@jupyter-widgets/controls"
          }
        },
        "379e707ddfee4b85aa81805b20a96dde": {
          "model_module": "@jupyter-widgets/base",
          "model_name": "LayoutModel",
          "state": {
            "_view_name": "LayoutView",
            "grid_template_rows": null,
            "right": null,
            "justify_content": null,
            "_view_module": "@jupyter-widgets/base",
            "overflow": null,
            "_model_module_version": "1.2.0",
            "_view_count": null,
            "flex_flow": null,
            "width": null,
            "min_width": null,
            "border": null,
            "align_items": null,
            "bottom": null,
            "_model_module": "@jupyter-widgets/base",
            "top": null,
            "grid_column": null,
            "overflow_y": null,
            "overflow_x": null,
            "grid_auto_flow": null,
            "grid_area": null,
            "grid_template_columns": null,
            "flex": null,
            "_model_name": "LayoutModel",
            "justify_items": null,
            "grid_row": null,
            "max_height": null,
            "align_content": null,
            "visibility": null,
            "align_self": null,
            "height": null,
            "min_height": null,
            "padding": null,
            "grid_auto_rows": null,
            "grid_gap": null,
            "max_width": null,
            "order": null,
            "_view_module_version": "1.2.0",
            "grid_template_areas": null,
            "object_position": null,
            "object_fit": null,
            "grid_auto_columns": null,
            "margin": null,
            "display": null,
            "left": null
          }
        }
      }
    }
  },
  "cells": [
    {
      "cell_type": "code",
      "metadata": {
        "colab": {
          "base_uri": "https://localhost:8080/"
        },
        "id": "uKWxz6EW7LLA",
        "outputId": "1bf34ba4-d098-4c99-8df5-4b0b7e94e468"
      },
      "source": [
        "!pip install sentence-transformers"
      ],
      "execution_count": null,
      "outputs": [
        {
          "output_type": "stream",
          "text": [
            "Collecting sentence-transformers\n",
            "\u001b[?25l  Downloading https://files.pythonhosted.org/packages/14/9d/abacb6f7bb63df39285c55bb51b6403a7fd93ac2aea48b01f6215175446c/sentence-transformers-1.1.1.tar.gz (81kB)\n",
            "\u001b[K     |████████████████████████████████| 81kB 5.6MB/s \n",
            "\u001b[?25hCollecting transformers<5.0.0,>=3.1.0\n",
            "\u001b[?25l  Downloading https://files.pythonhosted.org/packages/b0/9e/5b80becd952d5f7250eaf8fc64b957077b12ccfe73e9c03d37146ab29712/transformers-4.6.0-py3-none-any.whl (2.3MB)\n",
            "\u001b[K     |████████████████████████████████| 2.3MB 15.3MB/s \n",
            "\u001b[?25hRequirement already satisfied: tqdm in /usr/local/lib/python3.7/dist-packages (from sentence-transformers) (4.41.1)\n",
            "Requirement already satisfied: torch>=1.6.0 in /usr/local/lib/python3.7/dist-packages (from sentence-transformers) (1.8.1+cu101)\n",
            "Requirement already satisfied: torchvision in /usr/local/lib/python3.7/dist-packages (from sentence-transformers) (0.9.1+cu101)\n",
            "Requirement already satisfied: numpy in /usr/local/lib/python3.7/dist-packages (from sentence-transformers) (1.19.5)\n",
            "Requirement already satisfied: scikit-learn in /usr/local/lib/python3.7/dist-packages (from sentence-transformers) (0.22.2.post1)\n",
            "Requirement already satisfied: scipy in /usr/local/lib/python3.7/dist-packages (from sentence-transformers) (1.4.1)\n",
            "Requirement already satisfied: nltk in /usr/local/lib/python3.7/dist-packages (from sentence-transformers) (3.2.5)\n",
            "Collecting sentencepiece\n",
            "\u001b[?25l  Downloading https://files.pythonhosted.org/packages/f5/99/e0808cb947ba10f575839c43e8fafc9cc44e4a7a2c8f79c60db48220a577/sentencepiece-0.1.95-cp37-cp37m-manylinux2014_x86_64.whl (1.2MB)\n",
            "\u001b[K     |████████████████████████████████| 1.2MB 32.3MB/s \n",
            "\u001b[?25hRequirement already satisfied: packaging in /usr/local/lib/python3.7/dist-packages (from transformers<5.0.0,>=3.1.0->sentence-transformers) (20.9)\n",
            "Requirement already satisfied: filelock in /usr/local/lib/python3.7/dist-packages (from transformers<5.0.0,>=3.1.0->sentence-transformers) (3.0.12)\n",
            "Requirement already satisfied: importlib-metadata; python_version < \"3.8\" in /usr/local/lib/python3.7/dist-packages (from transformers<5.0.0,>=3.1.0->sentence-transformers) (4.0.1)\n",
            "Requirement already satisfied: requests in /usr/local/lib/python3.7/dist-packages (from transformers<5.0.0,>=3.1.0->sentence-transformers) (2.23.0)\n",
            "Collecting sacremoses\n",
            "\u001b[?25l  Downloading https://files.pythonhosted.org/packages/75/ee/67241dc87f266093c533a2d4d3d69438e57d7a90abb216fa076e7d475d4a/sacremoses-0.0.45-py3-none-any.whl (895kB)\n",
            "\u001b[K     |████████████████████████████████| 901kB 33.7MB/s \n",
            "\u001b[?25hRequirement already satisfied: regex!=2019.12.17 in /usr/local/lib/python3.7/dist-packages (from transformers<5.0.0,>=3.1.0->sentence-transformers) (2019.12.20)\n",
            "Collecting tokenizers<0.11,>=0.10.1\n",
            "\u001b[?25l  Downloading https://files.pythonhosted.org/packages/ae/04/5b870f26a858552025a62f1649c20d29d2672c02ff3c3fb4c688ca46467a/tokenizers-0.10.2-cp37-cp37m-manylinux2010_x86_64.whl (3.3MB)\n",
            "\u001b[K     |████████████████████████████████| 3.3MB 27.0MB/s \n",
            "\u001b[?25hCollecting huggingface-hub==0.0.8\n",
            "  Downloading https://files.pythonhosted.org/packages/a1/88/7b1e45720ecf59c6c6737ff332f41c955963090a18e72acbcbeac6b25e86/huggingface_hub-0.0.8-py3-none-any.whl\n",
            "Requirement already satisfied: typing-extensions in /usr/local/lib/python3.7/dist-packages (from torch>=1.6.0->sentence-transformers) (3.7.4.3)\n",
            "Requirement already satisfied: pillow>=4.1.1 in /usr/local/lib/python3.7/dist-packages (from torchvision->sentence-transformers) (7.1.2)\n",
            "Requirement already satisfied: joblib>=0.11 in /usr/local/lib/python3.7/dist-packages (from scikit-learn->sentence-transformers) (1.0.1)\n",
            "Requirement already satisfied: six in /usr/local/lib/python3.7/dist-packages (from nltk->sentence-transformers) (1.15.0)\n",
            "Requirement already satisfied: pyparsing>=2.0.2 in /usr/local/lib/python3.7/dist-packages (from packaging->transformers<5.0.0,>=3.1.0->sentence-transformers) (2.4.7)\n",
            "Requirement already satisfied: zipp>=0.5 in /usr/local/lib/python3.7/dist-packages (from importlib-metadata; python_version < \"3.8\"->transformers<5.0.0,>=3.1.0->sentence-transformers) (3.4.1)\n",
            "Requirement already satisfied: chardet<4,>=3.0.2 in /usr/local/lib/python3.7/dist-packages (from requests->transformers<5.0.0,>=3.1.0->sentence-transformers) (3.0.4)\n",
            "Requirement already satisfied: urllib3!=1.25.0,!=1.25.1,<1.26,>=1.21.1 in /usr/local/lib/python3.7/dist-packages (from requests->transformers<5.0.0,>=3.1.0->sentence-transformers) (1.24.3)\n",
            "Requirement already satisfied: certifi>=2017.4.17 in /usr/local/lib/python3.7/dist-packages (from requests->transformers<5.0.0,>=3.1.0->sentence-transformers) (2020.12.5)\n",
            "Requirement already satisfied: idna<3,>=2.5 in /usr/local/lib/python3.7/dist-packages (from requests->transformers<5.0.0,>=3.1.0->sentence-transformers) (2.10)\n",
            "Requirement already satisfied: click in /usr/local/lib/python3.7/dist-packages (from sacremoses->transformers<5.0.0,>=3.1.0->sentence-transformers) (7.1.2)\n",
            "Building wheels for collected packages: sentence-transformers\n",
            "  Building wheel for sentence-transformers (setup.py) ... \u001b[?25l\u001b[?25hdone\n",
            "  Created wheel for sentence-transformers: filename=sentence_transformers-1.1.1-cp37-none-any.whl size=123338 sha256=d91ce4b43f358eb8249c5709149c6510e25bfa74436a9acfa660573ccc85b238\n",
            "  Stored in directory: /root/.cache/pip/wheels/5e/89/29/45e45adc162b50f97f71801e8b07947c9cfe2b3ae7dbf37896\n",
            "Successfully built sentence-transformers\n",
            "Installing collected packages: sacremoses, tokenizers, huggingface-hub, transformers, sentencepiece, sentence-transformers\n",
            "Successfully installed huggingface-hub-0.0.8 sacremoses-0.0.45 sentence-transformers-1.1.1 sentencepiece-0.1.95 tokenizers-0.10.2 transformers-4.6.0\n"
          ],
          "name": "stdout"
        }
      ]
    },
    {
      "cell_type": "code",
      "metadata": {
        "id": "I8alY4BV7HJ8"
      },
      "source": [
        "\"\"\"\n",
        "This script trains sentence transformers with a triplet loss function.\n",
        "As corpus, we use the wikipedia sections dataset that was describd by Dor et al., 2018, Learning Thematic Similarity Metric Using Triplet Networks.\n",
        "\"\"\"\n",
        "\n",
        "from sentence_transformers import SentenceTransformer, InputExample, LoggingHandler, losses, models, util\n",
        "from torch.utils.data import DataLoader\n",
        "from sentence_transformers.evaluation import TripletEvaluator\n",
        "from datetime import datetime\n",
        "from zipfile import ZipFile\n",
        "from sentence_transformers.evaluation import EmbeddingSimilarityEvaluator, BinaryClassificationEvaluator\n",
        "\n",
        "import csv\n",
        "import logging\n",
        "import os"
      ],
      "execution_count": null,
      "outputs": []
    },
    {
      "cell_type": "code",
      "metadata": {
        "id": "7KGCjPQe7aDT"
      },
      "source": [
        "logging.basicConfig(format='%(asctime)s - %(message)s',\n",
        "                    datefmt='%Y-%m-%d %H:%M:%S',\n",
        "                    level=logging.INFO,\n",
        "                    handlers=[LoggingHandler()])\n",
        "logger = logging.getLogger(__name__)"
      ],
      "execution_count": null,
      "outputs": []
    },
    {
      "cell_type": "code",
      "metadata": {
        "id": "L_slpiFHGzQJ",
        "colab": {
          "base_uri": "https://localhost:8080/"
        },
        "outputId": "bd335816-883c-4f34-e491-74adf32263e4"
      },
      "source": [
        "logging.info(\"Read test dataset\")\n",
        "test_sts_samples = []\n",
        "with open(\"/content/sample_data/sentence_pair_unique.csv\", 'rt', encoding='utf8') as fIn:\n",
        "    reader = csv.DictReader(fIn)\n",
        "    for row in reader:\n",
        "        score = float(row['avg']) / 4.0  # Normalize score to range 0 ... 1\n",
        "        inp_example = InputExample(texts=[row['sent1_text'], row['sent2_text']], label=score)\n",
        "        test_sts_samples.append(inp_example)"
      ],
      "execution_count": null,
      "outputs": [
        {
          "output_type": "stream",
          "text": [
            "2021-05-09 11:54:01 - Read test dataset\n"
          ],
          "name": "stdout"
        }
      ]
    },
    {
      "cell_type": "code",
      "metadata": {
        "colab": {
          "base_uri": "https://localhost:8080/",
          "height": 327
        },
        "id": "1ORF4hbw9GQx",
        "outputId": "577e0db5-dc45-4f1f-b28c-cb44b1fec13c"
      },
      "source": [
        "model_name = 'stsb-bert-base'\n",
        "output_path = \"output/training-wikipedia-sections-\"+model_name+\"-\"+datetime.now().strftime(\"%Y-%m-%d_%H-%M-%S\")\n",
        "model = SentenceTransformer(model_name)\n",
        "test_evaluator = EmbeddingSimilarityEvaluator.from_input_examples(test_sts_samples, name='sts-test')\n",
        "test_evaluator(model, output_path=output_path)"
      ],
      "execution_count": null,
      "outputs": [
        {
          "output_type": "error",
          "ename": "FileNotFoundError",
          "evalue": "ignored",
          "traceback": [
            "\u001b[0;31m---------------------------------------------------------------------------\u001b[0m",
            "\u001b[0;31mFileNotFoundError\u001b[0m                         Traceback (most recent call last)",
            "\u001b[0;32m<ipython-input-5-21db13e9955c>\u001b[0m in \u001b[0;36m<module>\u001b[0;34m()\u001b[0m\n\u001b[1;32m      3\u001b[0m \u001b[0mmodel\u001b[0m \u001b[0;34m=\u001b[0m \u001b[0mSentenceTransformer\u001b[0m\u001b[0;34m(\u001b[0m\u001b[0mmodel_name\u001b[0m\u001b[0;34m)\u001b[0m\u001b[0;34m\u001b[0m\u001b[0;34m\u001b[0m\u001b[0m\n\u001b[1;32m      4\u001b[0m \u001b[0mtest_evaluator\u001b[0m \u001b[0;34m=\u001b[0m \u001b[0mEmbeddingSimilarityEvaluator\u001b[0m\u001b[0;34m.\u001b[0m\u001b[0mfrom_input_examples\u001b[0m\u001b[0;34m(\u001b[0m\u001b[0mtest_sts_samples\u001b[0m\u001b[0;34m,\u001b[0m \u001b[0mname\u001b[0m\u001b[0;34m=\u001b[0m\u001b[0;34m'sts-test'\u001b[0m\u001b[0;34m)\u001b[0m\u001b[0;34m\u001b[0m\u001b[0;34m\u001b[0m\u001b[0m\n\u001b[0;32m----> 5\u001b[0;31m \u001b[0mtest_evaluator\u001b[0m\u001b[0;34m(\u001b[0m\u001b[0mmodel\u001b[0m\u001b[0;34m,\u001b[0m \u001b[0moutput_path\u001b[0m\u001b[0;34m=\u001b[0m\u001b[0moutput_path\u001b[0m\u001b[0;34m)\u001b[0m\u001b[0;34m\u001b[0m\u001b[0;34m\u001b[0m\u001b[0m\n\u001b[0m",
            "\u001b[0;32m/usr/local/lib/python3.7/dist-packages/sentence_transformers/evaluation/EmbeddingSimilarityEvaluator.py\u001b[0m in \u001b[0;36m__call__\u001b[0;34m(self, model, output_path, epoch, steps)\u001b[0m\n\u001b[1;32m    109\u001b[0m             \u001b[0mcsv_path\u001b[0m \u001b[0;34m=\u001b[0m \u001b[0mos\u001b[0m\u001b[0;34m.\u001b[0m\u001b[0mpath\u001b[0m\u001b[0;34m.\u001b[0m\u001b[0mjoin\u001b[0m\u001b[0;34m(\u001b[0m\u001b[0moutput_path\u001b[0m\u001b[0;34m,\u001b[0m \u001b[0mself\u001b[0m\u001b[0;34m.\u001b[0m\u001b[0mcsv_file\u001b[0m\u001b[0;34m)\u001b[0m\u001b[0;34m\u001b[0m\u001b[0;34m\u001b[0m\u001b[0m\n\u001b[1;32m    110\u001b[0m             \u001b[0moutput_file_exists\u001b[0m \u001b[0;34m=\u001b[0m \u001b[0mos\u001b[0m\u001b[0;34m.\u001b[0m\u001b[0mpath\u001b[0m\u001b[0;34m.\u001b[0m\u001b[0misfile\u001b[0m\u001b[0;34m(\u001b[0m\u001b[0mcsv_path\u001b[0m\u001b[0;34m)\u001b[0m\u001b[0;34m\u001b[0m\u001b[0;34m\u001b[0m\u001b[0m\n\u001b[0;32m--> 111\u001b[0;31m             \u001b[0;32mwith\u001b[0m \u001b[0mopen\u001b[0m\u001b[0;34m(\u001b[0m\u001b[0mcsv_path\u001b[0m\u001b[0;34m,\u001b[0m \u001b[0mmode\u001b[0m\u001b[0;34m=\u001b[0m\u001b[0;34m\"a\"\u001b[0m \u001b[0;32mif\u001b[0m \u001b[0moutput_file_exists\u001b[0m \u001b[0;32melse\u001b[0m \u001b[0;34m'w'\u001b[0m\u001b[0;34m,\u001b[0m \u001b[0mencoding\u001b[0m\u001b[0;34m=\u001b[0m\u001b[0;34m\"utf-8\"\u001b[0m\u001b[0;34m)\u001b[0m \u001b[0;32mas\u001b[0m \u001b[0mf\u001b[0m\u001b[0;34m:\u001b[0m\u001b[0;34m\u001b[0m\u001b[0;34m\u001b[0m\u001b[0m\n\u001b[0m\u001b[1;32m    112\u001b[0m                 \u001b[0mwriter\u001b[0m \u001b[0;34m=\u001b[0m \u001b[0mcsv\u001b[0m\u001b[0;34m.\u001b[0m\u001b[0mwriter\u001b[0m\u001b[0;34m(\u001b[0m\u001b[0mf\u001b[0m\u001b[0;34m)\u001b[0m\u001b[0;34m\u001b[0m\u001b[0;34m\u001b[0m\u001b[0m\n\u001b[1;32m    113\u001b[0m                 \u001b[0;32mif\u001b[0m \u001b[0;32mnot\u001b[0m \u001b[0moutput_file_exists\u001b[0m\u001b[0;34m:\u001b[0m\u001b[0;34m\u001b[0m\u001b[0;34m\u001b[0m\u001b[0m\n",
            "\u001b[0;31mFileNotFoundError\u001b[0m: [Errno 2] No such file or directory: 'output/training-wikipedia-sections-stsb-bert-base-2021-05-04_08-36-32/similarity_evaluation_sts-test_results.csv'"
          ]
        }
      ]
    },
    {
      "cell_type": "code",
      "metadata": {
        "colab": {
          "base_uri": "https://localhost:8080/"
        },
        "id": "byRwkohHJ00i",
        "outputId": "92e4566c-35e9-406d-f81c-94c5476e24bb"
      },
      "source": [
        "import pandas as pd\n",
        "\n",
        "# Load the dataset into a pandas dataframe.\n",
        "df_test = pd.read_csv(\"/content/sample_data/sentence_pair_unique.csv\")\n",
        "\n",
        "# Report the number of sentences.\n",
        "print('Number of training sentences: {:,}\\n'.format(df_test.shape[0]))\n",
        "\n",
        "# Display 5 random rows from the data.\n",
        "df_test.sample(1)\n",
        "\n",
        "# Get the lists of sentences and their labels.\n",
        "sent1 = df_test.sent1_text.values\n",
        "sent2 = df_test.sent2_text.values\n",
        "sent1 = sent1.tolist()\n",
        "sent2 = sent2.tolist()\n",
        "\n",
        "sent1_embeddings = model.encode(sent1)\n",
        "sent1_embeddings.shape\n",
        "\n",
        "sent2_embeddings = model.encode(sent2)\n",
        "sent2_embeddings.shape\n",
        "\n",
        "from sklearn.metrics.pairwise import cosine_similarity\n",
        "import scipy\n",
        "import pandas as pd\n",
        "import numpy as np\n",
        "\n",
        "\n",
        "cos_list = []\n",
        "cos2_list = []\n",
        "\n",
        "for j in range(len(sent1_embeddings)):\n",
        "  sent1 = sent1_embeddings[j]\n",
        "  sent2 = sent2_embeddings[j]\n",
        "  cos = 1-scipy.spatial.distance.cdist(sent1.reshape(1, -1), sent2.reshape(1, -1), \"cosine\")[0][0]\n",
        "  cos2 = cosine_similarity(sent1.reshape(1, -1), sent2.reshape(1, -1))[0][0]\n",
        "  cos_list.append(cos)\n",
        "  cos2_list.append(cos2)\n",
        "\n",
        "assert(len(cos_list)==len(df_test))\n",
        "assert(len(cos2_list)==len(df_test))\n",
        "\n",
        "df_test[\"model_similarity\"] = cos_list\n",
        "df_test[\"model_similarity2\"] = cos2_list\n",
        "\n",
        "df_test.to_csv(\"/content/sample_data/sentence_pair_sbert.csv\",\n",
        "                    index=None)"
      ],
      "execution_count": null,
      "outputs": [
        {
          "output_type": "stream",
          "text": [
            "Number of training sentences: 1,635\n",
            "\n"
          ],
          "name": "stdout"
        }
      ]
    },
    {
      "cell_type": "code",
      "metadata": {
        "id": "aylh46qUs2y6"
      },
      "source": [
        ""
      ],
      "execution_count": null,
      "outputs": []
    },
    {
      "cell_type": "markdown",
      "metadata": {
        "id": "x5ioQh9is3ib"
      },
      "source": [
        "## Siamese Network Training"
      ]
    },
    {
      "cell_type": "code",
      "metadata": {
        "colab": {
          "base_uri": "https://localhost:8080/"
        },
        "id": "iO7Wpc9ls-Tb",
        "outputId": "5fe9759b-89eb-4c73-978f-6009c442468f"
      },
      "source": [
        "### Create a torch.DataLoader that passes training batch instances to our model\n",
        "\n",
        "model_name = 'stsb-bert-base'\n",
        "train_batch_size = 8\n",
        "output_path = \"output/training-yelp-pair-\"+model_name+\"-\"+datetime.now().strftime(\"%Y-%m-%d_%H-%M-%S\")\n",
        "num_epochs = 1\n",
        "# n_train = 1000 \n",
        "n_train = 3000\n",
        "# n_train = 8000\n",
        "trip_type = \"firstsentence\"\n",
        "\n",
        "model = SentenceTransformer(model_name)"
      ],
      "execution_count": null,
      "outputs": [
        {
          "output_type": "stream",
          "text": [
            "2021-05-12 04:53:45 - Load pretrained SentenceTransformer: stsb-bert-base\n",
            "2021-05-12 04:53:45 - Did not find folder stsb-bert-base\n",
            "2021-05-12 04:53:45 - Search model on server: http://sbert.net/models/stsb-bert-base.zip\n",
            "2021-05-12 04:53:45 - Load SentenceTransformer from folder: /root/.cache/torch/sentence_transformers/sbert.net_models_stsb-bert-base\n",
            "2021-05-12 04:53:47 - Use pytorch device: cuda\n"
          ],
          "name": "stdout"
        }
      ]
    },
    {
      "cell_type": "code",
      "metadata": {
        "colab": {
          "base_uri": "https://localhost:8080/"
        },
        "id": "vdlQx-UutSoN",
        "outputId": "910b2926-c6bc-4b37-d770-3096d5d780a5"
      },
      "source": [
        "logger.info(\"Read Yelp Pair train dataset\")\n",
        "train_examples = []\n",
        "with open(\"/content/sample_data/yelp_pair_train_10000_\" + trip_type + \".csv\", encoding=\"utf-8\") as fIn:\n",
        "    reader = csv.DictReader(fIn)\n",
        "    for row in reader:\n",
        "     # print(row)\n",
        "      train_examples.append(InputExample(texts=[row['sent1_text'], row['sent2_text']], label=int(row['label'])))"
      ],
      "execution_count": null,
      "outputs": [
        {
          "output_type": "stream",
          "text": [
            "2021-05-12 04:53:47 - Read Yelp Pair train dataset\n"
          ],
          "name": "stdout"
        }
      ]
    },
    {
      "cell_type": "code",
      "metadata": {
        "id": "dbAV_geQuAlD"
      },
      "source": [
        "test_examples = train_examples[0:1000]\n",
        "dev_examples = train_examples[1000:2000]\n",
        "train_examples = train_examples[2000:(2000+n_train)]"
      ],
      "execution_count": null,
      "outputs": []
    },
    {
      "cell_type": "code",
      "metadata": {
        "id": "ykOl1KcEubHd",
        "colab": {
          "base_uri": "https://localhost:8080/"
        },
        "outputId": "011eeccd-7338-4a48-911e-57fdc9cf37bf"
      },
      "source": [
        "print(len(test_examples))\n",
        "print(len(dev_examples))\n",
        "print(len(train_examples))"
      ],
      "execution_count": null,
      "outputs": [
        {
          "output_type": "stream",
          "text": [
            "1000\n",
            "1000\n",
            "8000\n"
          ],
          "name": "stdout"
        }
      ]
    },
    {
      "cell_type": "code",
      "metadata": {
        "colab": {
          "base_uri": "https://localhost:8080/"
        },
        "id": "Ib2vup-ls29u",
        "outputId": "de1b5d33-8812-4fec-eb93-f54c9097b252"
      },
      "source": [
        "train_dataloader = DataLoader(train_examples, shuffle=True, batch_size=train_batch_size)\n",
        "train_loss = losses.SoftmaxLoss(model=model, sentence_embedding_dimension=model.get_sentence_embedding_dimension(), num_labels=2)"
      ],
      "execution_count": null,
      "outputs": [
        {
          "output_type": "stream",
          "text": [
            "2021-05-12 04:53:47 - Softmax loss: #Vectors concatenated: 3\n"
          ],
          "name": "stdout"
        }
      ]
    },
    {
      "cell_type": "code",
      "metadata": {
        "id": "ByNXbpsBs3Aj",
        "colab": {
          "base_uri": "https://localhost:8080/"
        },
        "outputId": "4cdd01ef-9917-46e5-d689-6779e3a6b055"
      },
      "source": [
        "logger.info(\"Read Yelp Pair dev dataset\")\n",
        "\n",
        "evaluator = BinaryClassificationEvaluator.from_input_examples(dev_examples, name='yelp-dev_sbertft_' + str(n_train) + \"_\" + trip_type + \"_run1\")\n",
        "\n",
        "warmup_steps = int(len(train_dataloader) * num_epochs * 0.1) #10% of train data"
      ],
      "execution_count": null,
      "outputs": [
        {
          "output_type": "stream",
          "text": [
            "2021-05-12 04:53:47 - Read Yelp Pair dev dataset\n"
          ],
          "name": "stdout"
        }
      ]
    },
    {
      "cell_type": "code",
      "metadata": {
        "colab": {
          "base_uri": "https://localhost:8080/"
        },
        "id": "ng7SPCDYvn9Y",
        "outputId": "3894338b-047f-4f34-b885-d160cef0fbeb"
      },
      "source": [
        "print(output_path)"
      ],
      "execution_count": null,
      "outputs": [
        {
          "output_type": "stream",
          "text": [
            "output/training-yelp-pair-stsb-bert-base-2021-05-12_04-53-45\n"
          ],
          "name": "stdout"
        }
      ]
    },
    {
      "cell_type": "code",
      "metadata": {
        "colab": {
          "base_uri": "https://localhost:8080/",
          "height": 810,
          "referenced_widgets": [
            "3e5a621b9d334d9692ca19758ab6fd7f",
            "4b991d0f277b404eadbc365d97273111",
            "6b4d67264365483a8a8aad4aa6a79df8",
            "3350172e186143ac8292050e2b5804bc",
            "b40090e420f14f00875808cf4b3b418b",
            "2c094474e7a545feb2612ea7f9fb54a8",
            "a0723d95809043a1afc7af8a6a658850",
            "87dac526ab7a4722a97be0fd46c39c27",
            "921083dfe6f840b899afb92294632e37",
            "982d789004e947bfa573d7de89791f41",
            "5a52388a0de442e09909fa461355c0d2",
            "168196e4aa1b4de0af7d9dbf68e96b1a",
            "802ad9a396674a099bc3c52df53bb7a2",
            "8f1cd9c129ac470fb1d1df1a326f6805",
            "3ff8befab3a045289b639c3c46b94250",
            "efff28ac33a24d32a107ebe0b63aca7b"
          ]
        },
        "id": "WYyAFv13s6n1",
        "outputId": "1cd1340e-1e79-4d9b-ebaa-aad5274afe7d"
      },
      "source": [
        "# Train the model\n",
        "model.fit(train_objectives=[(train_dataloader, train_loss)],\n",
        "          evaluator=evaluator,\n",
        "          epochs=num_epochs,\n",
        "          evaluation_steps=1000,\n",
        "          warmup_steps=warmup_steps,\n",
        "          output_path=output_path)"
      ],
      "execution_count": null,
      "outputs": [
        {
          "output_type": "display_data",
          "data": {
            "application/vnd.jupyter.widget-view+json": {
              "model_id": "3e5a621b9d334d9692ca19758ab6fd7f",
              "version_minor": 0,
              "version_major": 2
            },
            "text/plain": [
              "HBox(children=(FloatProgress(value=0.0, description='Epoch', max=1.0, style=ProgressStyle(description_width='i…"
            ]
          },
          "metadata": {
            "tags": []
          }
        },
        {
          "output_type": "display_data",
          "data": {
            "application/vnd.jupyter.widget-view+json": {
              "model_id": "921083dfe6f840b899afb92294632e37",
              "version_minor": 0,
              "version_major": 2
            },
            "text/plain": [
              "HBox(children=(FloatProgress(value=0.0, description='Iteration', max=1000.0, style=ProgressStyle(description_w…"
            ]
          },
          "metadata": {
            "tags": []
          }
        },
        {
          "output_type": "stream",
          "text": [
            "2021-05-12 05:00:33 - Binary Accuracy Evaluation of the model on yelp-dev_sbertft_8000_entirereview_run1 dataset in epoch 0 after 1000 steps:\n",
            "2021-05-12 05:00:45 - Accuracy with Cosine-Similarity:           88.70\t(Threshold: 0.3976)\n",
            "2021-05-12 05:00:45 - F1 with Cosine-Similarity:                 88.55\t(Threshold: 0.2364)\n",
            "2021-05-12 05:00:45 - Precision with Cosine-Similarity:          86.13\n",
            "2021-05-12 05:00:45 - Recall with Cosine-Similarity:             91.12\n",
            "2021-05-12 05:00:45 - Average Precision with Cosine-Similarity:  94.70\n",
            "\n",
            "2021-05-12 05:00:45 - Accuracy with Manhatten-Distance:           88.60\t(Threshold: 359.7927)\n",
            "2021-05-12 05:00:45 - F1 with Manhatten-Distance:                 88.31\t(Threshold: 421.9900)\n",
            "2021-05-12 05:00:45 - Precision with Manhatten-Distance:          86.22\n",
            "2021-05-12 05:00:45 - Recall with Manhatten-Distance:             90.50\n",
            "2021-05-12 05:00:45 - Average Precision with Manhatten-Distance:  94.60\n",
            "\n",
            "2021-05-12 05:00:45 - Accuracy with Euclidean-Distance:           88.70\t(Threshold: 17.2405)\n",
            "2021-05-12 05:00:45 - F1 with Euclidean-Distance:                 88.62\t(Threshold: 20.2219)\n",
            "2021-05-12 05:00:45 - Precision with Euclidean-Distance:          85.71\n",
            "2021-05-12 05:00:45 - Recall with Euclidean-Distance:             91.74\n",
            "2021-05-12 05:00:45 - Average Precision with Euclidean-Distance:  94.73\n",
            "\n",
            "2021-05-12 05:00:45 - Save model to output/training-yelp-pair-stsb-bert-base-2021-05-12_04-53-45\n",
            "\n",
            "2021-05-12 05:00:47 - Binary Accuracy Evaluation of the model on yelp-dev_sbertft_8000_entirereview_run1 dataset after epoch 0:\n",
            "2021-05-12 05:00:59 - Accuracy with Cosine-Similarity:           88.70\t(Threshold: 0.3976)\n",
            "2021-05-12 05:00:59 - F1 with Cosine-Similarity:                 88.55\t(Threshold: 0.2364)\n",
            "2021-05-12 05:00:59 - Precision with Cosine-Similarity:          86.13\n",
            "2021-05-12 05:00:59 - Recall with Cosine-Similarity:             91.12\n",
            "2021-05-12 05:00:59 - Average Precision with Cosine-Similarity:  94.70\n",
            "\n",
            "2021-05-12 05:00:59 - Accuracy with Manhatten-Distance:           88.60\t(Threshold: 359.7927)\n",
            "2021-05-12 05:00:59 - F1 with Manhatten-Distance:                 88.31\t(Threshold: 421.9900)\n",
            "2021-05-12 05:00:59 - Precision with Manhatten-Distance:          86.22\n",
            "2021-05-12 05:00:59 - Recall with Manhatten-Distance:             90.50\n",
            "2021-05-12 05:00:59 - Average Precision with Manhatten-Distance:  94.60\n",
            "\n",
            "2021-05-12 05:00:59 - Accuracy with Euclidean-Distance:           88.70\t(Threshold: 17.2405)\n",
            "2021-05-12 05:00:59 - F1 with Euclidean-Distance:                 88.62\t(Threshold: 20.2219)\n",
            "2021-05-12 05:00:59 - Precision with Euclidean-Distance:          85.71\n",
            "2021-05-12 05:00:59 - Recall with Euclidean-Distance:             91.74\n",
            "2021-05-12 05:00:59 - Average Precision with Euclidean-Distance:  94.73\n",
            "\n",
            "\n"
          ],
          "name": "stdout"
        }
      ]
    },
    {
      "cell_type": "code",
      "metadata": {
        "id": "Kw6SSP_SuV7e",
        "colab": {
          "base_uri": "https://localhost:8080/"
        },
        "outputId": "f2285d04-d24e-4811-818c-e554a55c1714"
      },
      "source": [
        "##############################################################################\n",
        "#\n",
        "# Load the stored model and evaluate its performance on STS benchmark dataset\n",
        "#\n",
        "##############################################################################\n",
        "\n",
        "logger.info(\"Read test examples\")\n",
        "model = SentenceTransformer(output_path)\n",
        "test_evaluator = BinaryClassificationEvaluator.from_input_examples(dev_examples, name='yelp-test_sbertft_' + str(n_train) + \"_\" + trip_type + \"_run1\")\n",
        "test_evaluator(model, output_path=output_path)"
      ],
      "execution_count": null,
      "outputs": [
        {
          "output_type": "stream",
          "text": [
            "2021-05-12 05:00:59 - Read test examples\n",
            "2021-05-12 05:00:59 - Load pretrained SentenceTransformer: output/training-yelp-pair-stsb-bert-base-2021-05-12_04-53-45\n",
            "2021-05-12 05:00:59 - Load SentenceTransformer from folder: output/training-yelp-pair-stsb-bert-base-2021-05-12_04-53-45\n",
            "2021-05-12 05:01:01 - Use pytorch device: cuda\n",
            "2021-05-12 05:01:01 - Binary Accuracy Evaluation of the model on yelp-test_sbertft_8000_entirereview_run1 dataset:\n",
            "2021-05-12 05:01:13 - Accuracy with Cosine-Similarity:           88.70\t(Threshold: 0.3976)\n",
            "2021-05-12 05:01:13 - F1 with Cosine-Similarity:                 88.55\t(Threshold: 0.2364)\n",
            "2021-05-12 05:01:13 - Precision with Cosine-Similarity:          86.13\n",
            "2021-05-12 05:01:13 - Recall with Cosine-Similarity:             91.12\n",
            "2021-05-12 05:01:13 - Average Precision with Cosine-Similarity:  94.70\n",
            "\n",
            "2021-05-12 05:01:13 - Accuracy with Manhatten-Distance:           88.60\t(Threshold: 359.7927)\n",
            "2021-05-12 05:01:13 - F1 with Manhatten-Distance:                 88.31\t(Threshold: 421.9900)\n",
            "2021-05-12 05:01:13 - Precision with Manhatten-Distance:          86.22\n",
            "2021-05-12 05:01:13 - Recall with Manhatten-Distance:             90.50\n",
            "2021-05-12 05:01:13 - Average Precision with Manhatten-Distance:  94.60\n",
            "\n",
            "2021-05-12 05:01:13 - Accuracy with Euclidean-Distance:           88.70\t(Threshold: 17.2405)\n",
            "2021-05-12 05:01:13 - F1 with Euclidean-Distance:                 88.62\t(Threshold: 20.2219)\n",
            "2021-05-12 05:01:13 - Precision with Euclidean-Distance:          85.71\n",
            "2021-05-12 05:01:13 - Recall with Euclidean-Distance:             91.74\n",
            "2021-05-12 05:01:13 - Average Precision with Euclidean-Distance:  94.73\n",
            "\n"
          ],
          "name": "stdout"
        },
        {
          "output_type": "execute_result",
          "data": {
            "text/plain": [
              "0.9470137769515997"
            ]
          },
          "metadata": {
            "tags": []
          },
          "execution_count": 116
        }
      ]
    },
    {
      "cell_type": "code",
      "metadata": {
        "id": "SdZEfYDIuWCu",
        "colab": {
          "base_uri": "https://localhost:8080/",
          "height": 152,
          "referenced_widgets": [
            "ce7612f5152a41bea5313dfc30b5d687",
            "351402a4a7034169a6898d5fb80c8e44",
            "58d0e768fb104eb78a1b8510c3c0c3e1",
            "f4646864435448ee828e803d034b7ee0",
            "19b0a803891b47e19aa11ec9acf552e6",
            "9e0a863a5e894765a6545935323133e5",
            "f733f90b88cf4bf19f0bcdbce4d9ece2",
            "49682a3de2094326a4e05b07d85745c0",
            "ef75fd074fa14869ad982bae99b7105b",
            "3b959805d14543e3b5ae38e487012bf9",
            "ae3ae95da8f34c37a2ebe1e698f1c631",
            "a0d6c5681e9f43559a2ff676d7912df3",
            "a7e96e24aaf94b40b6e2e17a1f0764df",
            "8f6556a814724cca854fde5cd800e2a2",
            "c2152c9db5f24fba9d3f69cc46c54160",
            "5da9d91dd04b4645b2edb78e75d6eabc"
          ]
        },
        "outputId": "0e1733a6-ef92-486f-cf90-2a02aa75821c"
      },
      "source": [
        "import pandas as pd\n",
        "\n",
        "# Load the dataset into a pandas dataframe.\n",
        "df_test = pd.read_csv(\"/content/sample_data/sentence_pair_unique.csv\")\n",
        "\n",
        "# Report the number of sentences.\n",
        "print('Number of training sentences: {:,}\\n'.format(df_test.shape[0]))\n",
        "\n",
        "# Display 5 random rows from the data.\n",
        "df_test.sample(1)\n",
        "\n",
        "# Get the lists of sentences and their labels.\n",
        "sent1 = df_test.sent1_text.values\n",
        "sent2 = df_test.sent2_text.values\n",
        "sent1 = sent1.tolist()\n",
        "sent2 = sent2.tolist()\n",
        "\n",
        "sent1_embeddings = model.encode(sent1)\n",
        "sent1_embeddings.shape\n",
        "\n",
        "sent2_embeddings = model.encode(sent2)\n",
        "sent2_embeddings.shape\n",
        "\n",
        "from sklearn.metrics.pairwise import cosine_similarity\n",
        "import scipy\n",
        "import pandas as pd\n",
        "import numpy as np\n",
        "\n",
        "\n",
        "cos_list = []\n",
        "cos2_list = []\n",
        "\n",
        "for j in range(len(sent1_embeddings)):\n",
        "  sent1 = sent1_embeddings[j]\n",
        "  sent2 = sent2_embeddings[j]\n",
        "  cos = 1-scipy.spatial.distance.cdist(sent1.reshape(1, -1), sent2.reshape(1, -1), \"cosine\")[0][0]\n",
        "  cos2 = cosine_similarity(sent1.reshape(1, -1), sent2.reshape(1, -1))[0][0]\n",
        "  cos_list.append(cos)\n",
        "  cos2_list.append(cos2)\n",
        "\n",
        "assert(len(cos_list)==len(df_test))\n",
        "assert(len(cos2_list)==len(df_test))\n",
        "\n",
        "df_test[\"model_similarity\"] = cos_list\n",
        "df_test[\"model_similarity2\"] = cos2_list\n",
        "\n",
        "df_test.to_csv(\"/content/sample_data/sentence_pair_sbert_yelp_\"+str(n_train)+\"_\" + trip_type + \"_pair_run1.csv\",\n",
        "                    index=None)"
      ],
      "execution_count": null,
      "outputs": [
        {
          "output_type": "stream",
          "text": [
            "Number of training sentences: 1,635\n",
            "\n"
          ],
          "name": "stdout"
        },
        {
          "output_type": "display_data",
          "data": {
            "application/vnd.jupyter.widget-view+json": {
              "model_id": "ce7612f5152a41bea5313dfc30b5d687",
              "version_minor": 0,
              "version_major": 2
            },
            "text/plain": [
              "HBox(children=(FloatProgress(value=0.0, description='Batches', max=52.0, style=ProgressStyle(description_width…"
            ]
          },
          "metadata": {
            "tags": []
          }
        },
        {
          "output_type": "stream",
          "text": [
            "\n"
          ],
          "name": "stdout"
        },
        {
          "output_type": "display_data",
          "data": {
            "application/vnd.jupyter.widget-view+json": {
              "model_id": "ef75fd074fa14869ad982bae99b7105b",
              "version_minor": 0,
              "version_major": 2
            },
            "text/plain": [
              "HBox(children=(FloatProgress(value=0.0, description='Batches', max=52.0, style=ProgressStyle(description_width…"
            ]
          },
          "metadata": {
            "tags": []
          }
        },
        {
          "output_type": "stream",
          "text": [
            "\n"
          ],
          "name": "stdout"
        }
      ]
    },
    {
      "cell_type": "markdown",
      "metadata": {
        "id": "ee5GzFtds7Cb"
      },
      "source": [
        "## Triplet Network Training"
      ]
    },
    {
      "cell_type": "code",
      "metadata": {
        "id": "0yGQllWl7zyE",
        "colab": {
          "base_uri": "https://localhost:8080/",
          "height": 247,
          "referenced_widgets": [
            "824ea5b9d8494bf09e44ea1d18d679ca",
            "181fd5e114a848c69943c9fff6e88392",
            "4e90cd005746457faf49a2bb65e6c921",
            "b030b6c6c0a5467abf6a94aa5b5d3e16",
            "bf34a1d97662446dbead518be557595e",
            "b0e818b6da124220861b6f6bd25b5845",
            "4b29ba74b785478fbd14ba9289f0d3d6",
            "fa8912029a8540748bfa69d1abdd1d90"
          ]
        },
        "outputId": "2b703b33-4778-4698-b89c-384be91010c1"
      },
      "source": [
        "### Create a torch.DataLoader that passes training batch instances to our model\n",
        "\n",
        "model_name = 'stsb-bert-base'\n",
        "train_batch_size = 8\n",
        "output_path = \"output/training-yelp-triplets-\"+model_name+\"-\"+datetime.now().strftime(\"%Y-%m-%d_%H-%M-%S\")\n",
        "num_epochs = 1\n",
        "# n_train = 1000 \n",
        "n_train = 3000\n",
        "# n_train = 8000\n",
        "trip_margin = 9.0\n",
        "trip_type = \"firstsentence\"\n",
        "\n",
        "model = SentenceTransformer(model_name)"
      ],
      "execution_count": null,
      "outputs": [
        {
          "output_type": "stream",
          "text": [
            "2021-05-13 03:09:57 - Load pretrained SentenceTransformer: stsb-bert-base\n",
            "2021-05-13 03:09:57 - Did not find folder stsb-bert-base\n",
            "2021-05-13 03:09:57 - Search model on server: http://sbert.net/models/stsb-bert-base.zip\n",
            "2021-05-13 03:09:57 - Downloading sentence transformer model from http://sbert.net/models/stsb-bert-base.zip and saving it at /root/.cache/torch/sentence_transformers/sbert.net_models_stsb-bert-base\n"
          ],
          "name": "stdout"
        },
        {
          "output_type": "display_data",
          "data": {
            "application/vnd.jupyter.widget-view+json": {
              "model_id": "824ea5b9d8494bf09e44ea1d18d679ca",
              "version_minor": 0,
              "version_major": 2
            },
            "text/plain": [
              "HBox(children=(FloatProgress(value=0.0, max=405233603.0), HTML(value='')))"
            ]
          },
          "metadata": {
            "tags": []
          }
        },
        {
          "output_type": "stream",
          "text": [
            "\n",
            "2021-05-13 03:10:26 - Load SentenceTransformer from folder: /root/.cache/torch/sentence_transformers/sbert.net_models_stsb-bert-base\n"
          ],
          "name": "stdout"
        },
        {
          "output_type": "stream",
          "text": [
            "Some weights of the model checkpoint at /root/.cache/torch/sentence_transformers/sbert.net_models_stsb-bert-base/0_BERT were not used when initializing BertModel: ['classifier.bias', 'classifier.weight']\n",
            "- This IS expected if you are initializing BertModel from the checkpoint of a model trained on another task or with another architecture (e.g. initializing a BertForSequenceClassification model from a BertForPreTraining model).\n",
            "- This IS NOT expected if you are initializing BertModel from the checkpoint of a model that you expect to be exactly identical (initializing a BertForSequenceClassification model from a BertForSequenceClassification model).\n"
          ],
          "name": "stderr"
        },
        {
          "output_type": "stream",
          "text": [
            "2021-05-13 03:10:27 - Use pytorch device: cuda\n"
          ],
          "name": "stdout"
        }
      ]
    },
    {
      "cell_type": "code",
      "metadata": {
        "id": "l5ymxCQhEudR",
        "colab": {
          "base_uri": "https://localhost:8080/"
        },
        "outputId": "25a11c2b-8072-4cf2-cf51-dbd6ca117f39"
      },
      "source": [
        "logger.info(\"Read Triplet train dataset\")\n",
        "train_examples = []\n",
        "with open(\"/content/sample_data/yelp_triplets_train_10000_\" + trip_type + \".csv\", encoding=\"utf-8\") as fIn:\n",
        "    reader = csv.DictReader(fIn)\n",
        "    for row in reader:\n",
        "        train_examples.append(InputExample(texts=[row['anchor_text'], row['same_text'], row['diff_text']], label=0))"
      ],
      "execution_count": null,
      "outputs": [
        {
          "output_type": "stream",
          "text": [
            "2021-05-13 03:10:27 - Read Triplet train dataset\n"
          ],
          "name": "stdout"
        }
      ]
    },
    {
      "cell_type": "code",
      "metadata": {
        "colab": {
          "base_uri": "https://localhost:8080/"
        },
        "id": "VCYRA1NMEYH3",
        "outputId": "9c7c5596-6a7e-4f53-bc37-94832919d35a"
      },
      "source": [
        "len(train_examples)"
      ],
      "execution_count": null,
      "outputs": [
        {
          "output_type": "execute_result",
          "data": {
            "text/plain": [
              "10000"
            ]
          },
          "metadata": {
            "tags": []
          },
          "execution_count": 6
        }
      ]
    },
    {
      "cell_type": "code",
      "metadata": {
        "id": "g7gY-fIRP-cI"
      },
      "source": [
        "test_examples = train_examples[0:1000]\n",
        "dev_examples = train_examples[1000:2000]\n",
        "train_examples = train_examples[2000:(2000+n_train)]"
      ],
      "execution_count": null,
      "outputs": []
    },
    {
      "cell_type": "code",
      "metadata": {
        "colab": {
          "base_uri": "https://localhost:8080/"
        },
        "id": "az3dTtNqvPm6",
        "outputId": "d664b397-016b-4c78-a9de-71a74745bf4f"
      },
      "source": [
        "print(len(test_examples))\n",
        "print(len(dev_examples))\n",
        "print(len(train_examples))"
      ],
      "execution_count": null,
      "outputs": [
        {
          "output_type": "stream",
          "text": [
            "1000\n",
            "1000\n",
            "3000\n"
          ],
          "name": "stdout"
        }
      ]
    },
    {
      "cell_type": "code",
      "metadata": {
        "id": "C-DQGRjqE4ls"
      },
      "source": [
        "train_dataloader = DataLoader(train_examples, shuffle=True, batch_size=train_batch_size)\n",
        "train_loss = losses.TripletLoss(model=model, triplet_margin= trip_margin)"
      ],
      "execution_count": null,
      "outputs": []
    },
    {
      "cell_type": "code",
      "metadata": {
        "id": "2z1Ub0qDE8dM",
        "colab": {
          "base_uri": "https://localhost:8080/"
        },
        "outputId": "8d4677f8-a8e3-402c-e239-99dda721efee"
      },
      "source": [
        "len(train_dataloader)"
      ],
      "execution_count": null,
      "outputs": [
        {
          "output_type": "execute_result",
          "data": {
            "text/plain": [
              "375"
            ]
          },
          "metadata": {
            "tags": []
          },
          "execution_count": 10
        }
      ]
    },
    {
      "cell_type": "code",
      "metadata": {
        "id": "hbuQmdzg8AbT",
        "colab": {
          "base_uri": "https://localhost:8080/"
        },
        "outputId": "962f5d46-e502-4360-b712-7a75aa09d77e"
      },
      "source": [
        "logger.info(\"Read Yelp Triplet dev dataset\")\n",
        "\n",
        "evaluator = TripletEvaluator.from_input_examples(dev_examples, name='yelp-dev_sbertft_' + str(n_train) + \"_\" + trip_type + \"_margin\" + str(int(trip_margin))+ \"_run1\")\n",
        "\n",
        "warmup_steps = int(len(train_dataloader) * num_epochs * 0.1) #10% of train data\n"
      ],
      "execution_count": null,
      "outputs": [
        {
          "output_type": "stream",
          "text": [
            "2021-05-13 03:10:53 - Read Yelp Triplet dev dataset\n"
          ],
          "name": "stdout"
        }
      ]
    },
    {
      "cell_type": "code",
      "metadata": {
        "id": "LnwO-Z5w0TaO"
      },
      "source": [
        "import torch\n",
        "torch.cuda.empty_cache()"
      ],
      "execution_count": null,
      "outputs": []
    },
    {
      "cell_type": "code",
      "metadata": {
        "colab": {
          "base_uri": "https://localhost:8080/",
          "height": 350,
          "referenced_widgets": [
            "297e24e3389d44a1b652abb48406801d",
            "b86940f71df746c5831a5ee585dfcb2c",
            "3c2d3fd4c68e4acda2979d32b58ac2c4",
            "66d4f0e6d1724932bafc348ac456ae43",
            "7c45cb30ff6a42a58680fa693bd8df9a",
            "e0fc4fb1ad81458796b27b9a2076f014",
            "07ae903870684bae9c54df71d9740fce",
            "68811e3386764a1aa5c216ccee8c8e81",
            "b3eaa864d6c144dd934986f0167d5572",
            "62632704ece24cfea07f71423aebf72d",
            "d6c5672084ac4bad98f4e6d1ba194b60",
            "44363b9e0ee24449b7533f7801255966",
            "0517a01aa8c44d9caf096775e56a14c6",
            "ce19d3e168874da081db87e4c1957eb9",
            "2877c1efcd814cc39b004f0679908e2c",
            "c2aedabe4d9d4aabb1970861625b1fec"
          ]
        },
        "id": "u1ySHEPs8I-U",
        "outputId": "ca4eaa3c-1784-4de2-fe4a-eb6b3ff248a1"
      },
      "source": [
        "# Train the model\n",
        "model.fit(train_objectives=[(train_dataloader, train_loss)],\n",
        "          evaluator=evaluator,\n",
        "          epochs=num_epochs,\n",
        "          evaluation_steps=200,\n",
        "          warmup_steps=warmup_steps,\n",
        "          output_path=output_path)"
      ],
      "execution_count": null,
      "outputs": [
        {
          "output_type": "display_data",
          "data": {
            "application/vnd.jupyter.widget-view+json": {
              "model_id": "297e24e3389d44a1b652abb48406801d",
              "version_minor": 0,
              "version_major": 2
            },
            "text/plain": [
              "HBox(children=(FloatProgress(value=0.0, description='Epoch', max=1.0, style=ProgressStyle(description_width='i…"
            ]
          },
          "metadata": {
            "tags": []
          }
        },
        {
          "output_type": "display_data",
          "data": {
            "application/vnd.jupyter.widget-view+json": {
              "model_id": "b3eaa864d6c144dd934986f0167d5572",
              "version_minor": 0,
              "version_major": 2
            },
            "text/plain": [
              "HBox(children=(FloatProgress(value=0.0, description='Iteration', max=375.0, style=ProgressStyle(description_wi…"
            ]
          },
          "metadata": {
            "tags": []
          }
        },
        {
          "output_type": "stream",
          "text": [
            "2021-05-13 03:11:53 - TripletEvaluator: Evaluating the model on yelp-dev_sbertft_3000_firstsentence_margin9_run1 dataset in epoch 0 after 200 steps:\n",
            "2021-05-13 03:11:57 - Accuracy Cosine Distance:   \t70.10\n",
            "2021-05-13 03:11:57 - Accuracy Manhatten Distance:\t70.30\n",
            "2021-05-13 03:11:57 - Accuracy Euclidean Distance:\t70.30\n",
            "\n",
            "2021-05-13 03:11:57 - Save model to output/training-yelp-triplets-stsb-bert-base-2021-05-13_03-09-57\n",
            "\n",
            "2021-05-13 03:12:38 - TripletEvaluator: Evaluating the model on yelp-dev_sbertft_3000_firstsentence_margin9_run1 dataset after epoch 0:\n",
            "2021-05-13 03:12:42 - Accuracy Cosine Distance:   \t71.20\n",
            "2021-05-13 03:12:42 - Accuracy Manhatten Distance:\t72.10\n",
            "2021-05-13 03:12:42 - Accuracy Euclidean Distance:\t71.90\n",
            "\n",
            "2021-05-13 03:12:42 - Save model to output/training-yelp-triplets-stsb-bert-base-2021-05-13_03-09-57\n",
            "\n"
          ],
          "name": "stdout"
        }
      ]
    },
    {
      "cell_type": "code",
      "metadata": {
        "colab": {
          "base_uri": "https://localhost:8080/"
        },
        "id": "j0fhkf177E9P",
        "outputId": "8688e3be-e347-4516-a3f7-8fa275303a5a"
      },
      "source": [
        "##############################################################################\n",
        "#\n",
        "# Load the stored model and evaluate its performance on STS benchmark dataset\n",
        "#\n",
        "##############################################################################\n",
        "\n",
        "logger.info(\"Read test examples\")\n",
        "model = SentenceTransformer(output_path)\n",
        "test_evaluator = TripletEvaluator.from_input_examples(test_examples, name='yelp-test_sbertft_' + str(n_train) + \"_\" + trip_type + \"_margin\" + str(int(trip_margin))+ \"_run1\")\n",
        "test_evaluator(model, output_path=output_path)"
      ],
      "execution_count": null,
      "outputs": [
        {
          "output_type": "stream",
          "text": [
            "2021-05-13 03:12:44 - Read test examples\n",
            "2021-05-13 03:12:44 - Load pretrained SentenceTransformer: output/training-yelp-triplets-stsb-bert-base-2021-05-13_03-09-57\n",
            "2021-05-13 03:12:44 - Load SentenceTransformer from folder: output/training-yelp-triplets-stsb-bert-base-2021-05-13_03-09-57\n",
            "2021-05-13 03:12:45 - Use pytorch device: cuda\n",
            "2021-05-13 03:12:45 - TripletEvaluator: Evaluating the model on yelp-test_sbertft_3000_firstsentence_margin9_run1 dataset:\n",
            "2021-05-13 03:12:50 - Accuracy Cosine Distance:   \t71.30\n",
            "2021-05-13 03:12:50 - Accuracy Manhatten Distance:\t70.90\n",
            "2021-05-13 03:12:50 - Accuracy Euclidean Distance:\t70.70\n",
            "\n"
          ],
          "name": "stdout"
        },
        {
          "output_type": "execute_result",
          "data": {
            "text/plain": [
              "0.713"
            ]
          },
          "metadata": {
            "tags": []
          },
          "execution_count": 14
        }
      ]
    },
    {
      "cell_type": "code",
      "metadata": {
        "id": "3KBiZjYXz25H"
      },
      "source": [
        "## Baseline for SBERT## \n",
        "\n",
        "## # logger.info(\"Read test examples\")\n",
        "# model = SentenceTransformer(model_name)\n",
        "# test_evaluator = TripletEvaluator.from_input_examples(test_examples, name='yelp-test')\n",
        "# test_evaluator(model, output_path=output_path)"
      ],
      "execution_count": null,
      "outputs": []
    },
    {
      "cell_type": "code",
      "metadata": {
        "colab": {
          "base_uri": "https://localhost:8080/",
          "height": 205,
          "referenced_widgets": [
            "2ed530c690c04ed0a35953536dd33b46",
            "d61cdb9626b0449da7321651670158c8",
            "752231477feb4084bc599b28871fb62a",
            "7fc9719a8d4d49eb8fd95e62c6e2dae5",
            "04f0541cc0204a5f865481b043e847ef",
            "ae70bd8b20a44239826c4d1394d0ce9d",
            "d46b09b0c7cd47b98b916d1098671251",
            "459910285ba140dbb4a571f3c72b1df1",
            "5247f60e583c452595110d12d6d4732f",
            "8acf6e24bb5f46a1b1b929498ceff5b6",
            "d76de42d67ee441387489693ae720368",
            "96e6f58e4e3d428a90fa1e5dbf5e84ae",
            "39a2a54fbf1441299a2bfee17b66d2b8",
            "a5aa60336b884ecc8f4f5afb5f129121",
            "060b17bec1914b90a562ed578c6b4e0f",
            "379e707ddfee4b85aa81805b20a96dde"
          ]
        },
        "id": "zxbRSxRE_wwD",
        "outputId": "81f71b06-af4e-4b14-b3ac-1b58e59f7a2d"
      },
      "source": [
        "import pandas as pd\n",
        "\n",
        "model = SentenceTransformer(output_path)\n",
        "# Load the dataset into a pandas dataframe.\n",
        "df_test = pd.read_csv(\"/content/sample_data/sentence_pair_unique.csv\")\n",
        "\n",
        "# Report the number of sentences.\n",
        "print('Number of training sentences: {:,}\\n'.format(df_test.shape[0]))\n",
        "\n",
        "# Display 5 random rows from the data.\n",
        "df_test.sample(1)\n",
        "\n",
        "# Get the lists of sentences and their labels.\n",
        "sent1 = df_test.sent1_text.values\n",
        "sent2 = df_test.sent2_text.values\n",
        "sent1 = sent1.tolist()\n",
        "sent2 = sent2.tolist()\n",
        "\n",
        "sent1_embeddings = model.encode(sent1)\n",
        "sent1_embeddings.shape\n",
        "\n",
        "sent2_embeddings = model.encode(sent2)\n",
        "sent2_embeddings.shape\n",
        "\n",
        "from sklearn.metrics.pairwise import cosine_similarity\n",
        "import scipy\n",
        "import pandas as pd\n",
        "import numpy as np\n",
        "\n",
        "\n",
        "cos_list = []\n",
        "cos2_list = []\n",
        "\n",
        "for j in range(len(sent1_embeddings)):\n",
        "  sent1 = sent1_embeddings[j]\n",
        "  sent2 = sent2_embeddings[j]\n",
        "  cos = 1-scipy.spatial.distance.cdist(sent1.reshape(1, -1), sent2.reshape(1, -1), \"cosine\")[0][0]\n",
        "  cos2 = cosine_similarity(sent1.reshape(1, -1), sent2.reshape(1, -1))[0][0]\n",
        "  cos_list.append(cos)\n",
        "  cos2_list.append(cos2)\n",
        "\n",
        "assert(len(cos_list)==len(df_test))\n",
        "assert(len(cos2_list)==len(df_test))\n",
        "\n",
        "df_test[\"model_similarity\"] = cos_list\n",
        "df_test[\"model_similarity2\"] = cos2_list\n",
        "\n",
        "\n",
        "df_test.to_csv(\"/content/sample_data/sentence_pair_sbert_yelp_\"+str(n_train)+\"_\" + trip_type + \"_triplet_margin\" + str(int(trip_margin)) + \"_run1.csv\",\n",
        "                    index=None)"
      ],
      "execution_count": null,
      "outputs": [
        {
          "output_type": "stream",
          "text": [
            "2021-05-13 03:12:50 - Load pretrained SentenceTransformer: output/training-yelp-triplets-stsb-bert-base-2021-05-13_03-09-57\n",
            "2021-05-13 03:12:50 - Load SentenceTransformer from folder: output/training-yelp-triplets-stsb-bert-base-2021-05-13_03-09-57\n",
            "2021-05-13 03:12:51 - Use pytorch device: cuda\n",
            "Number of training sentences: 1,635\n",
            "\n"
          ],
          "name": "stdout"
        },
        {
          "output_type": "display_data",
          "data": {
            "application/vnd.jupyter.widget-view+json": {
              "model_id": "2ed530c690c04ed0a35953536dd33b46",
              "version_minor": 0,
              "version_major": 2
            },
            "text/plain": [
              "HBox(children=(FloatProgress(value=0.0, description='Batches', max=52.0, style=ProgressStyle(description_width…"
            ]
          },
          "metadata": {
            "tags": []
          }
        },
        {
          "output_type": "stream",
          "text": [
            "\n"
          ],
          "name": "stdout"
        },
        {
          "output_type": "display_data",
          "data": {
            "application/vnd.jupyter.widget-view+json": {
              "model_id": "5247f60e583c452595110d12d6d4732f",
              "version_minor": 0,
              "version_major": 2
            },
            "text/plain": [
              "HBox(children=(FloatProgress(value=0.0, description='Batches', max=52.0, style=ProgressStyle(description_width…"
            ]
          },
          "metadata": {
            "tags": []
          }
        },
        {
          "output_type": "stream",
          "text": [
            "\n"
          ],
          "name": "stdout"
        }
      ]
    },
    {
      "cell_type": "code",
      "metadata": {
        "colab": {
          "base_uri": "https://localhost:8080/"
        },
        "id": "_iCVoVmPGWoN",
        "outputId": "a86d3ad8-6be7-40d0-f7d8-f3c1ed8b210c"
      },
      "source": [
        "import gzip\n",
        "\n",
        "\n",
        "sts_dataset_path = 'datasets/stsbenchmark.tsv.gz'\n",
        "\n",
        "if not os.path.exists(sts_dataset_path):\n",
        "    util.http_get('https://sbert.net/datasets/stsbenchmark.tsv.gz', sts_dataset_path)\n",
        "\n",
        "\n",
        "logging.info(\"Read STSbenchmark train dataset\")\n",
        "train_sts_samples = []\n",
        "dev_sts_samples = []\n",
        "test_sts_samples = []\n",
        "with gzip.open(sts_dataset_path, 'rt', encoding='utf8') as fIn:\n",
        "    reader = csv.DictReader(fIn, delimiter='\\t', quoting=csv.QUOTE_NONE)\n",
        "    for row in reader:\n",
        "        score = float(row['score']) / 5.0  # Normalize score to range 0 ... 1\n",
        "        inp_example = InputExample(texts=[row['sentence1'], row['sentence2']], label=score)\n",
        "\n",
        "        if row['split'] == 'dev':\n",
        "            dev_sts_samples.append(inp_example)\n",
        "        elif row['split'] == 'test':\n",
        "            test_sts_samples.append(inp_example)\n",
        "        else:\n",
        "            train_sts_samples.append(inp_example)\n",
        "\n",
        "\n",
        "\n",
        "\n",
        "##############################################################################\n",
        "#\n",
        "# Load the stored model and evaluate its performance on STS benchmark dataset\n",
        "#\n",
        "##############################################################################\n",
        "\n",
        "model = SentenceTransformer(output_path)\n",
        "test_evaluator = EmbeddingSimilarityEvaluator.from_input_examples(test_sts_samples, name='sts-test')\n",
        "test_evaluator(model, output_path=output_path)\n"
      ],
      "execution_count": null,
      "outputs": [
        {
          "output_type": "stream",
          "text": [
            "2021-05-03 02:44:58 - Read STSbenchmark train dataset\n",
            "2021-05-03 02:44:58 - Load pretrained SentenceTransformer: output/training-wikipedia-sections-distilbert-base-uncased-2021-05-03_01-58-18\n",
            "2021-05-03 02:44:58 - Load SentenceTransformer from folder: output/training-wikipedia-sections-distilbert-base-uncased-2021-05-03_01-58-18\n",
            "2021-05-03 02:44:59 - Use pytorch device: cuda\n",
            "2021-05-03 02:44:59 - EmbeddingSimilarityEvaluator: Evaluating the model on sts-test dataset:\n",
            "2021-05-03 02:45:01 - Cosine-Similarity :\tPearson: 0.5180\tSpearman: 0.5217\n",
            "2021-05-03 02:45:01 - Manhattan-Distance:\tPearson: 0.5411\tSpearman: 0.5348\n",
            "2021-05-03 02:45:01 - Euclidean-Distance:\tPearson: 0.5412\tSpearman: 0.5353\n",
            "2021-05-03 02:45:01 - Dot-Product-Similarity:\tPearson: 0.3125\tSpearman: 0.2936\n"
          ],
          "name": "stdout"
        },
        {
          "output_type": "execute_result",
          "data": {
            "text/plain": [
              "0.5353330741570357"
            ]
          },
          "metadata": {
            "tags": []
          },
          "execution_count": 28
        }
      ]
    },
    {
      "cell_type": "code",
      "metadata": {
        "colab": {
          "base_uri": "https://localhost:8080/"
        },
        "id": "VyD5nupmIROE",
        "outputId": "94d35a79-8784-4b77-bd9b-4d00d2f205df"
      },
      "source": [
        "len(test_sts_samples)"
      ],
      "execution_count": null,
      "outputs": [
        {
          "output_type": "execute_result",
          "data": {
            "text/plain": [
              "1635"
            ]
          },
          "metadata": {
            "tags": []
          },
          "execution_count": 42
        }
      ]
    },
    {
      "cell_type": "code",
      "metadata": {
        "id": "N81da-tQJ3pY"
      },
      "source": [
        ""
      ],
      "execution_count": null,
      "outputs": []
    }
  ]
}